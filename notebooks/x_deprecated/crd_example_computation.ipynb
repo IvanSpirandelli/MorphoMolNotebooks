{
 "cells": [
  {
   "cell_type": "code",
   "execution_count": 2,
   "metadata": {},
   "outputs": [
    {
     "name": "stderr",
     "output_type": "stream",
     "text": [
      "\u001b[32m\u001b[1m  Activating\u001b[22m\u001b[39m project at `~/Doktor/Code/MorphoMol/MorphoMolNotebooks`\n"
     ]
    }
   ],
   "source": [
    "import Pkg; \n",
    "\n",
    "if split(pwd(),\"/\")[end] == \"utility\"\n",
    "    cd(joinpath(@__DIR__, \"../../\"))\n",
    "    Pkg.activate(\"Project.toml\")\n",
    "end\n",
    "\n",
    "using MorphoMolNotebooks\n",
    "using MorphoMol"
   ]
  },
  {
   "cell_type": "code",
   "execution_count": 2,
   "metadata": {},
   "outputs": [],
   "source": [
    "lines = readlines(\"assets/max.crd\")\n",
    "points = Vector{Vector{Float64}}([])\n",
    "radii = Vector{Float64}([])\n",
    "for line in lines\n",
    "    push!(points, map(x->parse(Float64, x), split(line))[1:3])\n",
    "    push!(radii, parse(Float64, split(line)[4]))\n",
    "end\n",
    "points, radii\n",
    "points = vcat(points...);"
   ]
  },
  {
   "cell_type": "code",
   "execution_count": 3,
   "metadata": {},
   "outputs": [
    {
     "data": {
      "text/plain": [
       "4-element Vector{Float64}:\n",
       " 28210.161745502366\n",
       " 31931.290596546136\n",
       "  7683.96306805478\n",
       " -4347.964232568273"
      ]
     },
     "execution_count": 3,
     "metadata": {},
     "output_type": "execute_result"
    }
   ],
   "source": [
    "MorphoMol.Energies.get_geometric_measures(points, radii, 0.0, 100.0)"
   ]
  },
  {
   "cell_type": "code",
   "execution_count": 4,
   "metadata": {},
   "outputs": [
    {
     "data": {
      "text/plain": [
       "4-element Vector{Float64}:\n",
       " 14.191621213816292\n",
       " 33.17521842190822\n",
       " 23.540276903519608\n",
       " 12.566370614359174"
      ]
     },
     "execution_count": 4,
     "metadata": {},
     "output_type": "execute_result"
    }
   ],
   "source": [
    "points = [0.0, 0.0, 0.0, 2.0, 0.0, 0.0]\n",
    "radii = [1.0, 1.0]\n",
    "\n",
    "rs = 0.2\n",
    "MorphoMol.Energies.get_geometric_measures(points, radii, rs, 10.0)"
   ]
  },
  {
   "cell_type": "code",
   "execution_count": 3,
   "metadata": {},
   "outputs": [
    {
     "data": {
      "text/plain": [
       "4-element StaticArraysCore.SVector{4, Float64} with indices SOneTo(4):\n",
       " 11.651599641032103\n",
       " -3.4997295071561396\n",
       "  1.1658326599231408\n",
       " -0.12910900136705247"
      ]
     },
     "execution_count": 3,
     "metadata": {},
     "output_type": "execute_result"
    }
   ],
   "source": [
    "MorphoMol.Energies.get_prefactors(0.475, 0.475)"
   ]
  },
  {
   "cell_type": "code",
   "execution_count": 5,
   "metadata": {},
   "outputs": [
    {
     "data": {
      "text/plain": [
       "4-element StaticArraysCore.SVector{4, Float64} with indices SOneTo(4):\n",
       "  0.15609047253484215\n",
       " -0.197406617513026\n",
       "  0.2768852567317459\n",
       " -0.12910900136705247"
      ]
     },
     "execution_count": 5,
     "metadata": {},
     "output_type": "execute_result"
    }
   ],
   "source": [
    "MorphoMol.Energies.get_prefactors(2.0, 0.475)"
   ]
  }
 ],
 "metadata": {
  "kernelspec": {
   "display_name": "julia_oineus 1.10.6",
   "language": "julia",
   "name": "julia_oineus-1.10"
  },
  "language_info": {
   "file_extension": ".jl",
   "mimetype": "application/julia",
   "name": "julia",
   "version": "1.10.6"
  }
 },
 "nbformat": 4,
 "nbformat_minor": 2
}
