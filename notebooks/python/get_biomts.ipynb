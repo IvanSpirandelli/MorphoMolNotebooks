{
 "cells": [
  {
   "cell_type": "code",
   "execution_count": 5,
   "metadata": {},
   "outputs": [],
   "source": [
    "from scipy.spatial.transform import Rotation as R\n",
    "import numpy as np\n",
    "\n",
    "def get_biomts(pdb_file):\n",
    "    rotations = []\n",
    "    translations = []\n",
    "\n",
    "    relevant_lines = []\n",
    "    with open(pdb_file) as input_file:\n",
    "        for i, line in enumerate(input_file):\n",
    "            line_as_list = line.split(\" \")\n",
    "            line_as_list = [\n",
    "                word\n",
    "                for word in line_as_list\n",
    "                if word not in [\"\", \"\\n\"]\n",
    "                and line_as_list[0] == \"REMARK\"\n",
    "                and line_as_list[1] == \"350\"\n",
    "            ]\n",
    "\n",
    "            if len(line_as_list) > 3:\n",
    "                line_as_list = [\n",
    "                    word\n",
    "                    for word in line_as_list\n",
    "                    if word not in [\"\", \"\\n\"] and \"BIOMT\" in line_as_list[2]\n",
    "                ]\n",
    "                if len(line_as_list) != 0:\n",
    "                    relevant_lines.append(line_as_list[3:])\n",
    "\n",
    "    for i in range(0, len(relevant_lines), 3):\n",
    "        r = R.from_matrix(\n",
    "            [\n",
    "                [\n",
    "                    float(relevant_lines[i][1]),\n",
    "                    float(relevant_lines[i][2]),\n",
    "                    float(relevant_lines[i][3]),\n",
    "                ],\n",
    "                [\n",
    "                    float(relevant_lines[i + 1][1]),\n",
    "                    float(relevant_lines[i + 1][2]),\n",
    "                    float(relevant_lines[i + 1][3]),\n",
    "                ],\n",
    "                [\n",
    "                    float(relevant_lines[i + 2][1]),\n",
    "                    float(relevant_lines[i + 2][2]),\n",
    "                    float(relevant_lines[i + 2][3]),\n",
    "                ],\n",
    "            ]\n",
    "        )\n",
    "        t = np.array(\n",
    "            [\n",
    "                float(relevant_lines[i][4]),\n",
    "                float(relevant_lines[i + 1][4]),\n",
    "                float(relevant_lines[i + 2][4]),\n",
    "            ]\n",
    "        )\n",
    "        rotations.append(r)\n",
    "        translations.append(t)\n",
    "    return rotations, translations"
   ]
  },
  {
   "cell_type": "code",
   "execution_count": 7,
   "metadata": {},
   "outputs": [],
   "source": [
    "Rs, Ts = get_biomts(\"../../assets/pdbs/6r7m.pdb\")"
   ]
  },
  {
   "cell_type": "code",
   "execution_count": 17,
   "metadata": {},
   "outputs": [
    {
     "data": {
      "text/plain": [
       "array([[ 0.52145615,  0.85327808,  0.        ],\n",
       "       [-0.85327808,  0.52145615, -0.        ],\n",
       "       [-0.        ,  0.        ,  1.        ]])"
      ]
     },
     "execution_count": 17,
     "metadata": {},
     "output_type": "execute_result"
    }
   ],
   "source": [
    "Rs[17].as_matrix()"
   ]
  }
 ],
 "metadata": {
  "kernelspec": {
   "display_name": "python_oineus",
   "language": "python",
   "name": "python_oineus"
  },
  "language_info": {
   "codemirror_mode": {
    "name": "ipython",
    "version": 3
   },
   "file_extension": ".py",
   "mimetype": "text/x-python",
   "name": "python",
   "nbconvert_exporter": "python",
   "pygments_lexer": "ipython3",
   "version": "3.13.0"
  }
 },
 "nbformat": 4,
 "nbformat_minor": 2
}
