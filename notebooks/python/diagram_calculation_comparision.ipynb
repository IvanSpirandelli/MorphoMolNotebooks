{
 "cells": [
  {
   "cell_type": "code",
   "execution_count": 2,
   "metadata": {},
   "outputs": [],
   "source": [
    "import oineus as oin\n",
    "import numpy as np\n",
    "import torch\n",
    "import diode\n",
    "import dionysus"
   ]
  },
  {
   "cell_type": "code",
   "execution_count": 3,
   "metadata": {},
   "outputs": [],
   "source": [
    "def get_oineus_diagram(points):\n",
    "    points = np.asarray(points)\n",
    "    simplices = diode.fill_alpha_shapes(points)\n",
    "    \n",
    "    fil = oin.Filtration_double([oin.Simplex_double(s[0], s[1]) for s in simplices])\n",
    "    # second argument: True for cohomology, False for homology (incorrect for subfiltration)\n",
    "    dcmp = oin.Decomposition(fil, True)\n",
    "    params = oin.ReductionParams()\n",
    "    params.clearing_opt = False\n",
    "    dcmp.reduce(params)\n",
    "    #odgm = dcmp.diagram(fil, include_inf_points=False)\n",
    "    dgm = dcmp.diagram(fil, include_inf_points=False)#.in_dimension(2, as_numpy=False)\n",
    "    return dgm"
   ]
  },
  {
   "cell_type": "code",
   "execution_count": null,
   "metadata": {},
   "outputs": [],
   "source": [
    "def get_points(file):\n",
    "    points = []\n",
    "    with open('f.txt') as f:\n",
    "        for line in f:\n",
    "            x, y, z = line.split()\n",
    "            points.append(np.array([float(x), float(y), float(z)]))\n",
    "    return points"
   ]
  },
  {
   "cell_type": "code",
   "execution_count": null,
   "metadata": {},
   "outputs": [],
   "source": [
    "# T B C"
   ]
  }
 ],
 "metadata": {
  "kernelspec": {
   "display_name": "oineus_venv",
   "language": "python",
   "name": "python3"
  },
  "language_info": {
   "codemirror_mode": {
    "name": "ipython",
    "version": 3
   },
   "file_extension": ".py",
   "mimetype": "text/x-python",
   "name": "python",
   "nbconvert_exporter": "python",
   "pygments_lexer": "ipython3",
   "version": "3.12.5"
  }
 },
 "nbformat": 4,
 "nbformat_minor": 2
}
