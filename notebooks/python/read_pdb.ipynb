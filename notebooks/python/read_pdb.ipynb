{
 "cells": [
  {
   "cell_type": "code",
   "execution_count": 1,
   "metadata": {},
   "outputs": [],
   "source": [
    "import numpy as np"
   ]
  },
  {
   "cell_type": "code",
   "execution_count": 2,
   "metadata": {},
   "outputs": [],
   "source": [
    "def make_poly_file_from_coordinates(\n",
    "    coordinates: np.array,\n",
    "    radii: np.array,\n",
    "    file_path: str,\n",
    "    colors\n",
    "):\n",
    "    atoms_per_particle = radii.shape[0]\n",
    "    with open(file_path + \".poly\", \"w\") as file:\n",
    "        file.write(\"POINTS\\n\")\n",
    "        for i in range(len(coordinates)):\n",
    "                file.write(\n",
    "                    str(i+1)\n",
    "                    + \": \" \n",
    "                    + str(coordinates[i][0])\n",
    "                    + \" \"\n",
    "                    + str(coordinates[i][1])\n",
    "                    + \" \"\n",
    "                    + str(coordinates[i][2])\n",
    "                    + \" \"\n",
    "                    + str(radii[i])\n",
    "                    + f\" c({colors[i][0]}, {colors[i][1]}, {colors[i][2]}, {str(radii[i])})\"\n",
    "                    + \"\\n\"\n",
    "\n",
    "                )\n",
    "        file.write(\"POLYS\\nEND\")\n",
    "        file.close()"
   ]
  },
  {
   "cell_type": "code",
   "execution_count": 3,
   "metadata": {},
   "outputs": [],
   "source": [
    "colors_per_atom = {\n",
    "    \"O\": (0.8, 0.1, 0.0),\n",
    "    \"C\": (0.1, 0.8, 0.1),\n",
    "    \"P\": (1.0, 0.0, 1.0),\n",
    "    \"N\": (0.2, 0.0, 0.8),\n",
    "    \"S\": (1.0, 0.0, 0.5)\n",
    "}  "
   ]
  },
  {
   "cell_type": "code",
   "execution_count": 5,
   "metadata": {},
   "outputs": [],
   "source": [
    "import freesasa\n",
    "name = \"1stm\"\n",
    "structure = freesasa.Structure(f\"../../assets/pdbs/{name}.pdb\")\n",
    "coords = np.array([structure.coord(i) for i in range(structure.nAtoms()) if structure.chainLabel(i) in [\"A\", \"B\", \"C\", \"D\", \"E\"]])\n",
    "radii = np.array([structure.radius(i) for i in range(structure.nAtoms()) if structure.chainLabel(i) in [\"A\", \"B\", \"C\", \"D\", \"E\"]]) \n",
    "colors = []\n",
    "for i in range(structure.nAtoms()):\n",
    "    if \"O\" in structure.atomName(i):\n",
    "        colors.append((0.8, 0.1, 0.0))\n",
    "    elif \"C\" in structure.atomName(i):\n",
    "        colors.append((0.1, 0.8, 0.1))\n",
    "    elif \"P\" in structure.atomName(i):\n",
    "        colors.append((1.0, 0.0, 1.0))\n",
    "    elif \"N\" in structure.atomName(i):\n",
    "        colors.append((0.2, 0.0, 0.8))\n",
    "    elif \"S\" in structure.atomName(i):\n",
    "        colors.append((1.0, 0.0, 0.5))\n",
    "    else:\n",
    "        colors.append((0.0, 0.0, 0.0))\n",
    "make_poly_file_from_coordinates(coords, radii, f\"../../assets/polys/{name}\", colors)\n"
   ]
  }
 ],
 "metadata": {
  "kernelspec": {
   "display_name": "python_tda_313",
   "language": "python",
   "name": "python_tda_313"
  },
  "language_info": {
   "codemirror_mode": {
    "name": "ipython",
    "version": 3
   },
   "file_extension": ".py",
   "mimetype": "text/x-python",
   "name": "python",
   "nbconvert_exporter": "python",
   "pygments_lexer": "ipython3",
   "version": "3.13.1"
  },
  "orig_nbformat": 4
 },
 "nbformat": 4,
 "nbformat_minor": 2
}
