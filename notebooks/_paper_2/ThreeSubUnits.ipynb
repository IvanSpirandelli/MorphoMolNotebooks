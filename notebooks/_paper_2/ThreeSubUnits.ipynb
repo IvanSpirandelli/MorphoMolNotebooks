{
 "cells": [
  {
   "cell_type": "code",
   "execution_count": 1,
   "metadata": {},
   "outputs": [
    {
     "name": "stderr",
     "output_type": "stream",
     "text": [
      "\u001b[32m\u001b[1m  Activating\u001b[22m\u001b[39m project at `~/Doktor/Code/MorphoMol/MorphoMolNotebooks`\n"
     ]
    }
   ],
   "source": [
    "import Pkg; \n",
    "\n",
    "if split(pwd(),\"/\")[end] == \"_paper_2\"\n",
    "    cd(joinpath(@__DIR__, \"../../\"))\n",
    "    Pkg.activate(\"Project.toml\")\n",
    "end\n",
    "\n",
    "using MorphoMolNotebooks\n",
    "using MorphoMol\n",
    "\n",
    "using StaticArrays\n",
    "using Rotations\n",
    "using Distances\n",
    "using LinearAlgebra\n",
    "using CairoMakie\n",
    "using JLD2"
   ]
  },
  {
   "cell_type": "code",
   "execution_count": null,
   "metadata": {},
   "outputs": [
    {
     "name": "stdout",
     "output_type": "stream",
     "text": [
      "12993.722369664709 | ../../Data/hpc_out/rwm_ma_3_6r7m//11_rwm_ma_3_6r7m.jld2\n",
      "12998.69379283667 | ../../Data/hpc_out/rwm_ma_3_6r7m//20_rwm_ma_3_6r7m.jld2\n",
      "12985.092371807956 | ../../Data/hpc_out/rwm_ma_3_6r7m//34_rwm_ma_3_6r7m.jld2\n",
      "12984.928372519898 | ../../Data/hpc_out/rwm_ma_3_6r7m//48_rwm_ma_3_6r7m.jld2\n",
      "12999.411312928578 | ../../Data/hpc_out/rwm_ma_3_6r7m//50_rwm_ma_3_6r7m.jld2\n",
      "12991.82647684909 | ../../Data/hpc_out/rwm_ma_3_6r7m//57_rwm_ma_3_6r7m.jld2\n",
      "12998.101993074562 | ../../Data/hpc_out/rwm_ma_3_6r7m//69_rwm_ma_3_6r7m.jld2\n",
      "12978.52185657988 | ../../Data/hpc_out/rwm_ma_3_6r7m//87_rwm_ma_3_6r7m.jld2\n"
     ]
    }
   ],
   "source": [
    "# base = \"../../Data/hpc_out/rwm_ma_3_6r7m/\"\n",
    "# for dir in readdir(base)\n",
    "#     for file in readdir(\"$(base)$(dir)\")\n",
    "#         if split(file, \".\")[end] == \"jld2\"\n",
    "#             @load \"$(base)$(dir)/$(file)\" input output\n",
    "#             E_min = minimum(output[\"Es\"])\n",
    "#             # if E_min < 12200.0\n",
    "#             #     println(\"$(E_min) | $(base)$(dir)/$(file)\")\n",
    "#             # end\n",
    "#         end\n",
    "#     end\n",
    "# end\n",
    "\n",
    "folder = \"../../Data/hpc_out/rwm_ma_3_6r7m/\"\n",
    "for file in readdir(folder)\n",
    "    if split(file, \".\")[end] == \"jld2\"\n",
    "        @load \"$(folder)$(file)\" input output\n",
    "        E_min = minimum(output[\"Es\"])\n",
    "        if E_min < 13000.0\n",
    "            println(\"$(E_min) | $(folder)$(file)\")\n",
    "        end\n",
    "    end\n",
    "end"
   ]
  },
  {
   "cell_type": "code",
   "execution_count": null,
   "metadata": {},
   "outputs": [],
   "source": [
    "#file = \"../SolSim.jl_dev/io/hpc/all_data/three_monomers/protor_oj_0_0_os_0_85/6r7m/5/75_6r7m_protor_oj_0_0_os_0_85.jld2\"\n",
    "file = \"../../Data/hpc_out/rwm_ma_3_6r7m/11_rwm_ma_3_6r7m.jld2\"\n",
    "@load file input output\n",
    "\n",
    "mindex = argmin(output[\"Es\"])\n",
    "simulated_assembly_state = output[\"states\"][mindex]"
   ]
  },
  {
   "cell_type": "code",
   "execution_count": 19,
   "metadata": {},
   "outputs": [
    {
     "data": {
      "text/plain": [
       "3-element SVector{3, Float64} with indices SOneTo(3):\n",
       " -19.48193\n",
       "  22.01644\n",
       " -46.53"
      ]
     },
     "execution_count": 19,
     "metadata": {},
     "output_type": "execute_result"
    }
   ],
   "source": [
    "R1 = RotMatrix(@SMatrix[1.000000  0.000000  0.000000; 0.000000  1.000000  0.000000; 0.000000  0.000000  1.000000])\n",
    "T1 = @SVector[0.00000, 0.00000, 0.00000]\n",
    "\n",
    "R2 = RotMatrix(@SMatrix[0.628642  0.777695  0.000000; -0.777695  0.628642  0.000000; 0.000000  0.000000  1.000000])\n",
    "T2 = @SVector[-69.28043, 195.91352, -49.35000]\n",
    "\n",
    "R3 = RotMatrix(@SMatrix[0.874450  0.485115  0.000000; -0.485115  0.874450  0.000000; 0.000000  0.000000  1.000000])\n",
    "T3 = @SVector[-61.30589, 104.11829, -47.94000]\n",
    "\n",
    "R4 = RotMatrix(@SMatrix[0.992567  0.121696  0.000000; -0.121696  0.992567  0.000000; 0.000000  0.000000  1.000000])\n",
    "T4 = @SVector[-19.48193, 22.01644, -46.53000]"
   ]
  },
  {
   "cell_type": "code",
   "execution_count": 42,
   "metadata": {},
   "outputs": [],
   "source": [
    "template_centers, _ = SolSim.Utilities.poly_to_vec(\"polys/experimental/6r7m_protor.poly\") \n",
    "molecule_experimental = deepcopy(molecules)\n",
    "molecule_experimental.template_centers = template_centers\n",
    "molecule_experimental.translations = [T2, T3, T4]\n",
    "molecule_experimental.rotations = [R2, R3, R4]\n",
    "\n",
    "radii = [[molecule_experimental.radii; molecule_experimental.radii]; molecule_experimental.radii]\n",
    "\n",
    "SolSim.Utilities.vec_to_poly(SolSim.Utilities.realize_molecules(molecule_experimental), radii, \"x1\")\n",
    "SolSim.Utilities.vec_to_poly(SolSim.Utilities.realize_molecules(molecules), radii, \"x2\")"
   ]
  },
  {
   "cell_type": "code",
   "execution_count": 6,
   "metadata": {},
   "outputs": [
    {
     "data": {
      "text/plain": [
       "get_matched_distances_between_transformation_offsets (generic function with 1 method)"
      ]
     },
     "execution_count": 6,
     "metadata": {},
     "output_type": "execute_result"
    }
   ],
   "source": [
    "function get_matched_distances_between_transformation_offsets(mol_a::SolSim.DataStructures.Molecules, mol_b::SolSim.DataStructures.Molecules, subset_a::Vector{Int}, subset_b::Vector{Int})\n",
    "    function transform_dist(mol, idx, ss)\n",
    "        euclidean(mol.translations[ss[1]] + mol.rotations[ss[1]] * mol.template_centers[idx], mol.translations[ss[2]] + mol.rotations[ss[2]] * mol.template_centers[idx])\n",
    "    end\n",
    "\n",
    "    @assert length(mol_a.template_centers) == length(mol_b.template_centers) \n",
    "    @assert length(mol_a.translations) == length(mol_b.translations)\n",
    "    [abs(transform_dist(mol_a, i, subset_a) - transform_dist(mol_b, i, subset_b)) for i in 1:length(mol_a.template_centers)]\n",
    "end"
   ]
  },
  {
   "cell_type": "code",
   "execution_count": 7,
   "metadata": {},
   "outputs": [
    {
     "data": {
      "text/plain": [
       "sum_of_permutation (generic function with 1 method)"
      ]
     },
     "execution_count": 7,
     "metadata": {},
     "output_type": "execute_result"
    }
   ],
   "source": [
    "function sum_of_permutation(mol_a::SolSim.DataStructures.Molecules, mol_b::SolSim.DataStructures.Molecules, perm_a::Vector{Int}, perm_b::Vector{Int})\n",
    "    n = length(mol_a.radii)\n",
    "    d1 = sum(get_matched_distances_between_transformation_offsets(mol_a, mol_b, perm_a[[1,2]], perm_b[[1,2]])) / n\n",
    "    d2 = sum(get_matched_distances_between_transformation_offsets(mol_a, mol_b, perm_a[[2,3]], perm_b[[2,3]])) / n\n",
    "    d3 = sum(get_matched_distances_between_transformation_offsets(mol_a, mol_b, perm_a[[1,3]], perm_b[[1,3]])) / n\n",
    "    println(\"$(d1), $(d2), $(d3)\")\n",
    "    d1 + d2 + d3\n",
    "end"
   ]
  },
  {
   "cell_type": "code",
   "execution_count": 48,
   "metadata": {},
   "outputs": [
    {
     "name": "stdout",
     "output_type": "stream",
     "text": [
      "1.3357315185670564, 18.644756062991142, 22.577734537077223\n",
      "42.55822211863542\n",
      "1.2132546863901463, 18.644756062991142, 22.705511868858935\n",
      "42.56352261824023\n",
      "1.3357315185670564, 1.2134092426565837, 2.724863466675164\n",
      "5.2740042278988035\n"
     ]
    }
   ],
   "source": [
    "permutations = [[1, 2, 3], [1, 3, 2], [2, 1, 3]]\n",
    "for perm in permutations\n",
    "    println(sum_of_permutation(molecule_experimental, molecules, [1, 2, 3], perm))\n",
    "end"
   ]
  },
  {
   "cell_type": "code",
   "execution_count": 5,
   "metadata": {},
   "outputs": [
    {
     "data": {
      "text/plain": [
       "3-element SVector{3, Float64} with indices SOneTo(3):\n",
       " -67.9997\n",
       " 135.02619\n",
       " -25.38"
      ]
     },
     "execution_count": 5,
     "metadata": {},
     "output_type": "execute_result"
    }
   ],
   "source": [
    "R1 = RotMatrix(@SMatrix[0.628642  0.777695  0.000000; -0.777695  0.628642  0.000000; 0.000000  0.000000  1.000000])\n",
    "T1 = @SVector[-69.28043, 195.91352, -49.35000]\n",
    "\n",
    "R2 = RotMatrix(@SMatrix[0.874450  0.485115  0.000000; -0.485115  0.874450  0.000000; 0.000000  0.000000  1.000000])\n",
    "T2 = @SVector[-61.30589, 104.11829, -47.94000]\n",
    "\n",
    "R3 = RotMatrix(@SMatrix[0.803441  0.595384  0.000000; -0.595384  0.803441  0.000000; 0.000000  0.000000  1.000000])\n",
    "T3 = @SVector[-67.99970, 135.02619, -25.38000]"
   ]
  },
  {
   "cell_type": "code",
   "execution_count": 9,
   "metadata": {},
   "outputs": [],
   "source": [
    "template_centers, _ = SolSim.Utilities.poly_to_vec(\"polys/experimental/6r7m_protor.poly\") \n",
    "molecule_experimental = deepcopy(molecules)\n",
    "molecule_experimental.template_centers = template_centers\n",
    "molecule_experimental.translations = [T1, T2, T3]\n",
    "molecule_experimental.rotations = [R1, R2, R3]\n",
    "\n",
    "radii = [[molecule_experimental.radii; molecule_experimental.radii]; molecule_experimental.radii]\n",
    "\n",
    "SolSim.Utilities.vec_to_poly(SolSim.Utilities.realize_molecules(molecule_experimental), radii, \"x1\")\n",
    "SolSim.Utilities.vec_to_poly(SolSim.Utilities.realize_molecules(molecules), radii, \"x2\")"
   ]
  },
  {
   "cell_type": "code",
   "execution_count": 11,
   "metadata": {},
   "outputs": [
    {
     "name": "stdout",
     "output_type": "stream",
     "text": [
      "1.0344973812636278, 1.7526116493855854, 2.8837612501625696\n",
      "5.670870280811783\n",
      "4.658616153666888, 1.7526116493855854, 7.178012718919318\n",
      "13.589240521971792\n",
      "1.0344973812636278, 1.5562177641620782, 6.000170990245429\n",
      "8.590886135671136\n",
      "5.506623735765095, 1.5562177641620782, 7.178012718919318\n",
      "14.240854218846492\n",
      "4.658616153666888, 5.077931635208456, 6.000170990245429\n",
      "15.736718779120775\n",
      "5.506623735765095, 5.077931635208456, 2.8837612501625696\n",
      "13.46831662113612\n"
     ]
    }
   ],
   "source": [
    "permutations = [[1, 2, 3], [1, 3, 2], [2, 1, 3], [2, 3, 1], [3,1,2], [3,2,1]]\n",
    "for perm in permutations\n",
    "    println(sum_of_permutation(molecule_experimental, molecules, [1, 2, 3], perm))\n",
    "end"
   ]
  }
 ],
 "metadata": {
  "kernelspec": {
   "display_name": "julia_oineus 1.10.6",
   "language": "julia",
   "name": "julia_oineus-1.10"
  },
  "language_info": {
   "file_extension": ".jl",
   "mimetype": "application/julia",
   "name": "julia",
   "version": "1.10.6"
  },
  "orig_nbformat": 4
 },
 "nbformat": 4,
 "nbformat_minor": 2
}
