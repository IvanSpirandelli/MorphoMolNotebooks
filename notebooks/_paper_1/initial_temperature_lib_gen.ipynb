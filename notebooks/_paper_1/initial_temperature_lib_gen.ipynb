{
 "cells": [
  {
   "cell_type": "code",
   "execution_count": 1,
   "metadata": {},
   "outputs": [
    {
     "name": "stderr",
     "output_type": "stream",
     "text": [
      "\u001b[32m\u001b[1m  Activating\u001b[22m\u001b[39m project at `~/Doktor/Code/MorphoMol/MorphoMolNotebooks`\n",
      "\u001b[32m\u001b[1mPrecompiling\u001b[22m\u001b[39m MorphoMol\n",
      "\u001b[32m  ✓ \u001b[39mMorphoMol\n",
      "  1 dependency successfully precompiled in 3 seconds. 258 already precompiled.\n",
      "\u001b[32m\u001b[1mPrecompiling\u001b[22m\u001b[39m MorphoMolNotebooks\n",
      "\u001b[32m  ✓ \u001b[39mMorphoMolNotebooks\n",
      "  1 dependency successfully precompiled in 6 seconds. 283 already precompiled.\n"
     ]
    }
   ],
   "source": [
    "import Pkg; \n",
    "\n",
    "if split(pwd(),\"/\")[end] == \"_paper_1\"\n",
    "    cd(joinpath(@__DIR__, \"../../\"))\n",
    "    Pkg.activate(\"Project.toml\")\n",
    "end\n",
    "\n",
    "using MorphoMol\n",
    "using MorphoMolNotebooks\n",
    "using CairoMakie\n",
    "using JLD2\n",
    "using Random"
   ]
  },
  {
   "cell_type": "code",
   "execution_count": null,
   "metadata": {},
   "outputs": [
    {
     "data": {
      "text/plain": [
       "generate_transitions (generic function with 1 method)"
      ]
     },
     "execution_count": 12,
     "metadata": {},
     "output_type": "execute_result"
    }
   ],
   "source": []
  },
  {
   "cell_type": "code",
   "execution_count": 30,
   "metadata": {},
   "outputs": [
    {
     "data": {
      "text/plain": [
       "1.2573454048805766"
      ]
     },
     "execution_count": 30,
     "metadata": {},
     "output_type": "execute_result"
    }
   ],
   "source": [
    "n = 6\n",
    "rs = 1.0\n",
    "eta = 0.475\n",
    "pf = MorphoMol.Energies.get_prefactors(rs, eta)\n",
    "σ_t = rs\n",
    "T_search = MorphoMolNotebooks.get_dispersed_energy(n, rs, pf) / 15.0\n",
    "iterations = 500000\n",
    "target_acceptance_rate = 0.5\n",
    "T_sim = temp_finder(\n",
    "    n,\n",
    "    rs,\n",
    "    pf,\n",
    "    σ_t,\n",
    "    T_search, \n",
    "    iterations,\n",
    "    target_acceptance_rate\n",
    ")"
   ]
  },
  {
   "cell_type": "code",
   "execution_count": 31,
   "metadata": {},
   "outputs": [
    {
     "data": {
      "text/plain": [
       "0.275438"
      ]
     },
     "execution_count": 31,
     "metadata": {},
     "output_type": "execute_result"
    }
   ],
   "source": [
    "template_centers = [0.0, 0.0, 0.0]\n",
    "bounds = n / 2.0 + 3.0\n",
    "x_init = get_random_configuration_without_overlap_in_bounds(n, bounds)\n",
    "radii = fill(1.0, n)\n",
    "\n",
    "overlap_slope = 100000.0\n",
    "overlap_jump = 100000.0\n",
    "\n",
    "energy(x) = solvation_free_energy_in_bounds(x, radii, rs, pf, overlap_jump, overlap_slope, bounds, 100.0)\n",
    "perturbation(x) = MorphoMolNotebooks.perturb_single_randomly_chosen(x, σ_t)\n",
    "temp_r(i) = T_sim\n",
    "\n",
    "output = Dict{String,Vector}(\n",
    "    \"states\" => [],\n",
    "    \"Es\" => []\n",
    ")\n",
    "\n",
    "sa = MorphoMol.Algorithms.SimulatedAnnealing(energy, perturbation, temp_r)\n",
    "x, E, alpha = MorphoMol.Algorithms.simulate!(sa, x_init, iterations, output);\n",
    "alpha"
   ]
  }
 ],
 "metadata": {
  "kernelspec": {
   "display_name": "julia_tda 1.10.6",
   "language": "julia",
   "name": "julia_tda-1.10"
  },
  "language_info": {
   "file_extension": ".jl",
   "mimetype": "application/julia",
   "name": "julia",
   "version": "1.10.6"
  }
 },
 "nbformat": 4,
 "nbformat_minor": 2
}
