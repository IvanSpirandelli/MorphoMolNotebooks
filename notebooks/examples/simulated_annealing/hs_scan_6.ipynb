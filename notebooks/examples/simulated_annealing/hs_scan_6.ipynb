{
 "cells": [
  {
   "cell_type": "code",
   "execution_count": 1,
   "metadata": {},
   "outputs": [
    {
     "name": "stderr",
     "output_type": "stream",
     "text": [
      "\u001b[32m\u001b[1m  Activating\u001b[22m\u001b[39m project at `~/Doktor/Code/MorphoMol/MorphoMolNotebooks`\n"
     ]
    }
   ],
   "source": [
    "import Pkg; \n",
    "\n",
    "if split(pwd(),\"/\")[end] == \"simulated_annealing\"\n",
    "    cd(joinpath(@__DIR__, \"../../../\"))\n",
    "    Pkg.activate(\"Project.toml\")\n",
    "end\n",
    "\n",
    "using MorphoMolNotebooks: simulated_annealing_scan"
   ]
  },
  {
   "cell_type": "code",
   "execution_count": 2,
   "metadata": {},
   "outputs": [
    {
     "name": "stdout",
     "output_type": "stream",
     "text": [
      "rs: 0.475, eta: 0.44\n",
      "T_init: 0.6598994798011417 | Alpha: 0.1201635\n",
      "+-------------------+-------------------+\n",
      "rs: 0.475, eta: 0.46\n",
      "T_init: 0.8992306758928001 | Alpha: 0.19797\n",
      "+-------------------+-------------------+\n",
      "rs: 0.475, eta: 0.48\n",
      "T_init: 1.0490484745933915 | Alpha: 0.231585\n",
      "+-------------------+-------------------+\n",
      "rs: 0.475, eta: 0.5\n",
      "T_init: 1.0906967489818462 | Alpha: 0.2506305\n",
      "+-------------------+-------------------+\n",
      "rs: 0.475, eta: 0.52\n",
      "T_init: 1.2720938798491546 | Alpha: 0.300771\n",
      "+-------------------+-------------------+\n",
      "rs: 0.475, eta: 0.54\n",
      "T_init: 1.4080787478191268 | Alpha: 0.3397885\n",
      "+-------------------+-------------------+\n",
      "rs: 0.475, eta: 0.56\n",
      "T_init: 1.7070826022541628 | Alpha: 0.396441\n",
      "+-------------------+-------------------+\n",
      "rs: 0.475, eta: 0.58\n",
      "T_init: 2.0088271017153474 | Alpha: 0.4609695\n",
      "+-------------------+-------------------+\n",
      "rs: 0.475, eta: 0.6\n",
      "T_init: 2.5171080589969654 | Alpha: 0.491787\n",
      "+-------------------+-------------------+\n",
      "rs: 0.475, eta: 0.62\n",
      "T_init: 3.010128661182103 | Alpha: 0.5030555\n",
      "+-------------------+-------------------+\n",
      "rs: 0.475, eta: 0.64\n",
      "T_init: 3.971348596534047 | Alpha: 0.5081765\n",
      "+-------------------+-------------------+\n",
      "rs: 0.5, eta: 0.44\n",
      "T_init: 0.8362715006867564 | Alpha: 0.1779865\n",
      "+-------------------+-------------------+\n",
      "rs: 0.5, eta: 0.46\n",
      "T_init: 0.9383372072754095 | Alpha: 0.199975\n",
      "+-------------------+-------------------+\n",
      "rs: 0.5, eta: 0.48\n",
      "T_init: 0.9911882373952042 | Alpha: 0.209923\n",
      "+-------------------+-------------------+\n",
      "rs: 0.5, eta: 0.5\n",
      "T_init: 1.0608430676218938 | Alpha: 0.2358635\n",
      "+-------------------+-------------------+\n",
      "rs: 0.5, eta: 0.52\n",
      "T_init: 1.2104248194550706 | Alpha: 0.2738825\n",
      "+-------------------+-------------------+\n",
      "rs: 0.5, eta: 0.54\n",
      "T_init: 1.3606064482093037 | Alpha: 0.301656\n",
      "+-------------------+-------------------+\n",
      "rs: 0.5, eta: 0.56\n",
      "T_init: 1.6034474762779636 | Alpha: 0.3648975\n",
      "+-------------------+-------------------+\n",
      "rs: 0.5, eta: 0.58\n",
      "T_init: 1.9217189767981624 | Alpha: 0.408814\n",
      "+-------------------+-------------------+\n",
      "rs: 0.5, eta: 0.6\n",
      "MCC: 1472.0267894733033, Sim: 1469.8700240548294\n",
      "SUCCESS: Simulation minimum lower than lowest MCC\n",
      "T_init: 2.34649736580081 | Alpha: 0.435166\n",
      "+-------------------+-------------------+\n",
      "rs: 0.5, eta: 0.62\n",
      "MCC: 1764.3566837228889, Sim: 1755.8208275243642\n",
      "SUCCESS: Simulation minimum lower than lowest MCC\n",
      "T_init: 2.993402223070882 | Alpha: 0.4713785\n",
      "+-------------------+-------------------+\n",
      "rs: 0.5, eta: 0.64\n",
      "MCC: 2129.400463148113, Sim: 2059.2999159023243\n",
      "SUCCESS: Simulation minimum lower than lowest MCC\n",
      "T_init: 3.7138887691049294 | Alpha: 0.4473615\n",
      "+-------------------+-------------------+\n"
     ]
    }
   ],
   "source": [
    "simulated_annealing_scan(n = 8, rss = 0.475:0.025:0.5, etas = 0.44:0.02:0.64, pf_id = \"virial\", temp_finder_target_rate=0.3)"
   ]
  }
 ],
 "metadata": {
  "kernelspec": {
   "display_name": "julia_tda 1.10.6",
   "language": "julia",
   "name": "julia_tda-1.10"
  },
  "language_info": {
   "file_extension": ".jl",
   "mimetype": "application/julia",
   "name": "julia",
   "version": "1.10.6"
  },
  "orig_nbformat": 4
 },
 "nbformat": 4,
 "nbformat_minor": 2
}
