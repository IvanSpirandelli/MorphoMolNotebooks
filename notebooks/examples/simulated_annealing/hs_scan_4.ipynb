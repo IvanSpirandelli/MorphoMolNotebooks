{
 "cells": [
  {
   "cell_type": "code",
   "execution_count": 3,
   "metadata": {},
   "outputs": [
    {
     "name": "stderr",
     "output_type": "stream",
     "text": [
      "\u001b[32m\u001b[1mPrecompiling\u001b[22m\u001b[39m MorphoMolNotebooks\n",
      "\u001b[32m  ✓ \u001b[39mMorphoMolNotebooks\n",
      "  1 dependency successfully precompiled in 6 seconds. 283 already precompiled.\n",
      "\u001b[36m\u001b[1m[ \u001b[22m\u001b[39m\u001b[36m\u001b[1mInfo: \u001b[22m\u001b[39mPrecompiling MorphoMolNotebooks [3c5b58fc-d541-4bcd-a332-95372d8cdad8]\n",
      "\u001b[33m\u001b[1m┌ \u001b[22m\u001b[39m\u001b[33m\u001b[1mWarning: \u001b[22m\u001b[39mThe call to compilecache failed to create a usable precompiled cache file for MorphoMolNotebooks [3c5b58fc-d541-4bcd-a332-95372d8cdad8]\n",
      "\u001b[33m\u001b[1m│ \u001b[22m\u001b[39m  exception = Required dependency GLMakie [e9467ef8-e4e7-5192-8a1a-b1aee30e663a] failed to load from a cache file.\n",
      "\u001b[33m\u001b[1m└ \u001b[22m\u001b[39m\u001b[90m@ Base loading.jl:1992\u001b[39m\n",
      "\u001b[36m\u001b[1m[ \u001b[22m\u001b[39m\u001b[36m\u001b[1mInfo: \u001b[22m\u001b[39mPrecompiling GLMakie [e9467ef8-e4e7-5192-8a1a-b1aee30e663a]\n",
      "\u001b[33m\u001b[1m┌ \u001b[22m\u001b[39m\u001b[33m\u001b[1mWarning: \u001b[22m\u001b[39mThe call to compilecache failed to create a usable precompiled cache file for GLMakie [e9467ef8-e4e7-5192-8a1a-b1aee30e663a]\n",
      "\u001b[33m\u001b[1m│ \u001b[22m\u001b[39m  exception = Error reading package image file.\n",
      "\u001b[33m\u001b[1m└ \u001b[22m\u001b[39m\u001b[90m@ Base loading.jl:1992\u001b[39m\n"
     ]
    }
   ],
   "source": [
    "import Pkg; \n",
    "\n",
    "if split(pwd(),\"/\")[end] == \"simulated_annealing\"\n",
    "    cd(joinpath(@__DIR__, \"../../../\"))\n",
    "    Pkg.activate(\"Project.toml\")\n",
    "end\n",
    "\n",
    "using MorphoMolNotebooks: simulated_annealing_scan"
   ]
  },
  {
   "cell_type": "code",
   "execution_count": 4,
   "metadata": {},
   "outputs": [
    {
     "name": "stdout",
     "output_type": "stream",
     "text": [
      "rs: 0.375, eta: 0.44\n",
      "T_init: 0.966790681149422 | Alpha: 0.229347\n",
      "+-------------------+-------------------+\n",
      "rs: 0.375, eta: 0.46\n",
      "T_init: 1.1196698340853153 | Alpha: 0.287383\n",
      "+-------------------+-------------------+\n",
      "rs: 0.375, eta: 0.48\n",
      "T_init: 1.3144563766925796 | Alpha: 0.355667\n",
      "+-------------------+-------------------+\n",
      "rs: 0.375, eta: 0.5\n",
      "T_init: 1.545775594461881 | Alpha: 0.413156\n",
      "+-------------------+-------------------+\n",
      "rs: 0.375, eta: 0.52\n",
      "T_init: 1.8728676400864166 | Alpha: 0.4790385\n",
      "+-------------------+-------------------+\n",
      "rs: 0.375, eta: 0.54\n",
      "T_init: 2.209247284943445 | Alpha: 0.5379175\n",
      "+-------------------+-------------------+\n",
      "rs: 0.375, eta: 0.56\n",
      "T_init: 2.7072182991362252 | Alpha: 0.578517\n",
      "+-------------------+-------------------+\n",
      "rs: 0.375, eta: 0.58\n",
      "T_init: 3.194031520398274 | Alpha: 0.5857725\n",
      "+-------------------+-------------------+\n",
      "rs: 0.375, eta: 0.6\n",
      "T_init: 3.9593114665856244 | Alpha: 0.592026\n",
      "+-------------------+-------------------+\n",
      "rs: 0.375, eta: 0.62\n",
      "T_init: 4.885856468883879 | Alpha: 0.59297\n",
      "+-------------------+-------------------+\n",
      "rs: 0.375, eta: 0.64\n",
      "T_init: 5.934052881166146 | Alpha: 0.594681\n",
      "+-------------------+-------------------+\n",
      "rs: 0.4, eta: 0.44\n",
      "T_init: 0.8921922824261732 | Alpha: 0.217128\n",
      "+-------------------+-------------------+\n",
      "rs: 0.4, eta: 0.46\n",
      "T_init: 1.0592011578316303 | Alpha: 0.2642065\n",
      "+-------------------+-------------------+\n",
      "rs: 0.4, eta: 0.48\n",
      "T_init: 1.2097781302033195 | Alpha: 0.3100805\n",
      "+-------------------+-------------------+\n",
      "rs: 0.4, eta: 0.5\n",
      "T_init: 1.436385717486315 | Alpha: 0.367442\n",
      "+-------------------+-------------------+\n",
      "rs: 0.4, eta: 0.52\n",
      "T_init: 1.687684240597897 | Alpha: 0.4328775\n",
      "+-------------------+-------------------+\n",
      "rs: 0.4, eta: 0.54\n",
      "T_init: 2.006838856643735 | Alpha: 0.4877135\n",
      "+-------------------+-------------------+\n",
      "rs: 0.4, eta: 0.56\n",
      "T_init: 2.4491282388183935 | Alpha: 0.5458445\n",
      "+-------------------+-------------------+\n",
      "rs: 0.4, eta: 0.58\n",
      "T_init: 2.9618913888245992 | Alpha: 0.562529\n",
      "+-------------------+-------------------+\n",
      "rs: 0.4, eta: 0.6\n",
      "T_init: 3.6282213009397775 | Alpha: 0.569607\n",
      "+-------------------+-------------------+\n",
      "rs: 0.4, eta: 0.62\n",
      "T_init: 3.929754960475814 | Alpha: 0.571655\n",
      "+-------------------+-------------------+\n",
      "rs: 0.4, eta: 0.64\n",
      "T_init: 5.005583065756815 | Alpha: 0.5728515\n",
      "+-------------------+-------------------+\n"
     ]
    }
   ],
   "source": [
    "simulated_annealing_scan(n = 8, rss = 0.375:0.025:0.4, etas = 0.44:0.02:0.64, pf_id = \"virial\", temp_finder_target_rate=0.3)"
   ]
  }
 ],
 "metadata": {
  "kernelspec": {
   "display_name": "julia_tda 1.10.6",
   "language": "julia",
   "name": "julia_tda-1.10"
  },
  "language_info": {
   "file_extension": ".jl",
   "mimetype": "application/julia",
   "name": "julia",
   "version": "1.10.6"
  },
  "orig_nbformat": 4
 },
 "nbformat": 4,
 "nbformat_minor": 2
}
