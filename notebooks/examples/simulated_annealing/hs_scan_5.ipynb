{
 "cells": [
  {
   "cell_type": "code",
   "execution_count": 1,
   "metadata": {},
   "outputs": [
    {
     "name": "stderr",
     "output_type": "stream",
     "text": [
      "\u001b[32m\u001b[1m  Activating\u001b[22m\u001b[39m project at `~/Doktor/Code/MorphoMol/MorphoMolNotebooks`\n"
     ]
    }
   ],
   "source": [
    "import Pkg; \n",
    "\n",
    "if split(pwd(),\"/\")[end] == \"simulated_annealing\"\n",
    "    cd(joinpath(@__DIR__, \"../../../\"))\n",
    "    Pkg.activate(\"Project.toml\")\n",
    "end\n",
    "\n",
    "using MorphoMolNotebooks: simulated_annealing_scan"
   ]
  },
  {
   "cell_type": "code",
   "execution_count": null,
   "metadata": {},
   "outputs": [
    {
     "name": "stdout",
     "output_type": "stream",
     "text": [
      "rs: 0.425, eta: 0.44\n",
      "T_init: 0.8667198783151832 | Alpha: 0.2037615\n",
      "+-------------------+-------------------+\n",
      "rs: 0.425, eta: 0.46\n",
      "T_init: 1.000106565325774 | Alpha: 0.2392705\n",
      "+-------------------+-------------------+\n",
      "rs: 0.425, eta: 0.48\n",
      "T_init: 1.150819194056287 | Alpha: 0.282488\n",
      "+-------------------+-------------------+\n",
      "rs: 0.425, eta: 0.5\n",
      "T_init: 1.3760696361443485 | Alpha: 0.33687\n",
      "+-------------------+-------------------+\n",
      "rs: 0.425, eta: 0.52\n",
      "T_init: 1.6193557333285995 | Alpha: 0.4030955\n",
      "+-------------------+-------------------+\n",
      "rs: 0.425, eta: 0.54\n",
      "T_init: 1.6338703975716624 | Alpha: 0.429971\n",
      "+-------------------+-------------------+\n",
      "rs: 0.425, eta: 0.56\n",
      "T_init: 1.9845673363253455 | Alpha: 0.490877\n",
      "+-------------------+-------------------+\n",
      "rs: 0.425, eta: 0.58\n",
      "T_init: 2.3443337578713206 | Alpha: 0.5329735\n",
      "+-------------------+-------------------+\n",
      "rs: 0.425, eta: 0.6\n",
      "T_init: 3.033857445278218 | Alpha: 0.545201\n",
      "+-------------------+-------------------+\n",
      "rs: 0.425, eta: 0.62\n",
      "T_init: 3.699696146045457 | Alpha: 0.5482475\n",
      "+-------------------+-------------------+\n",
      "rs: 0.425, eta: 0.64\n",
      "T_init: 4.426515170887121 | Alpha: 0.5506155\n",
      "+-------------------+-------------------+\n",
      "rs: 0.45, eta: 0.44\n",
      "T_init: 0.8639380553111768 | Alpha: 0.1926295\n",
      "+-------------------+-------------------+\n",
      "rs: 0.45, eta: 0.46\n"
     ]
    }
   ],
   "source": [
    "simulated_annealing_scan(n = 8, rss = 0.425:0.025:0.45, etas = 0.44:0.02:0.64, pf_id = \"virial\", temp_finder_target_rate=0.3)"
   ]
  }
 ],
 "metadata": {
  "kernelspec": {
   "display_name": "julia_tda 1.10.6",
   "language": "julia",
   "name": "julia_tda-1.10"
  },
  "language_info": {
   "file_extension": ".jl",
   "mimetype": "application/julia",
   "name": "julia",
   "version": "1.10.6"
  },
  "orig_nbformat": 4
 },
 "nbformat": 4,
 "nbformat_minor": 2
}
