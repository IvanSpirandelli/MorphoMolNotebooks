{
 "cells": [
  {
   "cell_type": "code",
   "execution_count": 1,
   "metadata": {},
   "outputs": [
    {
     "name": "stderr",
     "output_type": "stream",
     "text": [
      "\u001b[32m\u001b[1m  Activating\u001b[22m\u001b[39m project at `~/Doktor/Code/MorphoMol/MorphoMolNotebooks`\n"
     ]
    }
   ],
   "source": [
    "import Pkg; \n",
    "\n",
    "if split(pwd(),\"/\")[end] == \"simulated_annealing\"\n",
    "    cd(joinpath(@__DIR__, \"../../../\"))\n",
    "    Pkg.activate(\"Project.toml\")\n",
    "end\n",
    "\n",
    "using MorphoMolNotebooks: simulated_annealing_scan"
   ]
  },
  {
   "cell_type": "code",
   "execution_count": null,
   "metadata": {},
   "outputs": [
    {
     "name": "stdout",
     "output_type": "stream",
     "text": [
      "rs: 0.35, eta: 0.475\n",
      "T_init: 0.8689120853349278 | Alpha: 0.25911375\n",
      "+-------------------+-------------------+\n",
      "rs: 0.35, eta: 0.5\n",
      "T_init: 1.072922017525283 | Alpha: 0.35379625\n",
      "+-------------------+-------------------+\n",
      "rs: 0.35, eta: 0.525\n",
      "T_init: 1.315830538135818 | Alpha: 0.46741625\n",
      "+-------------------+-------------------+\n",
      "rs: 0.35, eta: 0.55\n",
      "T_init: 1.6564575186541715 | Alpha: 0.5763785\n",
      "+-------------------+-------------------+\n",
      "rs: 0.35, eta: 0.575\n",
      "T_init: 2.1390556161170373 | Alpha: 0.60629825\n",
      "+-------------------+-------------------+\n",
      "rs: 0.35, eta: 0.6\n",
      "T_init: 2.7217401681119795 | Alpha: 0.6107555\n",
      "+-------------------+-------------------+\n",
      "rs: 0.375, eta: 0.475\n",
      "T_init: 0.7987398957848149 | Alpha: 0.214862\n",
      "+-------------------+-------------------+\n",
      "rs: 0.375, eta: 0.5\n",
      "T_init: 0.9918004452864048 | Alpha: 0.3251635\n",
      "+-------------------+-------------------+\n",
      "rs: 0.375, eta: 0.525\n",
      "T_init: 1.2295058183409606 | Alpha: 0.40657025\n",
      "+-------------------+-------------------+\n",
      "rs: 0.375, eta: 0.55\n",
      "T_init: 1.5204282567420306 | Alpha: 0.53448225\n",
      "+-------------------+-------------------+\n",
      "rs: 0.375, eta: 0.575\n"
     ]
    }
   ],
   "source": [
    "simulated_annealing_scan(n = 8, rss = 0.35:0.025:0.45, etas = 0.475:0.025:0.6, pf_id = \"virial\", temp_finder_target_rate = 0.15)"
   ]
  }
 ],
 "metadata": {
  "kernelspec": {
   "display_name": "julia_tda 1.10.6",
   "language": "julia",
   "name": "julia_tda-1.10"
  },
  "language_info": {
   "file_extension": ".jl",
   "mimetype": "application/julia",
   "name": "julia",
   "version": "1.10.6"
  },
  "orig_nbformat": 4
 },
 "nbformat": 4,
 "nbformat_minor": 2
}
