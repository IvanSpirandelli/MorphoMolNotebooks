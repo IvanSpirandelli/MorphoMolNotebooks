{
 "cells": [
  {
   "cell_type": "code",
   "execution_count": 2,
   "metadata": {},
   "outputs": [
    {
     "name": "stderr",
     "output_type": "stream",
     "text": [
      "\u001b[32m\u001b[1m  Activating\u001b[22m\u001b[39m project at `~/Doktor/Code/MorphoMol/MorphoMolNotebooks`\n"
     ]
    }
   ],
   "source": [
    "import Pkg; \n",
    "\n",
    "if split(pwd(),\"/\")[end] == \"simulated_annealing\"\n",
    "    cd(joinpath(@__DIR__, \"../../../\"))\n",
    "    Pkg.activate(\"Project.toml\")\n",
    "end\n",
    "\n",
    "using MorphoMolNotebooks: simulated_annealing_scan"
   ]
  },
  {
   "cell_type": "code",
   "execution_count": null,
   "metadata": {},
   "outputs": [
    {
     "name": "stdout",
     "output_type": "stream",
     "text": [
      "rs: 0.9, eta: 0.45\n",
      "T_init: 1.4291678230749874 | Alpha: 0.200578\n",
      "+-------------------+-------------------+\n",
      "rs: 0.9, eta: 0.475\n",
      "T_init: 1.6674279839557606 | Alpha: 0.21147675\n",
      "+-------------------+-------------------+\n",
      "rs: 0.9, eta: 0.49\n",
      "T_init: 1.7988580588571959 | Alpha: 0.2147435\n",
      "+-------------------+-------------------+\n",
      "rs: 0.925, eta: 0.45\n"
     ]
    }
   ],
   "source": [
    "simulated_annealing_scan(n = 8, rss = 0.9:0.025:1.0, etas = [0.45, 0.475, 0.49], pf_id = \"wb\", temp_finder_target_rate=0.6)"
   ]
  }
 ],
 "metadata": {
  "kernelspec": {
   "display_name": "julia_tda 1.10.6",
   "language": "julia",
   "name": "julia_tda-1.10"
  },
  "language_info": {
   "file_extension": ".jl",
   "mimetype": "application/julia",
   "name": "julia",
   "version": "1.10.6"
  },
  "orig_nbformat": 4
 },
 "nbformat": 4,
 "nbformat_minor": 2
}
