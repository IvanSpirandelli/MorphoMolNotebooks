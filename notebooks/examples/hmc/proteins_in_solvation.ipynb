{
 "cells": [
  {
   "cell_type": "code",
   "execution_count": 2,
   "metadata": {},
   "outputs": [],
   "source": [
    "import Pkg; \n",
    "\n",
    "if split(pwd(),\"/\")[end] == \"hmc\"\n",
    "    cd(joinpath(@__DIR__, \"../../../\"))\n",
    "    Pkg.activate(\"Project.toml\")\n",
    "end\n",
    "\n",
    "using MorphoMol\n",
    "using MorphoMolNotebooks\n",
    "using LinearAlgebra\n",
    "using Random\n",
    "using Rotations\n",
    "using StaticArrays\n",
    "using Distributions\n",
    "using Distances\n",
    "using GLMakie"
   ]
  },
  {
   "cell_type": "code",
   "execution_count": 3,
   "metadata": {},
   "outputs": [],
   "source": [
    "mol_type = \"6r7m\"\n",
    "template_centers = MorphoMol.TEMPLATES[mol_type][\"template_centers\"]\n",
    "template_radii = MorphoMol.TEMPLATES[mol_type][\"template_radii\"]\n",
    "n_mol = 3\n",
    "bounds = 70.0\n",
    "x_init = MorphoMol.get_initial_state(n_mol, bounds)\n",
    "n_atoms_per_mol = length(template_radii)\n",
    "radii = vcat([template_radii for i in 1:n_mol]...);"
   ]
  },
  {
   "cell_type": "code",
   "execution_count": 15,
   "metadata": {},
   "outputs": [
    {
     "data": {
      "text/plain": [
       "0.73333335f0"
      ]
     },
     "execution_count": 15,
     "metadata": {},
     "output_type": "execute_result"
    }
   ],
   "source": [
    "T = 4.0\n",
    "ε = 0.015\n",
    "L = 10\n",
    "β = 1.0 / T\n",
    "\n",
    "σ_r = 0.75\n",
    "σ_t = 2.0\n",
    "\n",
    "rs = 1.4\n",
    "eta = 0.3665\n",
    "pf = MorphoMol.Energies.get_prefactors(rs, eta)\n",
    "overlap_slope = 1.1\n",
    "\n",
    "\n",
    "Σ = vcat([[σ_r, σ_r, σ_r, σ_t, σ_t, σ_t] for _ in 1:n_mol]...)\n",
    "\n",
    "energy(x) = MorphoMol.solvation_free_energy_and_measures(x, template_centers, radii, rs, pf, 0.0, overlap_slope, 1.0)\n",
    "energy_gradient!(∇E, x) = MorphoMol.solvation_free_energy_gradient!(∇E, x, template_centers, radii, rs, pf, overlap_slope)\n",
    "\n",
    "input = Dict(\n",
    "    \"template_centers\" => template_centers,\n",
    "    \"template_radii\" => template_radii,\n",
    "    \"n_mol\" => n_mol,\n",
    "    \"σ_r\" => σ_r,\n",
    "    \"σ_t\" => σ_t,\n",
    "    \"rs\" => rs,\n",
    "    \"eta\" => eta,\n",
    "    \"T\" => T,\n",
    "    \"mol_type\" => mol_type\n",
    ")\n",
    "\n",
    "output = Dict{String, Vector}(\n",
    "    \"states\" => Vector{Vector{Float64}}([]),\n",
    "    \"Es\" => Vector{Float64}([]), \n",
    "    \"Vs\" => Vector{Float64}([]), \n",
    "    \"As\" => Vector{Float64}([]), \n",
    "    \"Cs\" => Vector{Float64}([]), \n",
    "    \"Xs\" => Vector{Float64}([]),\n",
    "    \"OLs\" => Vector{Float64}([]),\n",
    "    \"αs\" => Vector{Float32}([]),\n",
    ")\n",
    "\n",
    "hmc = MorphoMol.Algorithms.HamiltonianMonteCarlo(energy, energy_gradient!, MorphoMol.Algorithms.standard_leapfrog!, β, L, ε, Σ)\n",
    "simulation_time_minutes = 10.0\n",
    "MorphoMol.Algorithms.simulate!(hmc, deepcopy(x_init), simulation_time_minutes, output)\n",
    "output[\"αs\"][end]"
   ]
  },
  {
   "cell_type": "code",
   "execution_count": 17,
   "metadata": {},
   "outputs": [
    {
     "name": "stdout",
     "output_type": "stream",
     "text": [
      "Initial energy: 13143.660294476154 | final energy: 13131.28035079803 | minimal energy: 13124.960475995695\n"
     ]
    }
   ],
   "source": [
    "println(\"Initial energy: $(output[\"Es\"][1]) | final energy: $(output[\"Es\"][end]) | minimal energy: $(minimum(output[\"Es\"]))\")"
   ]
  },
  {
   "cell_type": "code",
   "execution_count": 18,
   "metadata": {},
   "outputs": [],
   "source": [
    "try\n",
    "    rm(\"assets/output\", recursive = true)\n",
    "catch \n",
    "end\n",
    "mkpath(\"assets/output\")\n",
    "for (i, state) in enumerate(output[\"states\"])\n",
    "    MorphoMolNotebooks.configuration_to_poly(MorphoMol.get_flat_realization(state, template_centers), radii, \"assets/output/$(i)\", n_mol, n_atoms_per_mol)\n",
    "end"
   ]
  },
  {
   "cell_type": "code",
   "execution_count": 19,
   "metadata": {},
   "outputs": [
    {
     "data": {
      "text/plain": [
       "GLMakie.Screen(...)"
      ]
     },
     "execution_count": 19,
     "metadata": {},
     "output_type": "execute_result"
    }
   ],
   "source": [
    "n = length(output[\"Es\"])\n",
    "e_mindex = argmin(output[\"Es\"])\n",
    "\n",
    "figure_config = Dict(\n",
    "    \"plot_ms\" => 5,\n",
    "    \"tracker_ms\" => 10,\n",
    "    \"title_fs\" => 20,\n",
    "    \"vis_range\" =>  1:n\n",
    ")\n",
    "\n",
    "f = Figure(fontsize = 12)\n",
    "#Slider\n",
    "sl_i = Slider(f[3, 1:2], range = 1:length(output[\"states\"][figure_config[\"vis_range\"]]), startvalue = 1)\n",
    "x = sl_i.value\n",
    "cgl = GridLayout(f[1:2,1:2])\n",
    "MorphoMolNotebooks.visualize_configuration_sequence!(cgl, x, input, output, figure_config)\n",
    "\n",
    "display(f)"
   ]
  }
 ],
 "metadata": {
  "kernelspec": {
   "display_name": "julia_tda_1.10 1.10.6",
   "language": "julia",
   "name": "julia_tda_1.10-1.10"
  },
  "language_info": {
   "file_extension": ".jl",
   "mimetype": "application/julia",
   "name": "julia",
   "version": "1.10.6"
  },
  "orig_nbformat": 4
 },
 "nbformat": 4,
 "nbformat_minor": 2
}
