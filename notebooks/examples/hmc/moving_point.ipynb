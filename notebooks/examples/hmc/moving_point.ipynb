{
 "cells": [
  {
   "cell_type": "code",
   "execution_count": 1,
   "metadata": {},
   "outputs": [
    {
     "name": "stderr",
     "output_type": "stream",
     "text": [
      "\u001b[32m\u001b[1m  Activating\u001b[22m\u001b[39m project at `~/Doktor/Code/MorphoMol/MorphoMol.jl`\n"
     ]
    }
   ],
   "source": [
    "import Pkg; \n",
    "\n",
    "if split(pwd(),\"/\")[end] == \"hmc\"\n",
    "    cd(joinpath(@__DIR__, \"../../\"))\n",
    "    Pkg.activate(\"Project.toml\")\n",
    "end\n",
    "\n",
    "using MorphoMol\n",
    "\n",
    "using CairoMakie\n",
    "using Distances\n",
    "using LinearAlgebra\n",
    "using Random\n",
    "using Rotations\n",
    "using StaticArrays"
   ]
  },
  {
   "cell_type": "code",
   "execution_count": 2,
   "metadata": {},
   "outputs": [
    {
     "data": {
      "text/plain": [
       "0.9848749238736535"
      ]
     },
     "execution_count": 2,
     "metadata": {},
     "output_type": "execute_result"
    }
   ],
   "source": [
    "T = 0.5\n",
    "ε = 0.1\n",
    "L = 10\n",
    "β = 1.0 / T\n",
    "\n",
    "σ = 1.0\n",
    "Σ = [σ]\n",
    "\n",
    "energy(x) = x[1]^2, Dict{String, Any}()\n",
    "\n",
    "function energy_gradient!(∇E, x)\n",
    "    ∇E[1] = 2 * x[1]\n",
    "    ∇E\n",
    "end\n",
    "\n",
    "output = Dict{String, Vector}(\n",
    "    \"states\" => Vector{Vector{Float64}}([]),\n",
    "    \"Es\" => Vector{Float64}([]),\n",
    "    \"αs\" => Vector{Float64}([]) #Acceptance rates\n",
    ")\n",
    "\n",
    "hmc = MorphoMol.Algorithms.HamiltonianMonteCarlo(energy, energy_gradient!, MorphoMol.Algorithms.standard_leapfrog!, β, L, ε, Σ)\n",
    "\n",
    "x = rand(1) .- 0.5\n",
    "simulation_time_minutes = 0.5\n",
    "\n",
    "MorphoMol.Algorithms.simulate!(hmc, x, simulation_time_minutes, output);\n",
    "output[\"αs\"][end]"
   ]
  },
  {
   "cell_type": "code",
   "execution_count": 5,
   "metadata": {},
   "outputs": [],
   "source": [
    "f = Figure(size = (500, 500))\n",
    "bin_number = 51\n",
    "xs = [e[1] for e in output[\"states\"]]\n",
    "hist(f[1, 1], xs, bins = bin_number, color = :red, strokewidth = 1, strokecolor = :black, axis = (title = \"xs\", limits = ((minimum(xs), maximum(xs)), nothing),))\n",
    "f"
   ]
  }
 ],
 "metadata": {
  "kernelspec": {
   "display_name": "Julia 1.10.4",
   "language": "julia",
   "name": "julia-1.10"
  },
  "language_info": {
   "file_extension": ".jl",
   "mimetype": "application/julia",
   "name": "julia",
   "version": "1.10.4"
  },
  "orig_nbformat": 4
 },
 "nbformat": 4,
 "nbformat_minor": 2
}
