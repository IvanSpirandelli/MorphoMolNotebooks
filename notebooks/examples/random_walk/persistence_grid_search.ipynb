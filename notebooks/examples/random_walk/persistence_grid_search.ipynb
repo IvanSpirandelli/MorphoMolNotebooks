{
 "cells": [
  {
   "cell_type": "code",
   "execution_count": 1,
   "metadata": {},
   "outputs": [
    {
     "name": "stderr",
     "output_type": "stream",
     "text": [
      "\u001b[32m\u001b[1m  Activating\u001b[22m\u001b[39m project at `~/Doktor/Code/MorphoMol/MorphoMolNotebooks`\n"
     ]
    }
   ],
   "source": [
    "import Pkg; \n",
    "\n",
    "if split(pwd(),\"/\")[end] == \"random_walk\"\n",
    "    cd(joinpath(@__DIR__, \"../../../\"))\n",
    "    Pkg.activate(\"Project.toml\")\n",
    "end\n",
    "\n",
    "using MorphoMol\n",
    "using MorphoMolNotebooks\n",
    "using Random"
   ]
  },
  {
   "cell_type": "code",
   "execution_count": 2,
   "metadata": {},
   "outputs": [
    {
     "data": {
      "text/plain": [
       "calculate_T0 (generic function with 1 method)"
      ]
     },
     "execution_count": 2,
     "metadata": {},
     "output_type": "execute_result"
    }
   ],
   "source": [
    "function perturb_single_randomly_chosen(x, σ_r, σ_t)\n",
    "    x_cand = deepcopy(x)\n",
    "    i  = rand(0:(length(x)÷6)-1)\n",
    "    x_cand[(i*6)+1:(i*6)+6] = x_cand[(i*6)+1:(i*6)+6] .+ (randn(6) .* [σ_r, σ_r, σ_r, σ_t, σ_t, σ_t])\n",
    "    x_cand\n",
    "end\n",
    "\n",
    "function persistence(x::Vector{Float64}, template_centers::Matrix{Float64}, persistence_weights::Vector{Float64})\n",
    "    flat_realization = MorphoMol.Utilities.get_flat_realization(x, template_centers)\n",
    "    points = Vector{Vector{Float64}}([e for e in eachcol(reshape(flat_realization, (3, Int(length(flat_realization) / 3))))])\n",
    "    pdgm = MorphoMol.Energies.get_alpha_shape_persistence_diagram(points)\n",
    "    p0 = MorphoMol.Energies.get_total_persistence(pdgm[1], persistence_weights[1])\n",
    "    p1 = MorphoMol.Energies.get_total_persistence(pdgm[2], persistence_weights[2])\n",
    "    p2 = MorphoMol.Energies.get_total_persistence(pdgm[3], persistence_weights[3])\n",
    "    p0 + p1 + p2, Dict{String, Any}(\"P0s\" => p0, \"P1s\" => p1, \"P2s\" => p2)\n",
    "end\n",
    "\n",
    "function calculate_T0(Es, T_search, target_acceptance_rate)\n",
    "    transitions = []\n",
    "    for i in 1:length(Es)-1\n",
    "        if Es[i] > Es[i+1]\n",
    "            push!(transitions, Es[i])\n",
    "            push!(transitions, Es[i+1])\n",
    "        end\n",
    "    end\n",
    "\n",
    "    chi_bar(T) = sum([exp(-transitions[i]/T) for i in 1:2:length(transitions)-1])/sum([exp(-transitions[i]/T) for i in 2:2:length(transitions)])\n",
    "    χ_0 = target_acceptance_rate\n",
    "    T_0 = T_search\n",
    "    try\n",
    "        while abs(chi_bar(T_0) - χ_0) > 0.00001\n",
    "            T_0 = T_0 * (log(chi_bar(T_0)) / log(χ_0 ))\n",
    "        end\n",
    "    catch \n",
    "        println(\"No energy decreasing transitions found!\")\n",
    "    end\n",
    "    (isnan(T_0) || T_0 <= 0) ? T_search : T_0\n",
    "end"
   ]
  },
  {
   "cell_type": "code",
   "execution_count": null,
   "metadata": {},
   "outputs": [],
   "source": [
    "T_search = 1.5\n",
    "search_time_minutes = 0.15\n",
    "simulation_time_minutes = 0.3\n",
    "n_mol = 2\n",
    "bounds = 50.0\n",
    "persistence_weights = [0.5, -0.25, -0.1]\n",
    "σ_r = 0.15\n",
    "σ_t = 1.25\n",
    "mol_type = \"6r7m\""
   ]
  },
  {
   "cell_type": "code",
   "execution_count": null,
   "metadata": {},
   "outputs": [],
   "source": [
    "template_centers = MorphoMol.Utilities.TMV_TEMPLATES[mol_type][\"template_centers\"]\n",
    "template_radii = MorphoMol.Utilities.TMV_TEMPLATES[mol_type][\"template_radii\"];\n",
    "\n",
    "x_init = MorphoMol.Utilities.get_initial_state(n_mol, bounds)\n",
    "radii = vcat([template_radii for i in 1:n_mol]...);\n",
    "\n",
    "energy(x) = persistence(x, template_centers, persistence_weights)\n",
    "perturbation(x) = perturb_single_randomly_chosen(x, σ_r, σ_t)\n",
    "\n",
    "input = Dict(\n",
    "    \"template_centers\" => template_centers,\n",
    "    \"template_radii\" => template_radii,\n",
    "    \"n_mol\" => n_mol,\n",
    "    \"σ_r\" => σ_r,\n",
    "    \"σ_t\" => σ_t,\n",
    "    \"persistence_weights\" => persistence_weights,\n",
    "    \"T\" => T_search,\n",
    "    \"mol_type\" => mol_type\n",
    ")\n",
    "\n",
    "output = Dict{String, Vector}(\n",
    "    \"states\" => Vector{Vector{Float64}}([]),\n",
    "    \"Es\" => Vector{Float64}([]),\n",
    "    \"αs\" => Vector{Float32}([]),\n",
    "    \"P0s\" => Vector{Float64}([]),\n",
    "    \"P1s\" => Vector{Float64}([]),\n",
    "    \"P2s\" => Vector{Float64}([]),\n",
    ")\n",
    "\n",
    "rwm = MorphoMol.Algorithms.RandomWalkMetropolis(energy, perturbation, 1.0 / T_search)\n",
    "MorphoMol.Algorithms.simulate!(rwm, x_init, search_time_minutes, output);\n",
    "\n",
    "T_sim = calculate_T0(output[\"Es\"], T_search, 0.24)\n",
    "\n",
    "input[\"T\"] = T_sim\n",
    "output = Dict{String, Vector}(\n",
    "    \"states\" => Vector{Vector{Float64}}([]),\n",
    "    \"Es\" => Vector{Float64}([]),\n",
    "    \"αs\" => Vector{Float32}([]),\n",
    "    \"P0s\" => Vector{Float64}([]),\n",
    "    \"P1s\" => Vector{Float64}([]),\n",
    "    \"P2s\" => Vector{Float64}([]),\n",
    ")\n",
    "\n",
    "rwm = MorphoMol.Algorithms.RandomWalkMetropolis(energy, perturbation, 1.0 / T_sim)\n",
    "MorphoMol.Algorithms.simulate!(rwm, x_init, simulation_time_minutes, output);"
   ]
  },
  {
   "cell_type": "code",
   "execution_count": null,
   "metadata": {},
   "outputs": [
    {
     "data": {
      "text/plain": [
       "0.27380952f0"
      ]
     },
     "execution_count": 5,
     "metadata": {},
     "output_type": "execute_result"
    },
    {
     "ename": "",
     "evalue": "",
     "output_type": "error",
     "traceback": [
      "\u001b[1;31mThe Kernel crashed while executing code in the current cell or a previous cell. \n",
      "\u001b[1;31mPlease review the code in the cell(s) to identify a possible cause of the failure. \n",
      "\u001b[1;31mClick <a href='https://aka.ms/vscodeJupyterKernelCrash'>here</a> for more info. \n",
      "\u001b[1;31mView Jupyter <a href='command:jupyter.viewOutput'>log</a> for further details."
     ]
    }
   ],
   "source": [
    "output[\"αs\"][end]"
   ]
  }
 ],
 "metadata": {
  "kernelspec": {
   "display_name": "julia_tda 1.10.6",
   "language": "julia",
   "name": "julia_tda-1.10"
  },
  "language_info": {
   "file_extension": ".jl",
   "mimetype": "application/julia",
   "name": "julia",
   "version": "1.10.6"
  }
 },
 "nbformat": 4,
 "nbformat_minor": 2
}
