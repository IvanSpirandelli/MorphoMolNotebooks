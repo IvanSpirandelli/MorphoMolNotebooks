{
 "cells": [
  {
   "cell_type": "code",
   "execution_count": 1,
   "metadata": {},
   "outputs": [
    {
     "name": "stderr",
     "output_type": "stream",
     "text": [
      "\u001b[32m\u001b[1m  Activating\u001b[22m\u001b[39m project at `~/Doktor/Code/MorphoMol/MorphoMolNotebooks`\n",
      "\u001b[32m\u001b[1mPrecompiling\u001b[22m\u001b[39m MorphoMol\n",
      "\u001b[32m  ✓ \u001b[39mMorphoMol\n",
      "  1 dependency successfully precompiled in 3 seconds. 258 already precompiled.\n",
      "\u001b[32m\u001b[1mPrecompiling\u001b[22m\u001b[39m MorphoMolNotebooks\n",
      "\u001b[32m  ✓ \u001b[39mMorphoMolNotebooks\n",
      "  1 dependency successfully precompiled in 5 seconds. 283 already precompiled.\n"
     ]
    }
   ],
   "source": [
    "import Pkg; \n",
    "\n",
    "if split(pwd(),\"/\")[end] == \"random_walk\"\n",
    "    cd(joinpath(@__DIR__, \"../../../\"))\n",
    "    Pkg.activate(\"Project.toml\")\n",
    "end\n",
    "\n",
    "using MorphoMol\n",
    "using MorphoMol.Algorithms: RandomWalkMetropolis, simulate!\n",
    "using MorphoMolNotebooks: calculate_initial_temperature, add_to_simulation_minima!, has_hard_sphere_overlap, get_random_configuration_without_overlap_in_bounds, is_configuration_equivalent_to_mcc, is_equivalent_configuration, get_mccs, minimal_mcc, get_energies_of_mccs\n",
    "using Random\n",
    "using Distances\n",
    "using JLD2\n",
    "using GeometryBasics\n",
    "using GLMakie"
   ]
  },
  {
   "cell_type": "code",
   "execution_count": 3,
   "metadata": {},
   "outputs": [
    {
     "data": {
      "text/plain": [
       "perturb_single_randomly_chosen (generic function with 1 method)"
      ]
     },
     "execution_count": 3,
     "metadata": {},
     "output_type": "execute_result"
    }
   ],
   "source": [
    "function solvation_free_energy_and_measures_in_bounds(x::Vector{Float64}, radii::Vector{Float64}, rs::Float64, prefactors::AbstractVector, overlap_jump::Float64, overlap_slope::Float64, bounds::Float64, delaunay_eps::Float64)\n",
    "    if any(0.0 >= e || e >= bounds for e in x[1:3:end]) || any(0.0 >= e || e >= bounds for e in x[2:3:end]) || any(0.0 >= e || e >= bounds for e in x[3:3:end])\n",
    "        return Inf, [Inf, Inf, Inf, Inf, Inf]\n",
    "    end\n",
    "    measures = MorphoMol.Energies.get_geometric_measures_and_overlap_value(x, 1, radii, rs, overlap_jump, overlap_slope, delaunay_eps)\n",
    "    sum(measures .* [prefactors; 1.0]), Dict{String,Any}(\"Vs\" => measures[1], \"As\" => measures[2], \"Cs\" => measures[3], \"Xs\" => measures[4], \"OLs\" => measures[5])\n",
    "end\n",
    "\n",
    "function solvation_free_energy_in_bounds(x::Vector{Float64}, radii::Vector{Float64}, rs::Float64, prefactors::AbstractVector, overlap_jump::Float64, overlap_slope::Float64, bounds::Float64, delaunay_eps::Float64)\n",
    "    if any(0.0 >= e || e >= bounds for e in x[1:3:end]) || any(0.0 >= e || e >= bounds for e in x[2:3:end]) || any(0.0 >= e || e >= bounds for e in x[3:3:end])\n",
    "        return Inf\n",
    "    end\n",
    "    measures = MorphoMol.Energies.get_geometric_measures_and_overlap_value(x, 1, radii, rs, overlap_jump, overlap_slope, delaunay_eps)\n",
    "    sum(measures .* [prefactors; 1.0])\n",
    "end\n",
    "\n",
    "function solvation_free_energy(x::Vector{Float64}, radii::Vector{Float64}, rs::Float64, prefactors::AbstractVector, overlap_jump::Float64, overlap_slope::Float64, delaunay_eps::Float64)\n",
    "    measures = MorphoMol.Energies.get_geometric_measures_and_overlap_value(x, 1, radii, rs, overlap_jump, overlap_slope, delaunay_eps)\n",
    "    sum(measures .* [prefactors; 1.0])\n",
    "end\n",
    "\n",
    "perturb_all(x, Σ) = x .+ (randn(length(x)) .* Σ)\n",
    "\n",
    "function perturb_single_randomly_chosen(x, σ_t)\n",
    "    x_cand = deepcopy(x)\n",
    "    i  = rand(0:(length(x)÷3)-1)\n",
    "    x_cand[(i*3)+1:(i*3)+3] = x_cand[(i*3)+1:(i*3)+3] .+ (randn(3) .* σ_t)\n",
    "    x_cand\n",
    "end"
   ]
  },
  {
   "cell_type": "code",
   "execution_count": 71,
   "metadata": {},
   "outputs": [
    {
     "name": "stdout",
     "output_type": "stream",
     "text": [
      "T = 0.4408062904403778\n"
     ]
    },
    {
     "data": {
      "text/plain": [
       "0.38349"
      ]
     },
     "execution_count": 71,
     "metadata": {},
     "output_type": "execute_result"
    }
   ],
   "source": [
    "rs = 0.2\n",
    "eta = 0.475\n",
    "\n",
    "template_centers = [0.0, 0.0, 0.0]\n",
    "template_radii = [1.0]\n",
    "n = 4\n",
    "bounds = 3.5\n",
    "x_init = get_random_configuration_without_overlap_in_bounds(n, bounds)\n",
    "n_atoms_per_mol = length(template_radii)\n",
    "radii = vcat([template_radii for i in 1:n]...)\n",
    "\n",
    "pf = MorphoMol.Energies.get_prefactors(rs, eta)\n",
    "\n",
    "T_init = calculate_initial_temperature(n, rs, pf)\n",
    "T = T_init * 4.0\n",
    "println(\"T = $T\")\n",
    "\n",
    "iterations = 100000\n",
    "\n",
    "overlap_slope = 500.0\n",
    "overlap_jump = 0.0\n",
    "\n",
    "σ_t = rs\n",
    "Σ = vcat([[σ_t, σ_t, σ_t] for _ in 1:n]...)\n",
    "\n",
    "energy(x) = solvation_free_energy_in_bounds(x, radii, rs, pf, overlap_jump, overlap_slope, bounds, 100.0)\n",
    "perturbation(x) = perturb_single_randomly_chosen(x, σ_t)\n",
    "\n",
    "rwm = RandomWalkMetropolis(\n",
    "    energy,\n",
    "    perturbation,\n",
    "    1/T,\n",
    ")\n",
    "x, E, alpha = MorphoMol.Algorithms.simulate!(rwm, x_init, iterations);\n",
    "alpha"
   ]
  },
  {
   "cell_type": "code",
   "execution_count": 72,
   "metadata": {},
   "outputs": [
    {
     "data": {
      "text/plain": [
       "(3250.9237642849266, 3247.149971050299)"
      ]
     },
     "execution_count": 72,
     "metadata": {},
     "output_type": "execute_result"
    }
   ],
   "source": [
    "m_mcc = minimal_mcc(4, rs, pf)\n",
    "energy(x), solvation_free_energy(m_mcc.centers .* 1.0015, radii, rs, pf, 0.0, 0.0, 1000.0)"
   ]
  },
  {
   "cell_type": "code",
   "execution_count": 73,
   "metadata": {},
   "outputs": [
    {
     "data": {
      "text/plain": [
       "GLMakie.Screen(...)"
      ]
     },
     "execution_count": 73,
     "metadata": {},
     "output_type": "execute_result"
    }
   ],
   "source": [
    "fig = Figure()\n",
    "sc1 = LScene(fig[1,1])\n",
    "for c in [e for e in eachcol(reshape(x_init, (3, length(x_init)÷3)))]\n",
    "    mesh!(sc1, HyperSphere(Point3f(c), Float32(1.0)), color = :blue)\n",
    "    mesh!(sc1, HyperSphere(Point3f(c), Float32(1.0 + rs)), color = RGBAf(0.0, 0.5, 0.3, 0.25))\n",
    "end\n",
    "\n",
    "sc2 = LScene(fig[1,2])\n",
    "for c in [e for e in eachcol(reshape(x, (3, length(x)÷3)))]\n",
    "    mesh!(sc2, HyperSphere(Point3f(c), Float32(1.0)), color = :green)\n",
    "    mesh!(sc2, HyperSphere(Point3f(c), Float32(1.0 + rs)), color = RGBAf(0.0, 0.5, 0.3, 0.25))\n",
    "end\n",
    "\n",
    "sc3 = LScene(fig[1,3])\n",
    "for c in [e for e in eachcol(reshape(m_mcc.centers, (3, length(m_mcc.centers)÷3)))]\n",
    "    mesh!(sc3, HyperSphere(Point3f(c), Float32(1.0)), color = :red)\n",
    "    mesh!(sc3, HyperSphere(Point3f(c), Float32(1.0 + rs)), color = RGBAf(0.0, 0.5, 0.3, 0.25))\n",
    "end\n",
    "\n",
    "display(fig)"
   ]
  },
  {
   "cell_type": "code",
   "execution_count": null,
   "metadata": {},
   "outputs": [],
   "source": []
  }
 ],
 "metadata": {
  "kernelspec": {
   "display_name": "julia_tda 1.10.6",
   "language": "julia",
   "name": "julia_tda-1.10"
  },
  "language_info": {
   "file_extension": ".jl",
   "mimetype": "application/julia",
   "name": "julia",
   "version": "1.10.6"
  }
 },
 "nbformat": 4,
 "nbformat_minor": 2
}
