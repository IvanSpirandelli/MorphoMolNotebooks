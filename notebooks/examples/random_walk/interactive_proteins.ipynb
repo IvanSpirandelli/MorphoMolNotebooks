{
 "cells": [
  {
   "cell_type": "code",
   "execution_count": 1,
   "metadata": {},
   "outputs": [
    {
     "name": "stderr",
     "output_type": "stream",
     "text": [
      "\u001b[32m\u001b[1m  Activating\u001b[22m\u001b[39m project at `~/Doktor/Code/MorphoMol/MorphoMolNotebooks`\n",
      "\u001b[32m\u001b[1mPrecompiling\u001b[22m\u001b[39m MorphoMol\n",
      "\u001b[32m  ✓ \u001b[39mMorphoMol\n",
      "  1 dependency successfully precompiled in 3 seconds. 258 already precompiled.\n",
      "\u001b[36m\u001b[1m[ \u001b[22m\u001b[39m\u001b[36m\u001b[1mInfo: \u001b[22m\u001b[39mPrecompiling MorphoMol [85e20460-a9b2-48f6-9df6-e154e9748d83]\n",
      "\u001b[32m\u001b[1mPrecompiling\u001b[22m\u001b[39m MorphoMolNotebooks\n",
      "\u001b[32m  ✓ \u001b[39mMorphoMolNotebooks\n",
      "  1 dependency successfully precompiled in 53 seconds. 283 already precompiled.\n",
      "\u001b[36m\u001b[1m[ \u001b[22m\u001b[39m\u001b[36m\u001b[1mInfo: \u001b[22m\u001b[39mPrecompiling MorphoMolNotebooks [3c5b58fc-d541-4bcd-a332-95372d8cdad8]\n",
      "\u001b[33m\u001b[1m┌ \u001b[22m\u001b[39m\u001b[33m\u001b[1mWarning: \u001b[22m\u001b[39mModule MorphoMol with build ID fafbfcfd-5b03-0507-0000-1622c55db775 is missing from the cache.\n",
      "\u001b[33m\u001b[1m│ \u001b[22m\u001b[39mThis may mean MorphoMol [85e20460-a9b2-48f6-9df6-e154e9748d83] does not support precompilation but is imported by a module that does.\n",
      "\u001b[33m\u001b[1m└ \u001b[22m\u001b[39m\u001b[90m@ Base loading.jl:1948\u001b[39m\n",
      "\u001b[36m\u001b[1m[ \u001b[22m\u001b[39m\u001b[36m\u001b[1mInfo: \u001b[22m\u001b[39mSkipping precompilation since __precompile__(false). Importing MorphoMolNotebooks [3c5b58fc-d541-4bcd-a332-95372d8cdad8].\n",
      "\u001b[36m\u001b[1m[ \u001b[22m\u001b[39m\u001b[36m\u001b[1mInfo: \u001b[22m\u001b[39mPrecompiling JLD2 [033835bb-8acc-5ee8-8aae-3f567f8a3819]\n",
      "\u001b[36m\u001b[1m[ \u001b[22m\u001b[39m\u001b[36m\u001b[1mInfo: \u001b[22m\u001b[39mPrecompiling Graphs [86223c79-3864-5bf0-83f7-82e725a168b6]\n",
      "\u001b[36m\u001b[1m[ \u001b[22m\u001b[39m\u001b[36m\u001b[1mInfo: \u001b[22m\u001b[39mPrecompiling GLMakie [e9467ef8-e4e7-5192-8a1a-b1aee30e663a]\n"
     ]
    }
   ],
   "source": [
    "import Pkg; \n",
    "\n",
    "if split(pwd(),\"/\")[end] == \"random_walk\"\n",
    "    cd(joinpath(@__DIR__, \"../../../\"))\n",
    "    Pkg.activate(\"Project.toml\")\n",
    "end\n",
    "\n",
    "using MorphoMol\n",
    "using MorphoMolNotebooks\n",
    "using GLMakie\n",
    "using LinearAlgebra\n",
    "using Random\n",
    "using Rotations\n",
    "using StaticArrays\n",
    "using Distributions\n",
    "using Distances"
   ]
  },
  {
   "cell_type": "code",
   "execution_count": 3,
   "metadata": {},
   "outputs": [],
   "source": [
    "mol_type = \"6r7m\"\n",
    "template_centers = MorphoMol.TEMPLATES[mol_type][\"template_centers\"]\n",
    "template_radii = MorphoMol.TEMPLATES[mol_type][\"template_radii\"]\n",
    "n_mol = 2\n",
    "bounds = 80.0\n",
    "x_init = MorphoMol.get_initial_state(n_mol, bounds)\n",
    "n_atoms_per_mol = length(template_radii)\n",
    "radii = vcat([template_radii for i in 1:n_mol]...);"
   ]
  },
  {
   "cell_type": "code",
   "execution_count": 5,
   "metadata": {},
   "outputs": [
    {
     "data": {
      "text/plain": [
       "0.3"
      ]
     },
     "execution_count": 5,
     "metadata": {},
     "output_type": "execute_result"
    }
   ],
   "source": [
    "T = 0.65\n",
    "β = 1.0 / T\n",
    "\n",
    "#persistence_weights = [0.5, -0.25, -0.1]\n",
    "persistence_weights = [0.0, 1.0, 0.0]\n",
    "\n",
    "σ_r = 0.15\n",
    "σ_t = 1.25\n",
    "Σ = vcat([[σ_r, σ_r, σ_r, σ_t, σ_t, σ_t] for _ in 1:n_mol]...)\n",
    "\n",
    "input = Dict(\n",
    "    \"template_centers\" => template_centers,\n",
    "    \"template_radii\" => template_radii,\n",
    "    \"n_mol\" => n_mol,\n",
    "    \"σ_r\" => σ_r,\n",
    "    \"σ_t\" => σ_t,\n",
    "    \"persistence_weights\" => persistence_weights,\n",
    "    \"T\" => T,\n",
    "    \"mol_type\" => mol_type\n",
    ")\n",
    "\n",
    "energy(x) = MorphoMol.interface_persistence(x, template_centers, persistence_weights)\n",
    "perturbation(x) = MorphoMol.perturb_single_randomly_chosen(x, σ_r, σ_t)\n",
    "\n",
    "output = Dict{String, Vector}(\n",
    "    \"states\" => Vector{Vector{Float64}}([]),\n",
    "    \"Es\" => Vector{Float64}([]),\n",
    "    \"αs\" => Vector{Float32}([]),\n",
    "    \"P0s\" => Vector{Float64}([]),\n",
    "    \"P1s\" => Vector{Float64}([]),\n",
    "    \"P2s\" => Vector{Float64}([]),\n",
    ")\n",
    "\n",
    "rwm = MorphoMol.Algorithms.RandomWalkMetropolis(energy, perturbation, β)\n",
    "simulation_time_minutes = 0.3"
   ]
  },
  {
   "cell_type": "code",
   "execution_count": 7,
   "metadata": {},
   "outputs": [
    {
     "data": {
      "text/plain": [
       "0.17391305f0"
      ]
     },
     "execution_count": 7,
     "metadata": {},
     "output_type": "execute_result"
    }
   ],
   "source": [
    "MorphoMol.Algorithms.simulate!(rwm, x_init, simulation_time_minutes, output);\n",
    "output[\"αs\"][end]"
   ]
  },
  {
   "cell_type": "code",
   "execution_count": 8,
   "metadata": {},
   "outputs": [
    {
     "data": {
      "text/plain": [
       "5"
      ]
     },
     "execution_count": 8,
     "metadata": {},
     "output_type": "execute_result"
    }
   ],
   "source": [
    "length(output[\"states\"])"
   ]
  },
  {
   "cell_type": "code",
   "execution_count": 9,
   "metadata": {},
   "outputs": [
    {
     "data": {
      "text/plain": [
       "GLMakie.Screen(...)"
      ]
     },
     "execution_count": 9,
     "metadata": {},
     "output_type": "execute_result"
    },
    {
     "name": "stderr",
     "output_type": "stream",
     "text": [
      "2024-12-20 17:33:51.140 julia[9247:287354] +[IMKClient subclass]: chose IMKClient_Modern\n",
      "2024-12-20 17:33:51.140 julia[9247:287354] +[IMKInputSession subclass]: chose IMKInputSession_Modern\n"
     ]
    }
   ],
   "source": [
    "n = length(output[\"Es\"])\n",
    "e_mindex = argmin(output[\"Es\"])\n",
    "\n",
    "figure_config = Dict(\n",
    "    \"plot_ms\" => 5,\n",
    "    \"tracker_ms\" => 10,\n",
    "    \"title_fs\" => 20,\n",
    "    \"vis_range\" =>  maximum([1, e_mindex-750]):minimum([e_mindex + 50, n])\n",
    ")\n",
    "\n",
    "f = Figure(fontsize = 12)\n",
    "#Slider\n",
    "sl_i = Slider(f[3, 1:3], range = 1:length(output[\"states\"][figure_config[\"vis_range\"]]), startvalue = 1)\n",
    "x = sl_i.value\n",
    "cgl = GridLayout(f[1,1])\n",
    "MorphoMolNotebooks.visualize_configuration_sequence!(cgl, x, input, output, figure_config)\n",
    "\n",
    "# aspgl = GridLayout(f[2, 1:2])    \n",
    "# MorphoMolNotebooks.visualize_alpha_shape_persistence_measures!(aspgl, x, input, output, figure_config)\n",
    "\n",
    "etgl = GridLayout(f[2, 3])\n",
    "MorphoMolNotebooks.visualize_energy_and_theta!(etgl, x, input, output, figure_config)\n",
    "\n",
    "display(f)"
   ]
  }
 ],
 "metadata": {
  "kernelspec": {
   "display_name": "julia_tda_1.10 1.10.6",
   "language": "julia",
   "name": "julia_tda_1.10-1.10"
  },
  "language_info": {
   "file_extension": ".jl",
   "mimetype": "application/julia",
   "name": "julia",
   "version": "1.10.6"
  }
 },
 "nbformat": 4,
 "nbformat_minor": 2
}
