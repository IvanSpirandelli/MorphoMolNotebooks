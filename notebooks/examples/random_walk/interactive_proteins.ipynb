{
 "cells": [
  {
   "cell_type": "code",
   "execution_count": 11,
   "metadata": {},
   "outputs": [],
   "source": [
    "import Pkg; \n",
    "\n",
    "if split(pwd(),\"/\")[end] == \"random_walk\"\n",
    "    cd(joinpath(@__DIR__, \"../../../\"))\n",
    "    Pkg.activate(\"Project.toml\")\n",
    "end\n",
    "\n",
    "using MorphoMol\n",
    "using MorphoMolNotebooks\n",
    "using GLMakie\n",
    "using LinearAlgebra\n",
    "using Random\n",
    "using Rotations\n",
    "using StaticArrays\n",
    "using Distributions\n",
    "using Distances"
   ]
  },
  {
   "cell_type": "code",
   "execution_count": 12,
   "metadata": {},
   "outputs": [],
   "source": [
    "mol_type = \"6r7m\"\n",
    "template_centers = MorphoMol.Utilities.TMV_TEMPLATES[mol_type][\"template_centers\"]\n",
    "template_radii = MorphoMol.Utilities.TMV_TEMPLATES[mol_type][\"template_radii\"]\n",
    "n_mol = 2\n",
    "bounds = 80.0\n",
    "x_init = MorphoMol.Utilities.get_initial_state(n_mol, bounds)\n",
    "n_atoms_per_mol = length(template_radii)\n",
    "radii = vcat([template_radii for i in 1:n_mol]...);"
   ]
  },
  {
   "cell_type": "code",
   "execution_count": null,
   "metadata": {},
   "outputs": [
    {
     "data": {
      "text/plain": [
       "10.0"
      ]
     },
     "execution_count": 37,
     "metadata": {},
     "output_type": "execute_result"
    }
   ],
   "source": [
    "T = 0.65\n",
    "β = 1.0 / T\n",
    "\n",
    "#persistence_weights = [0.5, -0.25, -0.1]\n",
    "persistence_weights = [0.0, 1.0, 0.0]\n",
    "\n",
    "σ_r = 0.15\n",
    "σ_t = 1.25\n",
    "Σ = vcat([[σ_r, σ_r, σ_r, σ_t, σ_t, σ_t] for _ in 1:n_mol]...)\n",
    "\n",
    "input = Dict(\n",
    "    \"template_centers\" => template_centers,\n",
    "    \"template_radii\" => template_radii,\n",
    "    \"n_mol\" => n_mol,\n",
    "    \"σ_r\" => σ_r,\n",
    "    \"σ_t\" => σ_t,\n",
    "    \"persistence_weights\" => persistence_weights,\n",
    "    \"T\" => T,\n",
    "    \"mol_type\" => mol_type\n",
    ")\n",
    "\n",
    "#energy(x) = solvation_free_energy_and_measures(x,template_centers, radii, rs, pf, 0.0, overlap_slope, 1.0)\n",
    "energy(x) = persistence(x, template_centers, persistence_weights)\n",
    "perturbation(x) = perturb_single_randomly_chosen(x, σ_r, σ_t)\n",
    "\n",
    "output = Dict{String, Vector}(\n",
    "    \"states\" => Vector{Vector{Float64}}([]),\n",
    "    \"Es\" => Vector{Float64}([]),\n",
    "    \"αs\" => Vector{Float32}([]),\n",
    "    \"P0s\" => Vector{Float64}([]),\n",
    "    \"P1s\" => Vector{Float64}([]),\n",
    "    \"P2s\" => Vector{Float64}([]),\n",
    ")\n",
    "\n",
    "rwm = MorphoMol.Algorithms.RandomWalkMetropolis(energy, perturbation, β)\n",
    "simulation_time_minutes = 10.0"
   ]
  },
  {
   "cell_type": "code",
   "execution_count": 38,
   "metadata": {},
   "outputs": [
    {
     "data": {
      "text/plain": [
       "0.61310345f0"
      ]
     },
     "execution_count": 38,
     "metadata": {},
     "output_type": "execute_result"
    }
   ],
   "source": [
    "MorphoMol.Algorithms.simulate!(rwm, x_init, simulation_time_minutes, output);\n",
    "output[\"αs\"][end]"
   ]
  },
  {
   "cell_type": "code",
   "execution_count": 39,
   "metadata": {},
   "outputs": [
    {
     "data": {
      "text/plain": [
       "1779"
      ]
     },
     "execution_count": 39,
     "metadata": {},
     "output_type": "execute_result"
    }
   ],
   "source": [
    "length(output[\"states\"])"
   ]
  },
  {
   "cell_type": "code",
   "execution_count": null,
   "metadata": {},
   "outputs": [
    {
     "data": {
      "text/plain": [
       "GLMakie.Screen(...)"
      ]
     },
     "execution_count": 40,
     "metadata": {},
     "output_type": "execute_result"
    },
    {
     "ename": "",
     "evalue": "",
     "output_type": "error",
     "traceback": [
      "\u001b[1;31mThe Kernel crashed while executing code in the current cell or a previous cell. \n",
      "\u001b[1;31mPlease review the code in the cell(s) to identify a possible cause of the failure. \n",
      "\u001b[1;31mClick <a href='https://aka.ms/vscodeJupyterKernelCrash'>here</a> for more info. \n",
      "\u001b[1;31mView Jupyter <a href='command:jupyter.viewOutput'>log</a> for further details."
     ]
    }
   ],
   "source": [
    "n = length(output[\"Es\"])\n",
    "e_mindex = argmin(output[\"Es\"])\n",
    "\n",
    "figure_config = Dict(\n",
    "    \"plot_ms\" => 5,\n",
    "    \"tracker_ms\" => 10,\n",
    "    \"title_fs\" => 20,\n",
    "    \"vis_range\" =>  maximum([1, e_mindex-750]):minimum([e_mindex + 50, n])\n",
    ")\n",
    "\n",
    "f = Figure(fontsize = 12)\n",
    "#Slider\n",
    "sl_i = Slider(f[3, 1:3], range = 1:length(output[\"states\"][figure_config[\"vis_range\"]]), startvalue = 1)\n",
    "x = sl_i.value\n",
    "cgl = GridLayout(f[1,1])\n",
    "MorphoMolNotebooks.visualize_configuration_sequence!(cgl, x, input, output, figure_config)\n",
    "\n",
    "aspgl = GridLayout(f[2, 1:2])    \n",
    "MorphoMolNotebooks.visualize_alpha_shape_persistence_measures!(aspgl, x, input, output, figure_config)\n",
    "\n",
    "etgl = GridLayout(f[2, 3])\n",
    "MorphoMolNotebooks.visualize_energy_and_theta!(etgl, x, input, output, figure_config)\n",
    "\n",
    "display(f)"
   ]
  }
 ],
 "metadata": {
  "kernelspec": {
   "display_name": "julia_tda 1.10.6",
   "language": "julia",
   "name": "julia_tda-1.10"
  },
  "language_info": {
   "file_extension": ".jl",
   "mimetype": "application/julia",
   "name": "julia",
   "version": "1.10.6"
  }
 },
 "nbformat": 4,
 "nbformat_minor": 2
}
