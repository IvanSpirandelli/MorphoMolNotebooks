{
 "cells": [
  {
   "cell_type": "code",
   "execution_count": 11,
   "metadata": {},
   "outputs": [],
   "source": [
    "import Pkg; \n",
    "\n",
    "if split(pwd(),\"/\")[end] == \"prototyping\"\n",
    "    cd(joinpath(@__DIR__, \"../../\"))\n",
    "    Pkg.activate(\"Project.toml\")\n",
    "end\n",
    "\n",
    "using MorphoMolNotebooks\n",
    "using MorphoMol\n",
    "using JLD2\n",
    "using GLMakie\n",
    "using GeometryBasics"
   ]
  },
  {
   "cell_type": "code",
   "execution_count": 12,
   "metadata": {},
   "outputs": [
    {
     "data": {
      "text/plain": [
       "2-element Vector{Symbol}:\n",
       " :input\n",
       " :output"
      ]
     },
     "execution_count": 12,
     "metadata": {},
     "output_type": "execute_result"
    }
   ],
   "source": [
    "@load \"../../Data/hpc_out/rwm_wip_2_6r7m/13_rwm_wip_2_6r7m.jld2\" input output"
   ]
  },
  {
   "cell_type": "code",
   "execution_count": 35,
   "metadata": {},
   "outputs": [],
   "source": [
    "n = length(output[\"Es\"])\n",
    "selection = [i for i in n-25:n];"
   ]
  },
  {
   "cell_type": "code",
   "execution_count": 39,
   "metadata": {},
   "outputs": [],
   "source": [
    "realizations = [[e for e in eachcol(hcat(MorphoMol.Utilities.get_matrix_realization(state, input[\"template_centers\"])...))] for state in output[\"states\"][selection]]\n",
    "realizations = [hcat(realizations[i]...) for i in 1:length(realizations)]\n",
    "Es = output[\"Es\"][selection]\n",
    "pf = MorphoMol.Energies.get_prefactors(input[\"rs\"], input[\"η\"])\n",
    "Vs = pf[1] .* output[\"Vs\"][selection]\n",
    "As = pf[2] .* output[\"As\"][selection]\n",
    "Cs = pf[3] .* output[\"Cs\"][selection]\n",
    "Xs = pf[4] .* output[\"Xs\"][selection]\n",
    "OLs = input[\"overlap_slope\"] .* output[\"OLs\"][selection]\n",
    "mol_type = input[\"mol_type\"]    \n",
    "exp_template_centers = MorphoMol.Utilities.TWOTMVSU_EXPERIMENTAL_ASSEMBLY[mol_type][\"template_centers\"]\n",
    "exp_state = MorphoMol.Utilities.TWOTMVSU_EXPERIMENTAL_ASSEMBLY[mol_type][\"state\"]\n",
    "thetas = [MorphoMol.Utilities.average_offset_distance(exp_template_centers, input[\"template_centers\"], exp_state, state) for state in output[\"states\"][selection]]\n",
    "xs = [i for i in 1:length(Es)];\n",
    "zero_ps = output[\"P0s\"][selection]\n",
    "one_ps = output[\"P1s\"][selection]\n",
    "pw = input[\"persistence_weights\"]\n",
    "tps = zero_ps .* pw[1] .+ one_ps .* pw[2];"
   ]
  },
  {
   "cell_type": "code",
   "execution_count": 47,
   "metadata": {},
   "outputs": [
    {
     "name": "stdout",
     "output_type": "stream",
     "text": [
      "1\n",
      "2\n",
      "3\n",
      "4\n",
      "5\n",
      "6\n",
      "7\n",
      "8\n",
      "9\n",
      "10\n",
      "11\n",
      "12\n",
      "13\n",
      "14\n",
      "15\n",
      "16\n",
      "17\n",
      "18\n",
      "19\n",
      "20\n",
      "21\n",
      "22\n",
      "23\n",
      "24\n",
      "25\n",
      "26\n"
     ]
    }
   ],
   "source": [
    "barycentric_subdivisions = Vector{Vector{Point3f}}([])\n",
    "ifils = Vector{Vector{Tuple{Vector{Int}, Float32}}}([])\n",
    "\n",
    "for i in 1:length(selection)\n",
    "    points = [e for e in eachcol(realizations[i])]\n",
    "    mc_tet = MorphoMol.Energies.get_multichromatic_tetrahedra(points, 1206)\n",
    "    bcs, ifil = MorphoMol.Energies.get_barycentric_subdivision_and_filtration(points, mc_tet)\n",
    "    push!(barycentric_subdivisions, bcs)\n",
    "    push!(ifils, ifil)\n",
    "end"
   ]
  },
  {
   "cell_type": "code",
   "execution_count": 49,
   "metadata": {},
   "outputs": [
    {
     "data": {
      "text/plain": [
       "GLMakie.Screen(...)"
      ]
     },
     "execution_count": 49,
     "metadata": {},
     "output_type": "execute_result"
    }
   ],
   "source": [
    "max_v = sqrt(maximum([v for ifil in ifils for (_, v) in ifil]))\n",
    "min_v = sqrt(minimum([v for ifil in ifils for (_, v) in ifil]))\n",
    "\n",
    "xs = [i for i in 1:length(Es)];\n",
    "\n",
    "f = Figure(fontsize = 12)\n",
    "title_fs = 15\n",
    "ms = 5\n",
    "cm = :Dark2_8\n",
    "cr = (1,8)\n",
    "\n",
    "#Slider\n",
    "sl_i = Slider(f[6, 1:6], range = 1:length(xs), startvalue = 1)\n",
    "x = sl_i.value\n",
    "\n",
    "# Interface\n",
    "ig = GridLayout(f[1:3, 4:6])\n",
    "Label(ig[0, 1:2], text = \"Interface\", fontsize = title_fs)\n",
    "i_sc = LScene(ig[1:2, 1:2], show_axis=false)\n",
    "\n",
    "faces = [[TriangleFace(e[1]) for e in filtration if length(e[1]) == 3] for filtration in ifils]\n",
    "meshes = [GeometryBasics.Mesh(bcs, fs) for (bcs, fs) in zip(barycentric_subdivisions, faces)]\n",
    "colors = [[e[2] for e in filtration if length(e[1]) == 1] for filtration in ifils]\n",
    "\n",
    "l_ms, l_cs = @lift(meshes[$x]), @lift(colors[$x])\n",
    "mesh!(i_sc, l_ms, color = l_cs, colorrange = (min_v, max_v), colormap = :magma)\n",
    "\n",
    "\n",
    "# Configuration\n",
    "cg = GridLayout(f[1:2, 1:3])\n",
    "Label(cg[0, 1:2], text = \"Configuration\", fontsize = title_fs)\n",
    "conf_sc = LScene(cg[1:2, 1:2], show_axis=false)\n",
    "n_atoms = size(realizations[1])[2]\n",
    "n_mol = 2\n",
    "points = @lift([Point3f(realizations[$x][1,i], realizations[$x][2,i], realizations[$x][3,i]) for i in 1:n_atoms])\n",
    "conf_colors = vcat([[j for _ in 1:1206] for j in 1:n_mol]...)\n",
    "conf_ms = 10\n",
    "scatter!(conf_sc, points, markersize = conf_ms, color = conf_colors, colormap = :pastel)\n",
    "mesh!(conf_sc, l_ms, color = l_cs, colorrange = (min_v, max_v), colormap = :magma)\n",
    "\n",
    "# # Persistence\n",
    "# cm = :Spectral_4\n",
    "# cr = (1, 4)\n",
    "\n",
    "# pg = GridLayout(f[1:2, 3:4])\n",
    "# Label(pg[0, 1:3], text = \"Persistence (not included in Energy)\", fontsize = title_fs)\n",
    "# zero_p_ax = Axis(pg[2, 1], title = \"$(pw[1]) b_0\")\n",
    "# one_p_ax = Axis(pg[1, 2], title = \"$(pw[2]) b_1\")\n",
    "# tp_ax = Axis(pg[1, 1], title = L\"Σ\")\n",
    "\n",
    "# tp_mark = @lift(Point2f($x, $@lift(tps[$x])))\n",
    "\n",
    "# zero_p_mark = @lift(Point2f($x, $@lift(zero_ps[$x])))\n",
    "# one_p_mark = @lift(Point2f($x, $@lift(one_ps[$x])))\n",
    "# scatter!(zero_p_ax, xs, zero_ps, color = 1, colormap = cm, colorrange = cr, markersize = ms)\n",
    "# scatter!(zero_p_ax, zero_p_mark, color=:black, markersize = 10)\n",
    "\n",
    "# scatter!(one_p_ax, xs, one_ps, color = 2, colormap = cm, colorrange = cr, markersize = ms)\n",
    "# scatter!(one_p_ax, one_p_mark, color=:black, markersize = 10)\n",
    "\n",
    "#Energy and Theta\n",
    "eg = GridLayout(f[4, 4:6])\n",
    "Label(eg[0, 1:2], text = \"Energy\", fontsize = title_fs)\n",
    "E_ax = Axis(eg[1:2, 1], title = L\"F_{sol}\")\n",
    "theta_ax = Axis(eg[1:2, 2], title = L\"\\Theta\")\n",
    "\n",
    "theta_mark = @lift(Point2f($x, $@lift(thetas[$x])))\n",
    "E_mark = @lift(Point2f($x, $@lift(Es[$x])))\n",
    "\n",
    "scatter!(theta_ax, xs, thetas, color = :magenta, markersize = ms)\n",
    "scatter!(theta_ax, theta_mark, color=:black, markersize = 10)\n",
    "\n",
    "scatter!(E_ax, xs, Es, color = :blue, markersize = ms)\n",
    "scatter!(E_ax, E_mark, color=:black, markersize = 10)\n",
    "\n",
    "#Measures    \n",
    "pf = MorphoMol.Energies.get_prefactors(1.4, 0.3665)\n",
    "Vs = pf[1] .* Vs\n",
    "As = pf[2] .* As\n",
    "Cs = pf[3] .* Cs\n",
    "Xs = pf[4] .* Xs\n",
    "\n",
    "mg = GridLayout(f[5, 1:5])\n",
    "Label(mg[0, 1:5], text = \"Geometric Measures\", fontsize = title_fs)\n",
    "cm = :Set2_5\n",
    "cr = (1, 5)\n",
    "\n",
    "Vs_ax = Axis(mg[1, 1], title = L\"pV\")\n",
    "As_ax = Axis(mg[1, 2], title = L\"\\sigma A\")\n",
    "Cs_ax = Axis(mg[1, 3], title = L\"\\kappa C\")\n",
    "Xs_ax = Axis(mg[1, 4], title = L\"\\overline{\\kappa} X\")\n",
    "OLs_ax = Axis(mg[1, 5], title = L\"OLs\")\n",
    "\n",
    "Vs_mark = @lift(Point2f($x, $@lift(Vs[$x])))\n",
    "As_mark = @lift(Point2f($x, $@lift(As[$x])))\n",
    "Cs_mark = @lift(Point2f($x, $@lift(Cs[$x])))\n",
    "Xs_mark = @lift(Point2f($x, $@lift(Xs[$x])))\n",
    "OLs_mark = @lift(Point2f($x, $@lift(OLs[$x])))\n",
    "\n",
    "scatter!(Vs_ax, xs, Vs, color = 1, colormap = cm, colorrange = cr, markersize = ms)\n",
    "scatter!(Vs_ax, Vs_mark, color=:black, markersize = 10)\n",
    "\n",
    "scatter!(As_ax, xs, As, color = 2, colormap = cm, colorrange = cr, markersize = ms)\n",
    "scatter!(As_ax, As_mark, color=:black, markersize = 10)\n",
    "\n",
    "scatter!(Cs_ax, xs, Cs, color = 3, colormap = cm, colorrange = cr, markersize = ms)\n",
    "scatter!(Cs_ax, Cs_mark, color=:black, markersize = 10)\n",
    "\n",
    "scatter!(Xs_ax, xs, Xs, color = 4, colormap = cm, colorrange = cr, markersize = ms)\n",
    "scatter!(Xs_ax, Xs_mark, color=:black, markersize = 10)\n",
    "\n",
    "scatter!(OLs_ax, xs, OLs, color = 5, colormap = cm, colorrange = cr, markersize = ms)\n",
    "scatter!(OLs_ax, OLs_mark, color=:black, markersize = 10)\n",
    "\n",
    "display(f)"
   ]
  }
 ],
 "metadata": {
  "kernelspec": {
   "display_name": "Julia Oineus 1.10.4",
   "language": "julia",
   "name": "julia-oineus-1.10"
  },
  "language_info": {
   "file_extension": ".jl",
   "mimetype": "application/julia",
   "name": "julia",
   "version": "1.10.4"
  }
 },
 "nbformat": 4,
 "nbformat_minor": 2
}
