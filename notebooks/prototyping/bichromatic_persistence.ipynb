{
 "cells": [
  {
   "cell_type": "code",
   "execution_count": 1,
   "metadata": {},
   "outputs": [
    {
     "name": "stderr",
     "output_type": "stream",
     "text": [
      "\u001b[32m\u001b[1m  Activating\u001b[22m\u001b[39m project at `~/Doktor/Code/MorphoMol/MorphoMolNotebooks`\n",
      "\u001b[32m\u001b[1mPrecompiling\u001b[22m\u001b[39m MorphoMolNotebooks\n",
      "\u001b[32m  ✓ \u001b[39m\u001b[90mMeshIO\u001b[39m\n",
      "\u001b[32m  ✓ \u001b[39mCairoMakie\n",
      "\u001b[32m  ✓ \u001b[39mMorphoMol\n",
      "\u001b[32m  ✓ \u001b[39mMorphoMolNotebooks\n",
      "  4 dependencies successfully precompiled in 117 seconds. 280 already precompiled.\n",
      "\u001b[36m\u001b[1m[ \u001b[22m\u001b[39m\u001b[36m\u001b[1mInfo: \u001b[22m\u001b[39mPrecompiling MorphoMolNotebooks [3c5b58fc-d541-4bcd-a332-95372d8cdad8]\n"
     ]
    }
   ],
   "source": [
    "import Pkg; \n",
    "\n",
    "if split(pwd(),\"/\")[end] == \"prototyping\"\n",
    "    cd(joinpath(@__DIR__, \"../../\"))\n",
    "    Pkg.activate(\"Project.toml\")\n",
    "end\n",
    "\n",
    "using MorphoMolNotebooks\n",
    "using MorphoMol\n",
    "using JLD2\n",
    "using PyCall\n",
    "using Distances"
   ]
  },
  {
   "cell_type": "code",
   "execution_count": 2,
   "metadata": {},
   "outputs": [
    {
     "data": {
      "text/plain": [
       "gauss_kernel (generic function with 1 method)"
      ]
     },
     "execution_count": 2,
     "metadata": {},
     "output_type": "execute_result"
    }
   ],
   "source": [
    "gauss_kernel(x, positions, charges, b) = sum([charges[i] * exp(-b*euclidean(x, positions[i])^2) for i in 1:length(positions)])"
   ]
  },
  {
   "cell_type": "code",
   "execution_count": 3,
   "metadata": {},
   "outputs": [
    {
     "data": {
      "text/plain": [
       "1206-element Vector{Float64}:\n",
       " -0.7799671898303852\n",
       " -4.378514768498838e-10\n",
       "  0.5499998345028063\n",
       " -0.5499998434886023\n",
       " -9.617756625450913e-10\n",
       " -0.4899776264228722\n",
       " -0.399992311711711\n",
       " -2.0757119854693957e-10\n",
       "  0.5499998531886483\n",
       " -0.5499998620724103\n",
       "  0.12499999998392412\n",
       " -0.12500000107557713\n",
       " -0.12499473112229083\n",
       "  ⋮\n",
       " -3.4837582912981367e-9\n",
       " -0.12499415410405833\n",
       " -0.12499488522303621\n",
       " -0.12499415416683705\n",
       " -0.12499473189204259\n",
       " -0.39999195222672956\n",
       " -2.0262976397317859e-10\n",
       "  0.5499997411441514\n",
       " -0.4899829374927875\n",
       " -6.128873963044401e-10\n",
       " -0.4899802281211102\n",
       " -3.5642816394569596e-26"
      ]
     },
     "execution_count": 3,
     "metadata": {},
     "output_type": "execute_result"
    }
   ],
   "source": [
    "charges = Vector{Float64}([])\n",
    "positions = Vector{Vector{Float64}}([])\n",
    "for line in readlines(\"assets/pqrs/6r7m_parse.pqr\")\n",
    "    line_array = split(line)\n",
    "    if line_array[1] ==  \"ATOM\"\n",
    "        p = [parse(Float64, line_array[6]), parse(Float64, line_array[7]), parse(Float64, line_array[8])]\n",
    "        q = parse(Float64, line_array[9])\n",
    "        push!(positions, p)\n",
    "        push!(charges, q)\n",
    "    end\n",
    "end\n",
    "\n",
    "radii = MorphoMol.Utilities.TWOTMVSU_EXPERIMENTAL_ASSEMBLY[\"6r7m\"][\"template_radii\"]\n",
    "centers = MorphoMol.Utilities.get_point_vector_realization([0.0, 0.0, 0.0, 0.0, 0.0, 0.0] ,MorphoMol.Utilities.TWOTMVSU_EXPERIMENTAL_ASSEMBLY[\"6r7m\"][\"template_centers\"])\n",
    "applied_charges = [gauss_kernel(c, positions, charges, 10.0) for c in centers]"
   ]
  },
  {
   "cell_type": "code",
   "execution_count": 4,
   "metadata": {},
   "outputs": [],
   "source": [
    "c_plus = (0.8, 0.2, 0.0)\n",
    "c_minus = (0.0, 0.2, 0.8)\n",
    "c_neutral = (0.2, 0.2, 0.2)\n",
    "\n",
    "cutoff = 0.1\n",
    "colors = [c_neutral for i in 1:length(applied_charges)]\n",
    "labels = [0 for i in 1:length(applied_charges)]\n",
    "for i in 1:length(applied_charges)\n",
    "    if charges[i] > cutoff\n",
    "        colors[i] = c_plus\n",
    "        labels[i] = 1\n",
    "    elseif charges[i] < -cutoff\n",
    "        colors[i] = c_minus\n",
    "        labels[i] = 2\n",
    "    end\n",
    "end\n",
    "\n",
    "MorphoMolNotebooks.configuration_to_poly(centers, radii, colors, \"assets/6r7m_parse_charges\")"
   ]
  },
  {
   "cell_type": "code",
   "execution_count": 5,
   "metadata": {},
   "outputs": [
    {
     "data": {
      "text/plain": [
       "get_chromatic_persistence (generic function with 1 method)"
      ]
     },
     "execution_count": 5,
     "metadata": {},
     "output_type": "execute_result"
    }
   ],
   "source": [
    "function get_chromatic_persistence(points, labels)\n",
    "    py\"\"\"\n",
    "    import chromatic_tda as chro\n",
    "    def get_chromatic_persistence(points, labels):\n",
    "        chro_alpha = chro.ChromaticAlphaComplex(points, labels) \n",
    "        # these options make sense for three colors; for two use, e.g., just sub_complex='mono-chromatic'\n",
    "        simplicial_complex = chro_alpha.get_simplicial_complex(sub_complex=\"bi-chromatic\", full_complex=\"all\", relative=\"mono-chromatic\")  \n",
    "        six_pack = simplicial_complex.bars_six_pack()\n",
    "        #chro.plot_six_pack(six_pack)\n",
    "        return six_pack\n",
    "    \"\"\"\n",
    "    py\"get_chromatic_persistence\"(points, labels)\n",
    "end"
   ]
  },
  {
   "cell_type": "code",
   "execution_count": 6,
   "metadata": {},
   "outputs": [
    {
     "data": {
      "text/plain": [
       "Dict{Any, Any} with 6 entries:\n",
       "  \"sub_complex\" => Dict{Any, Any}(2=>[(1.15351, 1.32543), (1.17379, 1.1827), (1…\n",
       "  \"complex\"     => Dict{Any, Any}(2=>[(1.15351, 1.32543), (1.17379, 1.1827), (1…\n",
       "  \"relative\"    => Dict{Any, Any}(4=>[(1.79973, 1.80015), (1.82871, 1.8346), (1…\n",
       "  \"cokernel\"    => Dict{Any, Any}(2=>[(1.17454, 1.18131), (1.2392, 1.23968), (1…\n",
       "  \"kernel\"      => Dict{Any, Any}(2=>[(1.1832, 1.18652), (1.49408, 1.49425), (1…\n",
       "  \"image\"       => Dict{Any, Any}(2=>[(1.15351, 1.32543), (1.17379, 1.1827), (1…"
      ]
     },
     "execution_count": 6,
     "metadata": {},
     "output_type": "execute_result"
    }
   ],
   "source": [
    "get_chromatic_persistence(centers, labels)"
   ]
  }
 ],
 "metadata": {
  "kernelspec": {
   "display_name": "julia_tda 1.10.6",
   "language": "julia",
   "name": "julia_tda-1.10"
  },
  "language_info": {
   "file_extension": ".jl",
   "mimetype": "application/julia",
   "name": "julia",
   "version": "1.10.6"
  }
 },
 "nbformat": 4,
 "nbformat_minor": 2
}
