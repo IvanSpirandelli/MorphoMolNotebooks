{
 "cells": [
  {
   "cell_type": "code",
   "execution_count": 2,
   "metadata": {},
   "outputs": [
    {
     "name": "stderr",
     "output_type": "stream",
     "text": [
      "\u001b[32m\u001b[1m  Activating\u001b[22m\u001b[39m project at `~/Doktor/Code/MorphoMol/MorphoMolNotebooks`\n"
     ]
    }
   ],
   "source": [
    "import Pkg; \n",
    "\n",
    "if split(pwd(),\"/\")[end] == \"prototyping\"\n",
    "    cd(joinpath(@__DIR__, \"../../\"))\n",
    "    Pkg.activate(\"Project.toml\")\n",
    "end\n",
    "\n",
    "using MorphoMolNotebooks\n",
    "using MorphoMol\n",
    "using JLD2\n",
    "using PyCall"
   ]
  },
  {
   "cell_type": "code",
   "execution_count": 4,
   "metadata": {},
   "outputs": [
    {
     "data": {
      "text/plain": [
       "get_polar_selection (generic function with 1 method)"
      ]
     },
     "execution_count": 4,
     "metadata": {},
     "output_type": "execute_result"
    }
   ],
   "source": [
    "function txt_to_points(input_file)\n",
    "    [[parse(Float64, s) for s in split(p,\" \")] for p in readlines(input_file)[3:end]]\n",
    "end\n",
    "\n",
    "function get_polar_selection(points, n_atoms_per_mol::Int, negatively_charged::Vector{Int}, positively_charged::Vector{Int})\n",
    "    n_mol = Int(length(points) ÷ n_atoms_per_mol)\n",
    "    negatively_charged = vcat([negatively_charged .+ i*n_atoms_per_mol for i in 0:n_mol-1]...)\n",
    "    positively_charged = vcat([positively_charged .+ i*n_atoms_per_mol for i in 0:n_mol-1]...)\n",
    "    [points[negatively_charged]; points[positively_charged]], [[0 for _ in 1:length(negatively_charged)]; [1 for _ in 1:length(positively_charged)]]\n",
    "end"
   ]
  },
  {
   "cell_type": "code",
   "execution_count": null,
   "metadata": {},
   "outputs": [],
   "source": [
    "function state_to_poly(flat_realization::Vector, radii::Vector, filepath::String, n_mol::Int, n_atoms_per_mol::Int)\n",
    "    open(string(filepath, \".poly\"), \"w\") do io\n",
    "        println(io,\"POINTS\")\n",
    "        color = \"\"\n",
    "        for i in 0:n_mol-1\n",
    "            color = \"c($(rand()),$(rand()),$(rand())\"\n",
    "            for j in 0:n_atoms_per_mol-1\n",
    "                atom_id = (i * n_atoms_per_mol + j)\n",
    "                x = atom_id*3 + 1\n",
    "                y = atom_id*3 + 2\n",
    "                z = atom_id*3 + 3\n",
    "                println(io, \"$(i * n_atoms_per_mol + j + 1): $(flat_realization[x]) $(flat_realization[y]) $(flat_realization[z]) $(radii[atom_id+1]) $(color), $(radii[atom_id+1]))\")\n",
    "            end\n",
    "        end\n",
    "        println(io,\"POLYS\")\n",
    "        println(io,\"END\")\n",
    "    end\n",
    "end"
   ]
  },
  {
   "cell_type": "code",
   "execution_count": 5,
   "metadata": {},
   "outputs": [
    {
     "data": {
      "text/plain": [
       "3×1206 Matrix{Float64}:\n",
       " -27.8796   -26.6674   -26.5597   …  -31.3903   -31.5191   -32.6934\n",
       "   9.063      9.54921    9.03875       8.50467    8.25724    9.091\n",
       "  -4.79258   -4.1493    -2.71995      -1.62113   -0.2168    -2.14403"
      ]
     },
     "execution_count": 5,
     "metadata": {},
     "output_type": "execute_result"
    }
   ],
   "source": [
    "template_centers = MorphoMol.Utilities.TMV_TEMPLATES[\"6r7m\"][\"template_centers\"]"
   ]
  },
  {
   "cell_type": "code",
   "execution_count": 12,
   "metadata": {},
   "outputs": [
    {
     "data": {
      "text/plain": [
       "3×6 Matrix{Float64}:\n",
       " -26.5597   -27.5404   -26.6276   -27.6097   -25.358    -25.1549\n",
       "   9.03875    8.57911   11.0769    11.6147     9.11043    8.90469\n",
       "  -2.71995   -2.14188   -4.15425   -3.28763   -2.1614    -0.736389"
      ]
     },
     "execution_count": 12,
     "metadata": {},
     "output_type": "execute_result"
    }
   ],
   "source": [
    "template_centers[:,[3,4,5,6,7,8]]"
   ]
  }
 ],
 "metadata": {
  "kernelspec": {
   "display_name": "Julia Oineus 1.10.4",
   "language": "julia",
   "name": "julia-oineus-1.10"
  },
  "language_info": {
   "file_extension": ".jl",
   "mimetype": "application/julia",
   "name": "julia",
   "version": "1.10.4"
  }
 },
 "nbformat": 4,
 "nbformat_minor": 2
}
