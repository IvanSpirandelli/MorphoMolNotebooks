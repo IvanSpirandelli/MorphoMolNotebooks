{
 "cells": [
  {
   "cell_type": "code",
   "execution_count": 1,
   "metadata": {},
   "outputs": [
    {
     "name": "stderr",
     "output_type": "stream",
     "text": [
      "\u001b[32m\u001b[1m  Activating\u001b[22m\u001b[39m project at `~/Doktor/Code/MorphoMol/MorphoMolNotebooks`\n",
      "\u001b[32m\u001b[1mPrecompiling\u001b[22m\u001b[39m MorphoMolNotebooks\n",
      "\u001b[32m  ✓ \u001b[39mMorphoMol\n",
      "\u001b[32m  ✓ \u001b[39mMorphoMolNotebooks\n",
      "  2 dependencies successfully precompiled in 10 seconds. 282 already precompiled.\n"
     ]
    }
   ],
   "source": [
    "import Pkg; \n",
    "\n",
    "if split(pwd(),\"/\")[end] == \"prototyping\"\n",
    "    cd(joinpath(@__DIR__, \"../../\"))\n",
    "    Pkg.activate(\"Project.toml\")\n",
    "end\n",
    "\n",
    "using MorphoMolNotebooks: visualize_energy_and_theta!, visualize_alpha_shape_persistence_measures!, visualize_interface_persistence_measures!, visualize_ma_measures!, visualize_interface_sequence!, visualize_configuration_sequence!\n",
    "using MorphoMol.Energies: get_death_by_birth_persistence, get_total_persistence\n",
    "using JLD2\n",
    "using GLMakie\n",
    "using GeometryBasics"
   ]
  },
  {
   "cell_type": "code",
   "execution_count": 2,
   "metadata": {},
   "outputs": [
    {
     "data": {
      "text/plain": [
       "\"../../Data/selected_simulation_results/ma_sim/2_6r7m_ca/1/\""
      ]
     },
     "execution_count": 2,
     "metadata": {},
     "output_type": "execute_result"
    }
   ],
   "source": [
    "root = \"../../Data/selected_simulation_results/ma_sim/2_6r7m_ca/1/\""
   ]
  },
  {
   "cell_type": "markdown",
   "metadata": {},
   "source": [
    "# Analyzing Alpha Shape persistence for MA assembly"
   ]
  },
  {
   "cell_type": "code",
   "execution_count": 3,
   "metadata": {},
   "outputs": [
    {
     "data": {
      "text/plain": [
       "1-element Vector{Symbol}:\n",
       " :alpha_shape_persistence_diagrams"
      ]
     },
     "execution_count": 3,
     "metadata": {},
     "output_type": "execute_result"
    }
   ],
   "source": [
    "root = \"../../Data/selected_simulation_results/ma_sim/2_6r7m_ca/1/\"\n",
    "@load \"$(root)simulation.jld2\" input output\n",
    "@load \"$(root)alpha_shape_persistence_diagrams.jld2\" alpha_shape_persistence_diagrams"
   ]
  },
  {
   "cell_type": "code",
   "execution_count": 8,
   "metadata": {},
   "outputs": [
    {
     "data": {
      "text/plain": [
       "GLMakie.Screen(...)"
      ]
     },
     "execution_count": 8,
     "metadata": {},
     "output_type": "execute_result"
    }
   ],
   "source": [
    "figure_config = Dict(\n",
    "    \"plot_ms\" => 5,\n",
    "    \"tracker_ms\" => 10,\n",
    "    \"title_fs\" => 20,\n",
    "    \"vis_range\" => length(output[\"states\"])-100:length(output[\"states\"])\n",
    ")\n",
    "\n",
    "f = Figure(fontsize = 12)\n",
    "#Slider\n",
    "sl_i = Slider(f[4, 1:6], range = 1:length(output[\"states\"][figure_config[\"vis_range\"]]), startvalue = 1)\n",
    "x = sl_i.value\n",
    "cgl = GridLayout(f[1:2,1:2])\n",
    "visualize_configuration_sequence!(cgl, x, input, output, figure_config)\n",
    "\n",
    "aspgl = GridLayout(f[1:2,3:4])\n",
    "persistence_weights = [0.01, -0.1, -0.1]\n",
    "zero_tps = [get_total_persistence(dgm[1], persistence_weights[1]) for dgm in alpha_shape_persistence_diagrams[\"diagrams\"][figure_config[\"vis_range\"]]]\n",
    "one_tps = [get_total_persistence(dgm[2], persistence_weights[2]) for dgm in alpha_shape_persistence_diagrams[\"diagrams\"][figure_config[\"vis_range\"]]]\n",
    "two_tps = [get_total_persistence(dgm[3], persistence_weights[3]) for dgm in alpha_shape_persistence_diagrams[\"diagrams\"][figure_config[\"vis_range\"]]]\n",
    "stps = zero_tps + one_tps;\n",
    "visualize_alpha_shape_persistence_measures!(aspgl, x, (zero_tps, one_tps, two_tps, stps), persistence_weights, figure_config, \"Alpha Shape Total Persistence\")\n",
    "\n",
    "aspgl = GridLayout(f[1:2,5:6])\n",
    "persistence_weights = [0.0, -0.1, -0.1]\n",
    "zero_tps = [get_total_persistence(dgm[1], persistence_weights[1]) for dgm in alpha_shape_persistence_diagrams[\"diagrams\"][figure_config[\"vis_range\"]]]\n",
    "one_tps = [get_death_by_birth_persistence(dgm[2], persistence_weights[2]) for dgm in alpha_shape_persistence_diagrams[\"diagrams\"][figure_config[\"vis_range\"]]]\n",
    "two_tps = [get_death_by_birth_persistence(dgm[3], persistence_weights[3]) for dgm in alpha_shape_persistence_diagrams[\"diagrams\"][figure_config[\"vis_range\"]]]\n",
    "stps = zero_tps + one_tps;\n",
    "visualize_alpha_shape_persistence_measures!(aspgl, x, (zero_tps, one_tps, two_tps, stps), persistence_weights, figure_config, \"Alpha Shape Death/Birth Persistence\")\n",
    "\n",
    "mgl = GridLayout(f[3, 1:4])\n",
    "visualize_ma_measures!(mgl, x, input, output, figure_config)\n",
    "\n",
    "etgl = GridLayout(f[3, 5:6])\n",
    "visualize_energy_and_theta!(etgl, x, input, output, figure_config)\n",
    "\n",
    "display(f)"
   ]
  },
  {
   "cell_type": "code",
   "execution_count": 5,
   "metadata": {},
   "outputs": [
    {
     "data": {
      "text/plain": [
       "1-element Vector{Symbol}:\n",
       " :interfaces"
      ]
     },
     "execution_count": 5,
     "metadata": {},
     "output_type": "execute_result"
    }
   ],
   "source": [
    "@load \"$(root)simulation.jld2\" input output\n",
    "@load \"$(root)interfaces.jld2\" interfaces"
   ]
  },
  {
   "cell_type": "code",
   "execution_count": 7,
   "metadata": {},
   "outputs": [
    {
     "data": {
      "text/plain": [
       "GLMakie.Screen(...)"
      ]
     },
     "execution_count": 7,
     "metadata": {},
     "output_type": "execute_result"
    }
   ],
   "source": [
    "figure_config = Dict(\n",
    "    \"plot_ms\" => 5,\n",
    "    \"tracker_ms\" => 10,\n",
    "    \"title_fs\" => 20,\n",
    "    \"vis_range\" => length(output[\"states\"])-100:length(output[\"states\"])\n",
    ")\n",
    "\n",
    "f = Figure(fontsize = 12)\n",
    "#Slider\n",
    "sl_i = Slider(f[6, 1:4], range = 1:length(output[\"states\"][figure_config[\"vis_range\"]]), startvalue = 1)\n",
    "x = sl_i.value\n",
    "cgl = GridLayout(f[1:2,1:2])\n",
    "visualize_configuration_sequence!(cgl, x, input, output, figure_config)\n",
    "\n",
    "igl = GridLayout(f[1:2,3:4])\n",
    "visualize_interface_sequence!(igl, x, interfaces, true, figure_config)\n",
    "\n",
    "ipgl = GridLayout(f[3:4,1:2])\n",
    "persistence_weights = [-0.1, -0.1]\n",
    "zero_tps = [get_death_by_birth_persistence(dgm[1], persistence_weights[1]) for dgm in interfaces[\"diagrams\"][figure_config[\"vis_range\"]]]\n",
    "one_tps = [get_death_by_birth_persistence(dgm[2], persistence_weights[2]) for dgm in interfaces[\"diagrams\"][figure_config[\"vis_range\"]]]\n",
    "stps = zero_tps + one_tps;\n",
    "visualize_interface_persistence_measures!(ipgl, x, (zero_tps, one_tps, stps), persistence_weights, figure_config, \"Interface Death/Birth Persistence\")\n",
    "\n",
    "ipgl = GridLayout(f[3:4,3:4])\n",
    "persistence_weights = [0.1, 0.1]\n",
    "zero_tps = [get_total_persistence(dgm[1], persistence_weights[1]) for dgm in interfaces[\"diagrams\"][figure_config[\"vis_range\"]]]\n",
    "one_tps = [get_total_persistence(dgm[2], persistence_weights[2]) for dgm in interfaces[\"diagrams\"][figure_config[\"vis_range\"]]]\n",
    "stps = zero_tps + one_tps;\n",
    "visualize_interface_persistence_measures!(ipgl, x, (zero_tps, one_tps, stps), persistence_weights, figure_config, \"Interface Total Persistence\")\n",
    "\n",
    "mgl = GridLayout(f[5, 1:2])\n",
    "visualize_ma_measures!(mgl, x, input, output, figure_config)\n",
    "\n",
    "etgl = GridLayout(f[5, 3:4])\n",
    "visualize_energy_and_theta!(etgl, x, input, output, figure_config)\n",
    "\n",
    "display(f)"
   ]
  }
 ],
 "metadata": {
  "kernelspec": {
   "display_name": "julia_tda 1.10.6",
   "language": "julia",
   "name": "julia_tda-1.10"
  },
  "language_info": {
   "file_extension": ".jl",
   "mimetype": "application/julia",
   "name": "julia",
   "version": "1.10.6"
  }
 },
 "nbformat": 4,
 "nbformat_minor": 2
}
