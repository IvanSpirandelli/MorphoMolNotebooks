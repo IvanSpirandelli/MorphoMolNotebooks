{
 "cells": [
  {
   "cell_type": "code",
   "execution_count": 2,
   "metadata": {},
   "outputs": [],
   "source": [
    "import Pkg; \n",
    "\n",
    "if split(pwd(),\"/\")[end] == \"showcase\"\n",
    "    cd(joinpath(@__DIR__, \"../../\"))\n",
    "    Pkg.activate(\"Project.toml\")\n",
    "end\n",
    "\n",
    "using MorphoMolNotebooks\n",
    "using MorphoMol\n",
    "using JLD2"
   ]
  },
  {
   "cell_type": "code",
   "execution_count": 3,
   "metadata": {},
   "outputs": [
    {
     "data": {
      "text/plain": [
       "GLMakie.Screen(...)"
      ]
     },
     "execution_count": 3,
     "metadata": {},
     "output_type": "execute_result"
    }
   ],
   "source": [
    "@load \"../../Data/collected_simulation_results/showcase/wp_min.jld2\" input output\n",
    "display(MorphoMolNotebooks.visualize_persistence_and_ma(merge!(input, Dict(\"mol_type\" => \"6r7m\")), output))"
   ]
  },
  {
   "cell_type": "code",
   "execution_count": 4,
   "metadata": {},
   "outputs": [
    {
     "data": {
      "text/plain": [
       "GLMakie.Screen(...)"
      ]
     },
     "execution_count": 4,
     "metadata": {},
     "output_type": "execute_result"
    }
   ],
   "source": [
    "@load \"../../Data/collected_simulation_results/showcase/wp_other.jld2\" input output\n",
    "display(MorphoMolNotebooks.visualize_persistence_and_ma(merge!(input, Dict(\"mol_type\" => \"6r7m\")), output))"
   ]
  },
  {
   "cell_type": "code",
   "execution_count": 5,
   "metadata": {},
   "outputs": [
    {
     "data": {
      "text/plain": [
       "GLMakie.Screen(...)"
      ]
     },
     "execution_count": 5,
     "metadata": {},
     "output_type": "execute_result"
    }
   ],
   "source": [
    "@load \"../../Data/collected_simulation_results/showcase/op_min.jld2\" input output\n",
    "display(MorphoMolNotebooks.visualize_persistence(merge!(input, Dict(\"mol_type\" => \"6r7m\")), output))"
   ]
  },
  {
   "cell_type": "code",
   "execution_count": 8,
   "metadata": {},
   "outputs": [
    {
     "data": {
      "text/plain": [
       "GLMakie.Screen(...)"
      ]
     },
     "execution_count": 8,
     "metadata": {},
     "output_type": "execute_result"
    }
   ],
   "source": [
    "@load \"../../Data/collected_simulation_results/showcase/op_other.jld2\" input output\n",
    "display(MorphoMolNotebooks.visualize_persistence(merge!(input, Dict(\"mol_type\" => \"6r7m\")), output))"
   ]
  }
 ],
 "metadata": {
  "kernelspec": {
   "display_name": "Julia Oineus 1.10.4",
   "language": "julia",
   "name": "julia-oineus-1.10"
  },
  "language_info": {
   "file_extension": ".jl",
   "mimetype": "application/julia",
   "name": "julia",
   "version": "1.10.4"
  }
 },
 "nbformat": 4,
 "nbformat_minor": 2
}
