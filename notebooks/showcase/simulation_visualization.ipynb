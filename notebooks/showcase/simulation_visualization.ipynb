{
 "cells": [
  {
   "cell_type": "code",
   "execution_count": 1,
   "metadata": {},
   "outputs": [
    {
     "name": "stderr",
     "output_type": "stream",
     "text": [
      "\u001b[32m\u001b[1m  Activating\u001b[22m\u001b[39m project at `~/Doktor/Code/MorphoMol/MorphoMolNotebooks`\n"
     ]
    }
   ],
   "source": [
    "import Pkg; \n",
    "\n",
    "if split(pwd(),\"/\")[end] == \"showcase\"\n",
    "    cd(joinpath(@__DIR__, \"../../\"))\n",
    "    Pkg.activate(\"Project.toml\")\n",
    "end\n",
    "\n",
    "using MorphoMolNotebooks\n",
    "using MorphoMol\n",
    "using JLD2\n",
    "using GLMakie"
   ]
  },
  {
   "cell_type": "code",
   "execution_count": 6,
   "metadata": {},
   "outputs": [
    {
     "data": {
      "text/plain": [
       "2-element Vector{Symbol}:\n",
       " :input\n",
       " :output"
      ]
     },
     "execution_count": 6,
     "metadata": {},
     "output_type": "execute_result"
    }
   ],
   "source": [
    "mol_type = \"6r7m\"\n",
    "id = 89\n",
    "algo = \"op\"\n",
    "@load \"../../Data/hpc_out/rwm_$(algo)_2_$(mol_type)/$(id)_rwm_$(algo)_2_$(mol_type).jld2\" input output\n",
    "#@load \"../../Data/hpc_out/2_6r7m/1/$(id)_rwm_ma_2_$(mol_type).jld2\" input output"
   ]
  },
  {
   "cell_type": "code",
   "execution_count": 7,
   "metadata": {},
   "outputs": [
    {
     "data": {
      "text/plain": [
       "GLMakie.Screen(...)"
      ]
     },
     "execution_count": 7,
     "metadata": {},
     "output_type": "execute_result"
    }
   ],
   "source": [
    "n = length(output[\"Es\"])\n",
    "e_mindex = argmin(output[\"Es\"])\n",
    "\n",
    "figure_config = Dict(\n",
    "    \"plot_ms\" => 5,\n",
    "    \"tracker_ms\" => 10,\n",
    "    \"title_fs\" => 20,\n",
    "    \"vis_range\" =>  maximum([25, e_mindex-1000]):minimum([e_mindex + 50, n])\n",
    ")\n",
    "\n",
    "f = Figure(fontsize = 12)\n",
    "#Slider\n",
    "sl_i = Slider(f[3, 1:3], range = 1:length(output[\"states\"][figure_config[\"vis_range\"]]), startvalue = 1)\n",
    "x = sl_i.value\n",
    "cgl = GridLayout(f[1,1])\n",
    "visualize_configuration_sequence!(cgl, x, input, output, figure_config)\n",
    "\n",
    "# mgl = GridLayout(f[2, 1:3])\n",
    "# visualize_ma_measures!(mgl, x, input, output, figure_config)\n",
    "\n",
    "etgl = GridLayout(f[1, 2:3])\n",
    "visualize_energy_and_theta!(etgl, x, input, output, figure_config)\n",
    "\n",
    "display(f)"
   ]
  }
 ],
 "metadata": {
  "kernelspec": {
   "display_name": "julia_tda 1.10.6",
   "language": "julia",
   "name": "julia_tda-1.10"
  },
  "language_info": {
   "file_extension": ".jl",
   "mimetype": "application/julia",
   "name": "julia",
   "version": "1.10.6"
  }
 },
 "nbformat": 4,
 "nbformat_minor": 2
}
