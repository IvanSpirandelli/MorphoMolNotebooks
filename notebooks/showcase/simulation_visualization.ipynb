{
 "cells": [
  {
   "cell_type": "code",
   "execution_count": 2,
   "metadata": {},
   "outputs": [
    {
     "name": "stderr",
     "output_type": "stream",
     "text": [
      "\u001b[32m\u001b[1m  Activating\u001b[22m\u001b[39m project at `~/Doktor/Code/MorphoMol/MorphoMolNotebooks`\n"
     ]
    }
   ],
   "source": [
    "import Pkg; \n",
    "\n",
    "if split(pwd(),\"/\")[end] == \"showcase\"\n",
    "    cd(joinpath(@__DIR__, \"../../\"))\n",
    "    Pkg.activate(\"Project.toml\")\n",
    "end\n",
    "\n",
    "using MorphoMolNotebooks\n",
    "using MorphoMol\n",
    "using JLD2\n",
    "using GLMakie\n",
    "using GeometryBasics"
   ]
  },
  {
   "cell_type": "code",
   "execution_count": 5,
   "metadata": {},
   "outputs": [
    {
     "data": {
      "text/plain": [
       "2-element Vector{Symbol}:\n",
       " :input\n",
       " :output"
      ]
     },
     "execution_count": 5,
     "metadata": {},
     "output_type": "execute_result"
    }
   ],
   "source": [
    "mol_type = \"6r7m\"\n",
    "n_mol = 3\n",
    "algo = \"rwm\"\n",
    "energy = \"ma\"\n",
    "id = 67\n",
    "#@load \"../../Data/hpc_out/$energy/3_6r7m/refine_1_71/2/$(id)_$(algo)_$(energy)_$(n_mol)_$(mol_type).jld2\" input output\n",
    "#@load \"../../Data/hpc_out/$energy/3_6r7m/3/$(id)_$(algo)_$(energy)_$(n_mol)_$(mol_type).jld2\" input output\n",
    "#@load \"../../Data/hpc_out/$energy/2/$(id)_$(algo)_$(energy)_$(n_mol)_$(mol_type).jld2\" input output\n",
    "#@load \"../../Data/hpc_out/ma/3_6r7m/selection/1/start.jld2\" input output\n",
    "@load \"../../Data/hpc_out/ma/3_6r7m/selection/1/start.jld2\" input output\n",
    "#@load \"../../Data/hpc_out/$(algo)_$(energy)_$(n_mol)_$(mol_type)/$(id)_$(algo)_$(energy)_$(n_mol)_$(mol_type).jld2\" input output\n"
   ]
  },
  {
   "cell_type": "code",
   "execution_count": 7,
   "metadata": {},
   "outputs": [
    {
     "data": {
      "text/plain": [
       "GLMakie.Screen(...)"
      ]
     },
     "execution_count": 7,
     "metadata": {},
     "output_type": "execute_result"
    }
   ],
   "source": [
    "n = length(output[\"Es\"])\n",
    "e_mindex = argmin(output[\"Es\"])\n",
    "\n",
    "figure_config = Dict(\n",
    "    \"plot_ms\" => 5,\n",
    "    \"tracker_ms\" => 10,\n",
    "    \"title_fs\" => 20,\n",
    "    #\"vis_range\" =>  maximum([25, e_mindex-1000]):minimum([e_mindex + 100, n])\n",
    "    \"vis_range\" => 1:n\n",
    ")\n",
    "\n",
    "f = Figure(fontsize = 12)\n",
    "#Slider\n",
    "sl_i = Slider(f[3, 1:3], range = 1:length(output[\"states\"][figure_config[\"vis_range\"]]), startvalue = 1)\n",
    "x = sl_i.value\n",
    "cgl = GridLayout(f[1,1])\n",
    "visualize_configuration_sequence!(cgl, x, input, output, figure_config)\n",
    "\n",
    "if energy == \"ma\"\n",
    "    mgl = GridLayout(f[2, 1:2])\n",
    "    visualize_ma_measures!(mgl, x, input, output, figure_config)\n",
    "elseif energy == \"wp\"\n",
    "    mgl = GridLayout(f[2, 1:2])\n",
    "    visualize_ma_measures!(mgl, x, input, output, figure_config)\n",
    "    aspgl = GridLayout(f[1, 2:3])    \n",
    "    visualize_alpha_shape_persistence_measures!(aspgl, x, input, output, figure_config)\n",
    "elseif energy == \"op\"\n",
    "    aspgl = GridLayout(f[2, 1:2])    \n",
    "    visualize_alpha_shape_persistence_measures!(aspgl, x, input, output, figure_config)\n",
    "elseif energy == \"wip\"    \n",
    "    mgl = GridLayout(f[2, 1:2])\n",
    "    visualize_ma_measures!(mgl, x, input, output, figure_config)\n",
    "    aspgl = GridLayout(f[1, 2:3])\n",
    "    visualize_interface_persistence_measures!(aspgl, x, input, output, figure_config)\n",
    "elseif energy == \"oip\"\n",
    "    aspgl = GridLayout(f[2, 1:2])\n",
    "    visualize_interface_persistence_measures!(aspgl, x, input, output, figure_config)\n",
    "end\n",
    "\n",
    "etgl = GridLayout(f[2, 3])\n",
    "visualize_energy_and_theta!(etgl, x, input, output, figure_config)\n",
    "\n",
    "display(f)"
   ]
  },
  {
   "cell_type": "code",
   "execution_count": 9,
   "metadata": {},
   "outputs": [],
   "source": [
    "# points = MorphoMol.Utilities.get_point_vector_realization(output[\"states\"][argmin(output[\"Es\"])], input[\"template_centers\"])\n",
    "# radii = vcat([input[\"template_radii\"] for _ in 1:input[\"n_mol\"]]...)\n",
    "# colors = [MorphoMolNotebooks.STANDARD_COLORS[i] for i in 1:input[\"n_mol\"] for _ in 1:length(input[\"template_radii\"])]\n",
    "\n",
    "# display(MorphoMolNotebooks.visualize_molecules(points, radii, colors))"
   ]
  }
 ],
 "metadata": {
  "kernelspec": {
   "display_name": "julia_tda_1.10 1.10.6",
   "language": "julia",
   "name": "julia_tda_1.10-1.10"
  },
  "language_info": {
   "file_extension": ".jl",
   "mimetype": "application/julia",
   "name": "julia",
   "version": "1.10.6"
  }
 },
 "nbformat": 4,
 "nbformat_minor": 2
}
