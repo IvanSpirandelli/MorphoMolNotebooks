{
 "cells": [
  {
   "cell_type": "code",
   "execution_count": 1,
   "metadata": {},
   "outputs": [
    {
     "name": "stderr",
     "output_type": "stream",
     "text": [
      "\u001b[32m\u001b[1m  Activating\u001b[22m\u001b[39m project at `~/Doktor/Code/MorphoMol/MorphoMolNotebooks`\n"
     ]
    }
   ],
   "source": [
    "import Pkg; \n",
    "\n",
    "if split(pwd(),\"/\")[end] == \"utility\"\n",
    "    cd(joinpath(@__DIR__, \"../../\"))\n",
    "    Pkg.activate(\"Project.toml\")\n",
    "end\n",
    "\n",
    "using MorphoMol\n",
    "using MorphoMolNotebooks\n",
    "using JLD2"
   ]
  },
  {
   "cell_type": "code",
   "execution_count": 5,
   "metadata": {},
   "outputs": [],
   "source": [
    "file_1 = \"../../Data/hpc_out/ma/3_6r7m/3/86_rwm_ma_3_6r7m.jld2\"\n",
    "start_selection = \"../../Data/hpc_out/ma/3_6r7m/selection/1/start.jld2\"\n",
    "@load file_1 input output\n",
    "output_1 = deepcopy(output)\n",
    "selection = 19113:20113\n",
    "output = Dict{String, Vector}()\n",
    "mindex_1 = argmin(output_1[\"Es\"])\n",
    "for key in keys(output_1)\n",
    "    if length(output_1[key]) > 0\n",
    "        output[key] = output_1[key][selection]\n",
    "    else\n",
    "        output[key] = output_1[key]\n",
    "    end\n",
    "end\n",
    "@save start_selection input output"
   ]
  },
  {
   "cell_type": "code",
   "execution_count": 6,
   "metadata": {},
   "outputs": [
    {
     "data": {
      "text/plain": [
       "\"[-162.86403396472377,66.25812707219484,85.96428200725117,37.128702469074035,99.23048857016123,77.50052452831233,-66.51419125876681,58.26457156376605,-4.441888460397806,29.082309905491627,118.81254532871007,74.20493968337979,40.67136368911156,16.916521934017293,61.411849022855314,47.90894046438104,136.7255328790018,73.12205747719372,]\""
      ]
     },
     "execution_count": 6,
     "metadata": {},
     "output_type": "execute_result"
    }
   ],
   "source": [
    "@load start_selection input output\n",
    "state_string = \"[\"\n",
    "for e in output[\"states\"][end]\n",
    "    state_string *= \"$(e),\"\n",
    "end\n",
    "state_string *= \"]\"\n",
    "state_string"
   ]
  },
  {
   "cell_type": "code",
   "execution_count": 2,
   "metadata": {},
   "outputs": [
    {
     "data": {
      "text/plain": [
       "Dict{String, Vector} with 9 entries:\n",
       "  \"Xs\"     => [113.097, 87.9646, 113.097, 37.6991, 62.8319, 100.531, 62.8319, 1…\n",
       "  \"Cs\"     => [587.707, 683.837, 712.381, 647.232, 681.428, 687.186, 700.96, 75…\n",
       "  \"OLs\"    => [152.512, 117.175, 123.547, 127.488, 116.913, 115.768, 114.873, 1…\n",
       "  \"Vs\"     => [86619.0, 87126.5, 87117.4, 87056.2, 87272.3, 87300.4, 87380.8, 8…\n",
       "  \"Es\"     => [13010.2, 13020.9, 13020.1, 13017.5, 13025.3, 13026.6, 13027.5, 1…\n",
       "  \"αs\"     => Float32[0.0, 0.00537634, 0.0106952, 0.0140845, 0.0153257, 0.01908…\n",
       "  \"states\" => [[1.50923, 2.07575, -5.31823, 56.2395, 101.575, 127.984, -24.0118…\n",
       "  \"As\"     => [22636.9, 23077.2, 23137.6, 23064.2, 23247.3, 23264.5, 23381.8, 2…\n",
       "  \"PDGMs\"  => Any[]"
      ]
     },
     "execution_count": 2,
     "metadata": {},
     "output_type": "execute_result"
    }
   ],
   "source": [
    "ptf = \"../../Data/hpc_out/ma/3_6r7m/selection/1/\"\n",
    "@load ptf*\"start.jld2\" input output\n",
    "in_1 = deepcopy(input)\n",
    "out_1 = deepcopy(output)\n",
    "@load ptf*\"end.jld2\" input output\n",
    "in_2 = deepcopy(input)\n",
    "out_2 = deepcopy(output)\n"
   ]
  },
  {
   "cell_type": "code",
   "execution_count": 3,
   "metadata": {},
   "outputs": [],
   "source": [
    "output = Dict{String, Vector}()\n",
    "for key in keys(out_1)\n",
    "    output[key] = [out_1[key];out_2[key]]\n",
    "end"
   ]
  },
  {
   "cell_type": "code",
   "execution_count": 4,
   "metadata": {},
   "outputs": [],
   "source": [
    "@save \"../../Data/hpc_out/ma/3_6r7m/selection/1/selection.jld2\" input output"
   ]
  }
 ],
 "metadata": {
  "kernelspec": {
   "display_name": "julia_tda_1.10 1.10.6",
   "language": "julia",
   "name": "julia_tda_1.10-1.10"
  },
  "language_info": {
   "file_extension": ".jl",
   "mimetype": "application/julia",
   "name": "julia",
   "version": "1.10.6"
  }
 },
 "nbformat": 4,
 "nbformat_minor": 2
}
