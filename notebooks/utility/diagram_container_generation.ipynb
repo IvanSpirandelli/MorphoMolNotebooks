{
 "cells": [
  {
   "cell_type": "code",
   "execution_count": null,
   "metadata": {},
   "outputs": [
    {
     "ename": "LoadError",
     "evalue": "ArgumentError: Package MorphoMolNotebooks not found in current path.\n- Run `import Pkg; Pkg.add(\"MorphoMolNotebooks\")` to install the MorphoMolNotebooks package.",
     "output_type": "error",
     "traceback": [
      "ArgumentError: Package MorphoMolNotebooks not found in current path.\n- Run `import Pkg; Pkg.add(\"MorphoMolNotebooks\")` to install the MorphoMolNotebooks package.",
      "",
      "Stacktrace:",
      " [1] macro expansion",
      "   @ ./loading.jl:1772 [inlined]",
      " [2] macro expansion",
      "   @ ./lock.jl:267 [inlined]",
      " [3] __require(into::Module, mod::Symbol)",
      "   @ Base ./loading.jl:1753",
      " [4] #invoke_in_world#3",
      "   @ ./essentials.jl:926 [inlined]",
      " [5] invoke_in_world",
      "   @ ./essentials.jl:923 [inlined]",
      " [6] require(into::Module, mod::Symbol)",
      "   @ Base ./loading.jl:1746"
     ]
    }
   ],
   "source": [
    "import Pkg; \n",
    "\n",
    "if split(pwd(),\"/\")[end] == \"utility\"\n",
    "    cd(joinpath(@__DIR__, \"../../\"))\n",
    "    Pkg.activate(\"Project.toml\")\n",
    "end\n",
    "\n",
    "using MorphoMolNotebooks\n",
    "using MorphoMol\n",
    "using JLD2"
   ]
  },
  {
   "cell_type": "code",
   "execution_count": null,
   "metadata": {},
   "outputs": [],
   "source": []
  },
  {
   "cell_type": "code",
   "execution_count": null,
   "metadata": {},
   "outputs": [
    {
     "ename": "LoadError",
     "evalue": "InterruptException:",
     "output_type": "error",
     "traceback": [
      "InterruptException:",
      "",
      "Stacktrace:",
      "  [1] array2py(A::SubArray{Float32, 1, Matrix{Float32}, Tuple{Base.Slice{Base.OneTo{Int64}}, Int64}, true}, dim::Int64, i::CartesianIndex{1})",
      "    @ PyCall ~/.julia/packages/PyCall/1gn3u/src/conversions.jl:316",
      "  [2] array2py",
      "    @ ~/.julia/packages/PyCall/1gn3u/src/conversions.jl:332 [inlined]",
      "  [3] PyCall.PyObject(a::SubArray{Float32, 1, Matrix{Float32}, Tuple{Base.Slice{Base.OneTo{Int64}}, Int64}, true})",
      "    @ PyCall ~/.julia/packages/PyCall/1gn3u/src/numpy.jl:197",
      "  [4] array2py(A::Vector{SubArray{Float32, 1, Matrix{Float32}, Tuple{Base.Slice{Base.OneTo{Int64}}, Int64}, true}}, dim::Int64, i::CartesianIndex{1})",
      "    @ PyCall ~/.julia/packages/PyCall/1gn3u/src/conversions.jl:318",
      "  [5] array2py(A::Vector{SubArray{Float32, 1, Matrix{Float32}, Tuple{Base.Slice{Base.OneTo{Int64}}, Int64}, true}}, dim::Int64, i::CartesianIndex{1})",
      "    @ PyCall ~/.julia/packages/PyCall/1gn3u/src/conversions.jl:323",
      "  [6] array2py",
      "    @ ~/.julia/packages/PyCall/1gn3u/src/conversions.jl:332 [inlined]",
      "  [7] PyObject",
      "    @ ~/.julia/packages/PyCall/1gn3u/src/conversions.jl:334 [inlined]",
      "  [8] _pycall!(ret::PyCall.PyObject, o::PyCall.PyObject, args::Tuple{Vector{SubArray{Float32, 1, Matrix{Float32}, Tuple{Base.Slice{Base.OneTo{Int64}}, Int64}, true}}}, nargs::Int64, kw::Ptr{Nothing})",
      "    @ PyCall ~/.julia/packages/PyCall/1gn3u/src/pyfncall.jl:24",
      "  [9] _pycall!",
      "    @ ~/.julia/packages/PyCall/1gn3u/src/pyfncall.jl:11 [inlined]",
      " [10] (::PyCall.PyObject)(args::Vector{SubArray{Float32, 1, Matrix{Float32}, Tuple{Base.Slice{Base.OneTo{Int64}}, Int64}, true}})",
      "    @ PyCall ~/.julia/packages/PyCall/1gn3u/src/pyfncall.jl:86",
      " [11] get_persistence_diagram(points::Vector{SubArray{Float32, 1, Matrix{Float32}, Tuple{Base.Slice{Base.OneTo{Int64}}, Int64}, true}})",
      "    @ MorphoMol.Energies ~/Doktor/Code/MorphoMol/MorphoMol.jl/src/modules/Energies/src/persistence_computations.jl:19",
      " [12] #43",
      "    @ ./none:0 [inlined]",
      " [13] iterate",
      "    @ ./generator.jl:47 [inlined]",
      " [14] collect_to!(dest::Vector{PyCall.PyObject}, itr::Base.Generator{Vector{Matrix{Float32}}, var\"#43#45\"}, offs::Int64, st::Int64)",
      "    @ Base ./array.jl:892",
      " [15] collect_to_with_first!(dest::Vector{PyCall.PyObject}, v1::PyCall.PyObject, itr::Base.Generator{Vector{Matrix{Float32}}, var\"#43#45\"}, st::Int64)",
      "    @ Base ./array.jl:870",
      " [16] collect(itr::Base.Generator{Vector{Matrix{Float32}}, var\"#43#45\"})",
      "    @ Base ./array.jl:844",
      " [17] folder_of_txts_to_jld2_with_persistence(folder::String)",
      "    @ Main ./In[2]:80",
      " [18] top-level scope",
      "    @ ./In[2]:96"
     ]
    }
   ],
   "source": [
    "# function folder_of_txts_to_jld2_with_interfaces(folder)\n",
    "#     selectionname = split(folder, \"/\")[end-2]\n",
    "#     idx = split(folder, \"/\")[end-1]\n",
    "#     realizations = get_configurations_from_folder(folder)\n",
    "#     interface_with_persistence = [MorphoMol.Energies.get_interface_diagram_and_geometry([e for e in eachcol(r)], 1206) for r in realizations]\n",
    "#     barycentric_subdivisions = [barycenters for (barycenters,_,_) in interface_with_persistence]\n",
    "#     ifils = [ifil for (_,ifil,_) in interface_with_persistence]\n",
    "#     idgms = [dgms for (_,_,dgms) in interface_with_persistence]\n",
    "#     Es = get_fsols(folder)\n",
    "#     thetas = get_thetas(folder)\n",
    "#     Vs = get_vs(folder) \n",
    "#     As = get_as(folder)\n",
    "#     Cs = get_cs(folder)\n",
    "#     Xs = get_xs(folder)\n",
    "#     OLs = get_ols(folder)\n",
    "#     mkpath(\"../../Data/paper2/measure_paths/jld2s/$(selectionname)_interface/\")\n",
    "#     @save \"../../Data/paper2/measure_paths/jld2s/$(selectionname)_interface/$(idx).jld2\" realizations barycentric_subdivisions ifils idgms Es thetas Vs As Cs Xs OLs\n",
    "# end\n",
    "\n",
    "# function folder_of_txts_to_jld2_with_persistence(folder)\n",
    "#     selectionname = split(folder, \"/\")[end-2]\n",
    "#     idx = split(folder, \"/\")[end-1]\n",
    "#     realizations = get_configurations_from_folder(folder)\n",
    "#     pdgms = [MorphoMol.Energies.get_alpha_shape_persistence_diagram_from_point_cloud([e for e in eachcol(r)]) for r in realizations]\n",
    "#     pdgms = [[dgm[1], dgm[2], dgm[3]] for dgm in pdgms]\n",
    "#     Es = get_fsols(folder)\n",
    "#     thetas = get_thetas(folder)\n",
    "#     Vs = get_vs(folder) \n",
    "#     As = get_as(folder)\n",
    "#     Cs = get_cs(folder)\n",
    "#     Xs = get_xs(folder)\n",
    "#     OLs = get_ols(folder)\n",
    "#     mkpath(\"../../Data/paper2/measure_paths/jld2s/$(selectionname)_persistence/\")\n",
    "#     @save \"../../Data/paper2/measure_paths/jld2s/$(selectionname)_persistence/$(idx).jld2\" realizations pdgms Es thetas Vs As Cs Xs OLs\n",
    "# end\n",
    "\n",
    "# #@assert false # THIS TAKES SO LONG! Make sure to only generate folders not already existing!!!\n",
    "# for (root, dirs, _) in walkdir(\"../../Data/paper2/measure_paths/txts/selection/\")\n",
    "#     for sd in dirs \n",
    "#         folder_of_txts_to_jld2_with_persistence(\"$(root)$(sd)/\")\n",
    "#     end\n",
    "# end"
   ]
  }
 ],
 "metadata": {
  "kernelspec": {
   "display_name": "julia_tda 1.10.6",
   "language": "julia",
   "name": "julia_tda-1.10"
  },
  "language_info": {
   "file_extension": ".jl",
   "mimetype": "application/julia",
   "name": "julia",
   "version": "1.10.6"
  }
 },
 "nbformat": 4,
 "nbformat_minor": 2
}
