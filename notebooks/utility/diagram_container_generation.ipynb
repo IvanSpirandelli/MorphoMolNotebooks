{
 "cells": [
  {
   "cell_type": "code",
   "execution_count": 1,
   "metadata": {},
   "outputs": [
    {
     "name": "stderr",
     "output_type": "stream",
     "text": [
      "\u001b[32m\u001b[1m  Activating\u001b[22m\u001b[39m project at `~/Doktor/Code/MorphoMol/MorphoMolNotebooks`\n",
      "\u001b[32m\u001b[1mPrecompiling\u001b[22m\u001b[39m MorphoMolNotebooks\n",
      "\u001b[32m  ✓ \u001b[39mCairoMakie\n",
      "\u001b[32m  ✓ \u001b[39mMorphoMol\n",
      "\u001b[32m  ✓ \u001b[39mMorphoMolNotebooks\n",
      "  3 dependencies successfully precompiled in 114 seconds. 281 already precompiled.\n",
      "\u001b[36m\u001b[1m[ \u001b[22m\u001b[39m\u001b[36m\u001b[1mInfo: \u001b[22m\u001b[39mPrecompiling MorphoMolNotebooks [3c5b58fc-d541-4bcd-a332-95372d8cdad8]\n"
     ]
    }
   ],
   "source": [
    "import Pkg; \n",
    "\n",
    "if split(pwd(),\"/\")[end] == \"utility\"\n",
    "    cd(joinpath(@__DIR__, \"../../\"))\n",
    "    Pkg.activate(\"Project.toml\")\n",
    "end\n",
    "\n",
    "using MorphoMolNotebooks\n",
    "using MorphoMol\n",
    "using JLD2"
   ]
  },
  {
   "cell_type": "code",
   "execution_count": 3,
   "metadata": {},
   "outputs": [
    {
     "data": {
      "text/plain": [
       "2-element Vector{Symbol}:\n",
       " :input\n",
       " :output"
      ]
     },
     "execution_count": 3,
     "metadata": {},
     "output_type": "execute_result"
    }
   ],
   "source": [
    "folder = \"../../Data/selected_simulation_results/wip/\"\n",
    "@load \"$(folder)simulation.jld2\" input output"
   ]
  },
  {
   "cell_type": "code",
   "execution_count": 3,
   "metadata": {},
   "outputs": [],
   "source": [
    "function generate_alpha_shape_persistence_diagrams(input, output, selection = nothing)\n",
    "    if isnothing(selection)\n",
    "        selection = 1:length(output[\"states\"])\n",
    "    end\n",
    "    configurations = [MorphoMol.Utilities.get_point_vector_realization(state, input[\"template_centers\"]) for state in output[\"states\"][selection]]\n",
    "    n_atoms_per_mol = length(input[\"template_radii\"])\n",
    "\n",
    "    as_dgms = [MorphoMol.Energies.get_alpha_shape_persistence_diagram(points) for points in configurations]\n",
    "    alpha_shape_persistence_diagrams = Dict(\"diagrams\" => [[dgms[1], dgms[2], dgms[3]] for dgms in as_dgms])\n",
    "end\n",
    "\n",
    "alpha_shape_persistence_diagrams = generate_alpha_shape_persistence_diagrams(input, output)\n",
    "@save \"$(folder)alpha_shape_persistence_diagrams.jld2\" alpha_shape_persistence_diagrams"
   ]
  },
  {
   "cell_type": "code",
   "execution_count": 4,
   "metadata": {},
   "outputs": [],
   "source": [
    "function generate_interfaces(input, output, selection = nothing)\n",
    "    if isnothing(selection)\n",
    "        selection = 1:length(output[\"states\"])\n",
    "    end\n",
    "    configurations = [MorphoMol.Utilities.get_point_vector_realization(state, input[\"template_centers\"]) for state in output[\"states\"][selection]]\n",
    "    n_atoms_per_mol = length(input[\"template_radii\"])\n",
    "    interfaces = [MorphoMol.Energies.get_interface_persistence_diagram_and_geometry(conf, n_atoms_per_mol) for conf in configurations]\n",
    "    interface_diagrams = [interface[1] for interface in interfaces]\n",
    "    interface_vertices = [interface[2] for interface in interfaces]\n",
    "    interface_filtrations = [interface[3] for interface in interfaces]\n",
    "    interfaces = Dict(\"diagrams\" => interface_diagrams, \"vertices\" => interface_vertices, \"filtrations\" => interface_filtrations)\n",
    "end\n",
    "\n",
    "n = length(output[\"Es\"])\n",
    "e_mindex = argmin(output[\"Es\"])\n",
    "selection = maximum([25, e_mindex-500]):minimum([e_mindex + 500, n])\n",
    "interfaces = generate_interfaces(input, output, selection)\n",
    "@save \"$(folder)interfaces.jld2\" interfaces"
   ]
  }
 ],
 "metadata": {
  "kernelspec": {
   "display_name": "julia_tda_1.10 1.10.6",
   "language": "julia",
   "name": "julia_tda_1.10-1.10"
  },
  "language_info": {
   "file_extension": ".jl",
   "mimetype": "application/julia",
   "name": "julia",
   "version": "1.10.6"
  }
 },
 "nbformat": 4,
 "nbformat_minor": 2
}
