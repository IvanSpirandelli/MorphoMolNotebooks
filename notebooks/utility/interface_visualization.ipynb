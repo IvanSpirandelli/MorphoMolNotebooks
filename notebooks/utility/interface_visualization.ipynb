{
 "cells": [
  {
   "cell_type": "code",
   "execution_count": 1,
   "metadata": {},
   "outputs": [
    {
     "name": "stderr",
     "output_type": "stream",
     "text": [
      "\u001b[32m\u001b[1m  Activating\u001b[22m\u001b[39m project at `~/Doktor/Code/MorphoMol/MorphoMolNotebooks`\n"
     ]
    }
   ],
   "source": [
    "import Pkg; \n",
    "\n",
    "cd(joinpath(@__DIR__, \"../../\"))\n",
    "Pkg.activate(\"Project.toml\")\n",
    "\n",
    "using MorphoMol\n",
    "using PyCall\n",
    "using JLD2\n",
    "using LinearAlgebra\n",
    "using NearestNeighbors\n",
    "using Rotations\n",
    "using GLMakie"
   ]
  },
  {
   "cell_type": "code",
   "execution_count": 126,
   "metadata": {},
   "outputs": [
    {
     "data": {
      "text/plain": [
       "get_boundary_filtration_with_adjusted_filtration_values (generic function with 1 method)"
      ]
     },
     "execution_count": 126,
     "metadata": {},
     "output_type": "execute_result"
    }
   ],
   "source": [
    "function get_boundary_filtration(points, n_atoms_per_mol)\n",
    "    py\"\"\"\n",
    "    import oineus as oin\n",
    "    import numpy as np\n",
    "    import torch\n",
    "    import diode\n",
    "\n",
    "    def get_boundary_filtration(points, n_atoms_per_mol):\n",
    "        points = np.asarray(points)\n",
    "        simplices = diode.fill_alpha_shapes(points)\n",
    "        fil = oin.Filtration_double([oin.Simplex_double(s[0], s[1]) for s in simplices])\n",
    "        def is_multi(sigma):\n",
    "            return len(set(v // n_atoms_per_mol for v in sigma.vertices)) >= 2\n",
    "        fil = fil.subfiltration(is_multi)\n",
    "        return fil\n",
    "    \"\"\"\n",
    "    py\"get_boundary_filtration\"(points, n_atoms_per_mol)\n",
    "end\n",
    "\n",
    "function get_boundary_filtration_with_adjusted_filtration_values(points, n_atoms_per_mol)\n",
    "    py\"\"\"\n",
    "    import oineus as oin\n",
    "    import numpy as np\n",
    "    import torch\n",
    "    import diode\n",
    "\n",
    "    def get_boundary_filtration_with_adjusted_filtration_values(points, n_atoms_per_mol):\n",
    "        points = np.asarray(points)\n",
    "        simplices = diode.fill_alpha_shapes(points)\n",
    "        fil = oin.Filtration_double([oin.Simplex_double(s[0], s[1]) for s in simplices])\n",
    "        def is_multi(sigma):\n",
    "            return len(set(v // n_atoms_per_mol for v in sigma.vertices)) >= 2\n",
    "        fil = fil.subfiltration(is_multi)\n",
    "\n",
    "        def assign_filtration_value(cell):\n",
    "            parts = [v // n_atoms_per_mol for v in cell.vertices]\n",
    "            n_parts = len(set(parts))\n",
    "            p_agg = [np.array([0.0, 0.0, 0.0]) for _ in range(n_parts)]\n",
    "            weights = [0 for _ in range(n_parts)]\n",
    "            for i, p in enumerate(parts):\n",
    "                p_agg[p] += points[cell.vertices[i]]\n",
    "                weights[p] += 1\n",
    "            bcs = [p_agg[i] / weights[i] for i in range(n_parts)]\n",
    "            filtration_value = sum([np.linalg.norm(bcs[i] - bcs[j]) for i in range(n_parts) for j in range(i, n_parts)])\n",
    "            cell.value = filtration_value\n",
    "            return cell\n",
    "\n",
    "        altered_cells = [assign_filtration_value(cell) for cell in fil.cells()]\n",
    "        fil = oin.Filtration_double(altered_cells)\n",
    "        return fil\n",
    "    \"\"\"\n",
    "    py\"get_boundary_filtration_with_adjusted_filtration_values\"(points, n_atoms_per_mol)\n",
    "end"
   ]
  },
  {
   "cell_type": "code",
   "execution_count": 127,
   "metadata": {},
   "outputs": [
    {
     "data": {
      "text/plain": [
       "get_faces_from_barycenters (generic function with 1 method)"
      ]
     },
     "execution_count": 127,
     "metadata": {},
     "output_type": "execute_result"
    }
   ],
   "source": [
    "function get_multichromatic_edges_of_tetrahedron(verts; split = 1206)\n",
    "    a,b,c,d = verts\n",
    "    combinations = [[a,b], [a,c], [a,d], [b,c], [b,d], [c,d]]\n",
    "    [e for e in combinations if div(e[1], split) != div(e[2], split)]\n",
    "end\n",
    "\n",
    "function get_barycenters_of_multichromatic_edges(edges, points)\n",
    "    barycenters = Vector{Point3f}([])\n",
    "    for e in edges\n",
    "        a,b = e[1],e[2]\n",
    "        bc = Point3f(0.5 * (points[a+1] + points[b+1]))\n",
    "        push!(barycenters, bc)\n",
    "    end\n",
    "    if length(barycenters) == 4\n",
    "        bc = Point3f(0.25 * (barycenters[1] + barycenters[2] + barycenters[3] + barycenters[4]))\n",
    "        push!(barycenters, bc)\n",
    "    end \n",
    "    barycenters\n",
    "end\n",
    "\n",
    "function get_faces_from_barycenters(barycenters)\n",
    "    if length(barycenters) == 3\n",
    "        faces = [2 3 1]\n",
    "    elseif length(barycenters) == 5\n",
    "        faces = [2 4 5; 3 1 5; 4 3 5; 1 2 5]\n",
    "    end\n",
    "    faces\n",
    "end"
   ]
  },
  {
   "cell_type": "code",
   "execution_count": 128,
   "metadata": {},
   "outputs": [],
   "source": [
    "@load \"../../Data/collected_simulation_results/rwm_wp_2_6r7m/23.jld2\"\n",
    "mindex = argmin(output[\"Es\"])\n",
    "points = MorphoMol.Utilities.get_matrix_realization(output[\"states\"][mindex], input[\"template_centers\"])\n",
    "points = [e for e in eachcol(hcat(points...))];\n",
    "n_atoms_per_mol = length(input[\"template_radii\"])\n",
    "n_mol = Int(length(points) / n_atoms_per_mol)\n",
    "fil = get_boundary_filtration_with_adjusted_filtration_values(points, n_atoms_per_mol);"
   ]
  },
  {
   "cell_type": "code",
   "execution_count": 138,
   "metadata": {},
   "outputs": [
    {
     "data": {
      "text/plain": [
       "GLMakie.Screen(...)"
      ]
     },
     "execution_count": 138,
     "metadata": {},
     "output_type": "execute_result"
    }
   ],
   "source": [
    "f = Figure(fontsize = 7)\n",
    "i_sc = LScene(f[1, 1])\n",
    "max_v = sqrt(maximum([c.value for c in fil.cells()]))\n",
    "min_v = sqrt(minimum([c.value for c in fil.cells()]))\n",
    "for c in fil.cells()\n",
    "    if length(c.vertices) == 4\n",
    "        mce = get_multichromatic_edges_of_tetrahedron(c.vertices)\n",
    "        bcs = get_barycenters_of_multichromatic_edges(mce, points)\n",
    "        faces = get_faces_from_barycenters(bcs)\n",
    "        #colors = [(b[3] - min_z) / (max_z - min_z) for b in bcs]\n",
    "        colors = [c.value for _ in 1:length(bcs)]\n",
    "        mesh!(i_sc, bcs, faces, color = colors, colorrange = (min_v, max_v), colormap = :viridis)\n",
    "    end\n",
    "end\n",
    "\n",
    "p_sc = LScene(f[1, 2])\n",
    "points3f = [Point3f(p) for p in points]\n",
    "colors = vcat([[j for _ in 1:1206] for j in 1:n_mol]...)\n",
    "scatter!(p_sc, points3f, markersize = conf_ms, color = colors, colormap = :rainbow)\n",
    "\n",
    "display(f)"
   ]
  },
  {
   "cell_type": "code",
   "execution_count": 70,
   "metadata": {},
   "outputs": [],
   "source": [
    "for cell in fil.cells()\n",
    "    parts = [Vector{Int}([]) for i in 1:n_mol]\n",
    "    for v in cell.vertices\n",
    "        push!(parts[div(v, n_atoms_per_mol) + 1], v)\n",
    "    end\n",
    "    cell.value = 0.0\n",
    "end"
   ]
  }
 ],
 "metadata": {
  "kernelspec": {
   "display_name": "Julia Oineus 1.10.4",
   "language": "julia",
   "name": "julia-oineus-1.10"
  },
  "language_info": {
   "file_extension": ".jl",
   "mimetype": "application/julia",
   "name": "julia",
   "version": "1.10.4"
  }
 },
 "nbformat": 4,
 "nbformat_minor": 2
}
