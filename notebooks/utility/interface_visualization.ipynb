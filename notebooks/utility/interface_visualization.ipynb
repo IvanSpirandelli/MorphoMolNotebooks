{
 "cells": [
  {
   "cell_type": "code",
   "execution_count": 1,
   "metadata": {},
   "outputs": [
    {
     "name": "stderr",
     "output_type": "stream",
     "text": [
      "\u001b[32m\u001b[1m  Activating\u001b[22m\u001b[39m project at `~/Doktor/Code/MorphoMol/MorphoMolNotebooks`\n"
     ]
    }
   ],
   "source": [
    "import Pkg; \n",
    "\n",
    "cd(joinpath(@__DIR__, \"../../\"))\n",
    "Pkg.activate(\"Project.toml\")\n",
    "\n",
    "using MorphoMol\n",
    "using PyCall\n",
    "using JLD2\n",
    "using LinearAlgebra\n",
    "using NearestNeighbors\n",
    "using Rotations\n",
    "using GLMakie"
   ]
  },
  {
   "cell_type": "code",
   "execution_count": 2,
   "metadata": {},
   "outputs": [
    {
     "data": {
      "text/plain": [
       "get_boundary_filtration (generic function with 1 method)"
      ]
     },
     "execution_count": 2,
     "metadata": {},
     "output_type": "execute_result"
    }
   ],
   "source": [
    "function get_boundary_filtration(points, n_atoms_per_mol)\n",
    "    py\"\"\"\n",
    "    import oineus as oin\n",
    "    import numpy as np\n",
    "    import torch\n",
    "    import diode\n",
    "\n",
    "    def get_boundary_filtration(points, n_atoms_per_mol):\n",
    "        points = np.asarray(points)\n",
    "\n",
    "        simplices = diode.fill_alpha_shapes(points)\n",
    "\n",
    "        fil = oin.Filtration_double([oin.Simplex_double(s[0], s[1]) for s in simplices])\n",
    "        \n",
    "        def is_multi(sigma):\n",
    "            has_a = has_b = False\n",
    "            for v in sigma.vertices:\n",
    "                if v < n_atoms_per_mol:\n",
    "                    has_a = True\n",
    "                else:\n",
    "                    has_b = True\n",
    "            return has_a and has_b\n",
    "        \n",
    "        fil = fil.subfiltration(is_multi)\n",
    "\n",
    "        return fil\n",
    "    \"\"\"\n",
    "    py\"get_boundary_filtration\"(points, n_atoms_per_mol)\n",
    "end"
   ]
  },
  {
   "cell_type": "code",
   "execution_count": 4,
   "metadata": {},
   "outputs": [
    {
     "data": {
      "text/plain": [
       "get_faces_from_barycenters (generic function with 1 method)"
      ]
     },
     "execution_count": 4,
     "metadata": {},
     "output_type": "execute_result"
    }
   ],
   "source": [
    "function get_multichromatic_edges_of_tetrahedron(verts; split = 1206)\n",
    "    a,b,c,d = verts\n",
    "    combinations = [[a,b], [a,c], [a,d], [b,c], [b,d], [c,d]]\n",
    "    [e for e in combinations if any([v > split for v in e]) && any([v <= split for v in e])]\n",
    "end\n",
    "\n",
    "function get_barycenters_of_multichromatic_edges(edges, points)\n",
    "    barycenters = Vector{Point3f}([])\n",
    "    for e in edges\n",
    "        a,b = e[1],e[2]\n",
    "        bc = Point3f(0.5 * (points[a] + points[b]))\n",
    "        push!(barycenters, bc)\n",
    "    end\n",
    "    if length(barycenters) == 4\n",
    "        bc = Point3f(0.25 * (barycenters[1] + barycenters[2] + barycenters[3] + barycenters[4]))\n",
    "        push!(barycenters, bc)\n",
    "    end \n",
    "    barycenters\n",
    "end\n",
    "\n",
    "function get_faces_from_barycenters(barycenters)\n",
    "    if length(barycenters) == 3\n",
    "        faces = [1 2 3]\n",
    "    elseif length(barycenters) == 5\n",
    "        faces = [1 2 5; 3 4 5; 2 4 5; 1 3 5]\n",
    "        #3 4 5; 1 4 5\n",
    "    end\n",
    "    faces\n",
    "end"
   ]
  },
  {
   "cell_type": "code",
   "execution_count": 17,
   "metadata": {},
   "outputs": [
    {
     "data": {
      "text/plain": [
       "2"
      ]
     },
     "execution_count": 17,
     "metadata": {},
     "output_type": "execute_result"
    }
   ],
   "source": [
    "#@load \"assets/output/persistence/exploding.jld2\" input output\n",
    "@load \"../../Data/collected_simulation_results/rwm_wp_2_6r7m/43.jld2\"\n",
    "\n",
    "points = MorphoMol.Utilities.get_matrix_realization(output[\"states\"][1], input[\"template_centers\"])\n",
    "points = [e for e in eachcol(hcat(points...))];\n",
    "n_atoms_per_mol = length(input[\"template_radii\"])\n",
    "n_mol = Int(length(points) / 1206)"
   ]
  },
  {
   "cell_type": "code",
   "execution_count": 18,
   "metadata": {},
   "outputs": [],
   "source": [
    "fil = get_boundary_filtration(points, 1206);"
   ]
  },
  {
   "cell_type": "code",
   "execution_count": 36,
   "metadata": {},
   "outputs": [],
   "source": [
    "for cell in fil.cells()\n",
    "    parts = [Vector{Int}([]) for i in 1:n_mol]\n",
    "    for v in cell.vertices\n",
    "        push!(parts[div(v, n_atoms_per_mol) + 1], v)\n",
    "    end\n",
    "    cell.value = 0.0\n",
    "end"
   ]
  },
  {
   "cell_type": "code",
   "execution_count": 8,
   "metadata": {},
   "outputs": [
    {
     "data": {
      "text/plain": [
       "55.705481108505744"
      ]
     },
     "execution_count": 8,
     "metadata": {},
     "output_type": "execute_result"
    }
   ],
   "source": [
    "min_z = minimum([e[3] for e in points])\n",
    "max_z = maximum([e[3] for e in points])"
   ]
  },
  {
   "cell_type": "code",
   "execution_count": 39,
   "metadata": {},
   "outputs": [
    {
     "data": {
      "text/plain": [
       "GLMakie.Screen(...)"
      ]
     },
     "execution_count": 39,
     "metadata": {},
     "output_type": "execute_result"
    }
   ],
   "source": [
    "f = Figure(fontsize = 7)\n",
    "lscene = LScene(f[1, 1])\n",
    "\n",
    "#mesh_ax = Axis3(f[1,1])\n",
    "\n",
    "for c in fil.cells()\n",
    "    if length(c.vertices) == 4\n",
    "        mce = get_multichromatic_edges_of_tetrahedron(c.vertices)\n",
    "        bcs = get_barycenters_of_multichromatic_edges(mce, points)\n",
    "        faces = get_faces_from_barycenters(bcs)\n",
    "        colors = [(b[3] - min_z) / (max_z - min_z) for b in bcs]\n",
    "        mesh!(lscene, bcs, faces, color = colors, colorrange = (0,1))\n",
    "    end\n",
    "end\n",
    "\n",
    "display(f)"
   ]
  },
  {
   "cell_type": "code",
   "execution_count": 14,
   "metadata": {},
   "outputs": [
    {
     "data": {
      "text/plain": [
       "GLMakie.Screen(...)"
      ]
     },
     "execution_count": 14,
     "metadata": {},
     "output_type": "execute_result"
    }
   ],
   "source": [
    "f = Figure(fontsize = 7)\n",
    "conf_ax = Axis3(f[1,1])\n",
    "\n",
    "c1_points = [Point3f(p) for p in points[1:1206]]\n",
    "c2_points = [Point3f(p) for p in points[1207:end]]\n",
    "\n",
    "conf_ms = 10\n",
    "scatter!(conf_ax, c1_points, markersize = conf_ms)\n",
    "scatter!(conf_ax, c2_points, markersize = conf_ms)\n",
    "\n",
    "for c in fil.cells()\n",
    "    if length(c.vertices) == 3\n",
    "        i = c.vertices[1]\n",
    "        j = c.vertices[2]\n",
    "        k = c.vertices[3]\n",
    "        a = Point3f(points[i])\n",
    "        b = Point3f(points[j])\n",
    "        c = Point3f(points[k])\n",
    "        c1 = i <= 1206 ? 1 : 2\n",
    "        c2 = j <= 1206 ? 1 : 2\n",
    "        c3 = k <= 1206 ? 1 : 2\n",
    "\n",
    "        lines!(conf_ax, [a,b], color = [c1, c2])\n",
    "        lines!(conf_ax, [a,c], color = [c1, c3])\n",
    "        lines!(conf_ax, [a,b], color = [c2, c3])\n",
    "    end\n",
    "end\n",
    "\n",
    "mesh_ax = Axis3(f[1,2])\n",
    "\n",
    "for c in fil.cells()\n",
    "    if length(c.vertices) == 4\n",
    "        h = c.vertices[1]\n",
    "        i = c.vertices[2]\n",
    "        j = c.vertices[3]\n",
    "        k = c.vertices[4]\n",
    "\n",
    "        mce = get_multichromatic_edges_of_tetrahedron(c.vertices)\n",
    "        bcs = get_barycenters_of_multichromatic_edges(mce, points)\n",
    "        faces = get_faces_from_barycenters(bcs)\n",
    "\n",
    "        mesh!(bcs, faces)\n",
    "    end\n",
    "end\n",
    "\n",
    "display(f)"
   ]
  }
 ],
 "metadata": {
  "kernelspec": {
   "display_name": "Julia Oineus 1.10.4",
   "language": "julia",
   "name": "julia-oineus-1.10"
  },
  "language_info": {
   "file_extension": ".jl",
   "mimetype": "application/julia",
   "name": "julia",
   "version": "1.10.4"
  }
 },
 "nbformat": 4,
 "nbformat_minor": 2
}
