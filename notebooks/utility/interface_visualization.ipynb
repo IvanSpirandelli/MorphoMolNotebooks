{
 "cells": [
  {
   "cell_type": "code",
   "execution_count": 1,
   "metadata": {},
   "outputs": [
    {
     "name": "stderr",
     "output_type": "stream",
     "text": [
      "\u001b[32m\u001b[1m  Activating\u001b[22m\u001b[39m project at `~/Doktor/Code/MorphoMol/MorphoMolNotebooks`\n"
     ]
    }
   ],
   "source": [
    "import Pkg; \n",
    "\n",
    "cd(joinpath(@__DIR__, \"../../\"))\n",
    "Pkg.activate(\"Project.toml\")\n",
    "\n",
    "using MorphoMol\n",
    "using PyCall\n",
    "using JLD2\n",
    "using LinearAlgebra\n",
    "using NearestNeighbors\n",
    "using Rotations\n",
    "using GLMakie"
   ]
  },
  {
   "cell_type": "code",
   "execution_count": 2,
   "metadata": {},
   "outputs": [
    {
     "data": {
      "text/plain": [
       "get_boundary_filtration (generic function with 1 method)"
      ]
     },
     "execution_count": 2,
     "metadata": {},
     "output_type": "execute_result"
    }
   ],
   "source": [
    "function get_boundary_filtration(points, n_atoms_per_mol)\n",
    "    py\"\"\"\n",
    "    import oineus as oin\n",
    "    import numpy as np\n",
    "    import torch\n",
    "    import diode\n",
    "\n",
    "    def get_boundary_filtration(points, n_atoms_per_mol):\n",
    "        points = np.asarray(points)\n",
    "\n",
    "        simplices = diode.fill_alpha_shapes(points)\n",
    "\n",
    "        fil = oin.Filtration_double([oin.Simplex_double(s[0], s[1]) for s in simplices])\n",
    "        \n",
    "        def is_multi(sigma):\n",
    "            has_a = has_b = False\n",
    "            for v in sigma.vertices:\n",
    "                if v < n_atoms_per_mol:\n",
    "                    has_a = True\n",
    "                else:\n",
    "                    has_b = True\n",
    "            return has_a and has_b\n",
    "        \n",
    "        fil = fil.subfiltration(is_multi)\n",
    "\n",
    "        return fil\n",
    "    \"\"\"\n",
    "    py\"get_boundary_filtration\"(points, n_atoms_per_mol)\n",
    "end"
   ]
  },
  {
   "cell_type": "code",
   "execution_count": 4,
   "metadata": {},
   "outputs": [
    {
     "data": {
      "text/plain": [
       "2412-element Vector{SubArray{Float64, 1, Matrix{Float64}, Tuple{Base.Slice{Base.OneTo{Int64}}, Int64}, true}}:\n",
       " [-9.566561876644581, 17.509013521627477, 71.58452821235196]\n",
       " [-8.500446789019989, 18.01219303064911, 72.4387980769966]\n",
       " [-8.117724535767472, 16.991918043372966, 73.50076635675074]\n",
       " [-8.861590174543984, 16.051673381858517, 73.76502737911528]\n",
       " [-8.916337796509154, 19.321046228887923, 73.10918526015989]\n",
       " [-9.931535276755326, 19.1002323266637, 74.07121659888348]\n",
       " [-6.946220074127353, 17.17742496304515, 74.09599528675251]\n",
       " [-6.563609898130871, 16.44640419564484, 75.29327056456184]\n",
       " [-7.006586875335863, 17.22935323611511, 76.52195083122727]\n",
       " [-7.012883297798869, 18.462167161856573, 76.52152708353502]\n",
       " [-5.051001646099358, 16.229956943262216, 75.35413814889166]\n",
       " [-4.491026029748287, 15.20513546970669, 74.39831690177914]\n",
       " [-4.824191368679596, 13.863371574280334, 74.51285294791784]\n",
       " ⋮\n",
       " [63.041204249597754, -14.172555315381889, 30.14021829952031]\n",
       " [63.13743579076346, -13.22457312449928, 32.35843904062212]\n",
       " [61.811140098694075, -14.760482062449217, 30.394335053679583]\n",
       " [61.91908202390831, -13.806886545564414, 32.60652607864968]\n",
       " [61.2702043642591, -14.56889831605163, 31.631351302290536]\n",
       " [67.07395748668952, -15.167267777107273, 31.334543819307136]\n",
       " [67.64618343104046, -16.289932079266872, 30.605671173868867]\n",
       " [66.55958300883358, -17.030791969139592, 29.83976507907813]\n",
       " [65.59778628882631, -17.519811457673597, 30.43050022211368]\n",
       " [68.36422947988875, -17.267093124168436, 31.547087215829194]\n",
       " [69.51516401430831, -16.628978863117872, 32.111098640646325]\n",
       " [68.80638008576362, -18.511291881594477, 30.790942194193786]"
      ]
     },
     "execution_count": 4,
     "metadata": {},
     "output_type": "execute_result"
    }
   ],
   "source": [
    "@load \"assets/output/persistence/exploding.jld2\" input output\n",
    "\n",
    "#template_centers = MorphoMol.Utilities.TMV_TEMPLATES[\"6r7m\"][\"template_centers\"]\n",
    "#x_init = MorphoMol.Utilities.get_initial_state(2, 150.0)\n",
    "\n",
    "points = MorphoMol.Utilities.get_matrix_realization(output[\"states\"][1], input[\"template_centers\"])\n",
    "points = [e for e in eachcol(hcat(points...))]"
   ]
  },
  {
   "cell_type": "code",
   "execution_count": 64,
   "metadata": {},
   "outputs": [
    {
     "data": {
      "text/plain": [
       "get_faces_from_barycenters (generic function with 1 method)"
      ]
     },
     "execution_count": 64,
     "metadata": {},
     "output_type": "execute_result"
    }
   ],
   "source": [
    "function get_multichromatic_edges_of_tetrahedron(verts; split = 1206)\n",
    "    a,b,c,d = verts\n",
    "    combinations = [[a,b], [a,c], [a,d], [b,c], [b,d], [c,d]]\n",
    "    [e for e in combinations if any([v > split for v in e]) && any([v <= split for v in e])]\n",
    "end\n",
    "\n",
    "function get_barycenters_of_multichromatic_edges(edges, points)\n",
    "    barycenters = Vector{Point3f}([])\n",
    "    for e in edges\n",
    "        a,b = e[1],e[2]\n",
    "        bc = Point3f(0.5 * (points[a] + points[b]))\n",
    "        push!(barycenters, bc)\n",
    "    end\n",
    "    if length(barycenters) == 4\n",
    "        bc = Point3f(0.25 * (barycenters[1] + barycenters[2] + barycenters[3] + barycenters[4]))\n",
    "        push!(barycenters, bc)\n",
    "    end \n",
    "    barycenters\n",
    "end\n",
    "\n",
    "function get_faces_from_barycenters(barycenters)\n",
    "    if length(barycenters) == 3\n",
    "        faces = [1 2 3]\n",
    "    elseif length(barycenters) == 5\n",
    "        faces = [1 2 5; 3 4 5; 2 4 5; 1 3 5]\n",
    "        #3 4 5; 1 4 5\n",
    "    end\n",
    "    faces\n",
    "end"
   ]
  },
  {
   "cell_type": "code",
   "execution_count": 65,
   "metadata": {},
   "outputs": [
    {
     "data": {
      "text/plain": [
       "GLMakie.Screen(...)"
      ]
     },
     "execution_count": 65,
     "metadata": {},
     "output_type": "execute_result"
    }
   ],
   "source": [
    "f = Figure(fontsize = 7)\n",
    "mesh_ax = Axis3(f[1,1])\n",
    "tetrahedron = [Point3f(0.0, 0.0, 0.0), Point3f(2.0, 0.0, 0.0), Point3f(1.0, 0.0, 2.0), Point3f(1.0, 2.0, 1.0)]\n",
    "\n",
    "\n",
    "mce = get_multichromatic_edges_of_tetrahedron([1,2,3,4], split = 2)\n",
    "bcs = get_barycenters_of_multichromatic_edges(mce, tetrahedron)\n",
    "faces = get_faces_from_barycenters(bcs)\n",
    "\n",
    "mesh!(bcs, faces)\n",
    "\n",
    "\n",
    "display(f)"
   ]
  },
  {
   "cell_type": "code",
   "execution_count": 69,
   "metadata": {},
   "outputs": [
    {
     "data": {
      "text/plain": [
       "GLMakie.Screen(...)"
      ]
     },
     "execution_count": 69,
     "metadata": {},
     "output_type": "execute_result"
    }
   ],
   "source": [
    "f = Figure(fontsize = 7)\n",
    "mesh_ax = Axis3(f[1,1])\n",
    "\n",
    "for c in fil.cells()\n",
    "    if length(c.vertices) == 4\n",
    "        mce = get_multichromatic_edges_of_tetrahedron(c.vertices)\n",
    "        bcs = get_barycenters_of_multichromatic_edges(mce, points)\n",
    "        faces = get_faces_from_barycenters(bcs)\n",
    "\n",
    "        mesh!(bcs, faces)\n",
    "    end\n",
    "end\n",
    "\n",
    "display(f)"
   ]
  },
  {
   "cell_type": "code",
   "execution_count": 14,
   "metadata": {},
   "outputs": [
    {
     "data": {
      "text/plain": [
       "GLMakie.Screen(...)"
      ]
     },
     "execution_count": 14,
     "metadata": {},
     "output_type": "execute_result"
    }
   ],
   "source": [
    "f = Figure(fontsize = 7)\n",
    "conf_ax = Axis3(f[1,1])\n",
    "\n",
    "c1_points = [Point3f(p) for p in points[1:1206]]\n",
    "c2_points = [Point3f(p) for p in points[1207:end]]\n",
    "\n",
    "conf_ms = 10\n",
    "scatter!(conf_ax, c1_points, markersize = conf_ms)\n",
    "scatter!(conf_ax, c2_points, markersize = conf_ms)\n",
    "\n",
    "for c in fil.cells()\n",
    "    if length(c.vertices) == 3\n",
    "        i = c.vertices[1]\n",
    "        j = c.vertices[2]\n",
    "        k = c.vertices[3]\n",
    "        a = Point3f(points[i])\n",
    "        b = Point3f(points[j])\n",
    "        c = Point3f(points[k])\n",
    "        c1 = i <= 1206 ? 1 : 2\n",
    "        c2 = j <= 1206 ? 1 : 2\n",
    "        c3 = k <= 1206 ? 1 : 2\n",
    "\n",
    "        lines!(conf_ax, [a,b], color = [c1, c2])\n",
    "        lines!(conf_ax, [a,c], color = [c1, c3])\n",
    "        lines!(conf_ax, [a,b], color = [c2, c3])\n",
    "    end\n",
    "end\n",
    "\n",
    "mesh_ax = Axis3(f[1,2])\n",
    "\n",
    "for c in fil.cells()\n",
    "    if length(c.vertices) == 4\n",
    "        h = c.vertices[1]\n",
    "        i = c.vertices[2]\n",
    "        j = c.vertices[3]\n",
    "        k = c.vertices[4]\n",
    "\n",
    "        mce = get_multichromatic_edges_of_tetrahedron(c.vertices)\n",
    "        bcs = get_barycenters_of_multichromatic_edges(mce, points)\n",
    "        faces = get_faces_from_barycenters(bcs)\n",
    "\n",
    "        mesh!(bcs, faces)\n",
    "    end\n",
    "end\n",
    "\n",
    "display(f)"
   ]
  }
 ],
 "metadata": {
  "kernelspec": {
   "display_name": "Julia Oineus 1.10.4",
   "language": "julia",
   "name": "julia-oineus-1.10"
  },
  "language_info": {
   "file_extension": ".jl",
   "mimetype": "application/julia",
   "name": "julia",
   "version": "1.10.4"
  }
 },
 "nbformat": 4,
 "nbformat_minor": 2
}
