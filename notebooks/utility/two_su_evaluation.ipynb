{
 "cells": [
  {
   "cell_type": "code",
   "execution_count": 1,
   "metadata": {},
   "outputs": [
    {
     "name": "stderr",
     "output_type": "stream",
     "text": [
      "\u001b[32m\u001b[1m  Activating\u001b[22m\u001b[39m project at `~/Doktor/Code/MorphoMol/MorphoMolNotebooks`\n"
     ]
    }
   ],
   "source": [
    "import Pkg; \n",
    "\n",
    "if split(pwd(),\"/\")[end] == \"utility\"\n",
    "    cd(joinpath(@__DIR__, \"../../\"))\n",
    "    Pkg.activate(\"Project.toml\")\n",
    "end\n",
    "\n",
    "using MorphoMol\n",
    "using StaticArrays\n",
    "using Rotations\n",
    "using Distances\n",
    "using JLD2"
   ]
  },
  {
   "cell_type": "code",
   "execution_count": 5,
   "metadata": {},
   "outputs": [
    {
     "name": "stdout",
     "output_type": "stream",
     "text": [
      "Minimal configuration id: 11 | Average acceptance rate: 0.5307650656742585\n",
      "1: 4.0 | 1.0 | 0.6509601 | 8762.741530448666, 8693.493355916318, 8762.741530522613 | 11.611596755552169\n",
      "2: 4.0 | 1.0 | 0.86130106 | 8762.74153029157, 8703.909754517545, 8762.74153040259 | 15.318596976859919\n",
      "3: 4.0 | 1.0 | 0.28527653 | 8762.741530466392, 8690.922405680982, 8709.470536500303 | 6.639948964717787\n",
      "4: 4.0 | 1.0 | 0.36895216 | 8762.741530328369, 8685.385762741133, 8762.741530406198 | 6.059323040554525\n",
      "5: 4.0 | 1.0 | 0.43615705 | 8762.741530297966, 8689.702945558924, 8698.690042092383 | 20.95872333015336\n",
      "6: 4.0 | 1.0 | 0.7341769 | 8762.74153042557, 8714.380068141427, 8729.21517592163 | 17.594520856115043\n",
      "7: 4.0 | 1.0 | 0.2671662 | 8762.74153031107, 8694.127865659048, 8712.375718027304 | 6.376366248362985\n",
      "8: 4.0 | 1.0 | 0.36303243 | 8762.741530428488, 8698.27185510424, 8762.741530109533 | 21.444639495686086\n",
      "9: 4.0 | 1.0 | 0.72187555 | 8762.741530082649, 8703.489534731349, 8762.741530310326 | 22.231351677998205\n",
      "10: 4.0 | 1.0 | 0.514881 | 8762.741529952355, 8698.904607615183, 8762.741530389407 | 14.50187858644508\n",
      "11: 4.0 | 1.0 | 0.004102605 | 9394.248483727992, 8638.754857061891, 8652.429095819232 | 0.8991741687911241\n",
      "12: 4.0 | 1.0 | 0.823281 | 8762.741530196501, 8704.498261727156, 8732.582996823987 | 25.70169686969922\n",
      "13: 4.0 | 1.0 | 0.8756486 | 8762.741530272486, 8706.138448495005, 8755.507231274963 | 28.844404494768863\n",
      "14: 4.0 | 1.0 | 0.47062606 | 8762.741530178917, 8697.820847740633, 8728.101350139566 | 15.656656831352487\n",
      "15: 4.0 | 1.0 | 0.97866356 | 8762.741530153564, 8749.542674682258, 8762.741530513007 | 47.87678127692038\n",
      "16: 4.0 | 1.0 | 0.55045176 | 8762.741530799081, 8694.743885552281, 8721.44309144888 | 17.220015976342264\n",
      "17: 4.0 | 1.0 | 0.6461395 | 8762.741530261157, 8709.888684293146, 8740.032634413237 | 5.492011701435883\n",
      "18: 4.0 | 1.0 | 0.31237355 | 8762.741530218178, 8687.974686118172, 8689.437418568154 | 28.37735502379733\n",
      "19: 4.0 | 1.0 | 0.52692235 | 8762.741530130688, 8692.328123733425, 8741.114044274083 | 3.7072292378777933\n",
      "20: 4.0 | 1.0 | 0.33323064 | 8762.741530432446, 8677.638957696723, 8684.877111599742 | 1.124775510496098\n",
      "21: 4.0 | 1.0 | 0.8296027 | 8762.741530339967, 8714.94770362785, 8762.741530183746 | 5.35593823193758\n",
      "22: 4.0 | 1.0 | 0.6839648 | 8762.741530334917, 8697.441802239659, 8762.74153058417 | 20.000016547921273\n",
      "23: 4.0 | 1.0 | 0.88680893 | 8762.741530633666, 8688.263224750412, 8706.38506224065 | 2.4774057079331886\n",
      "24: 4.0 | 1.0 | 0.38825166 | 8762.74153066096, 8700.431273792876, 8712.86897983754 | 19.028399948353236\n",
      "25: 4.0 | 1.0 | 0.47359273 | 8870.661167609293, 8680.14074386699, 8762.741529958716 | 14.135381677797708\n",
      "\n",
      "\n",
      "\n",
      "\n",
      "30: 4.0 | 1.0 | 0.5520681 | 8762.741530121802, 8688.697158886203, 8700.475825194182 | 11.733356954465291\n",
      "\n",
      "\n",
      "33: 4.0 | 1.0 | 0.41835096 | 8762.741530219608, 8674.994520573624, 8762.741530373163 | 5.44797393645203\n",
      "\n",
      "35: 4.0 | 1.0 | 0.52281356 | 8762.741530118175, 8692.32807093021, 8695.636453026273 | 14.881882045218532\n",
      "36: 4.0 | 1.0 | 0.7322084 | 8762.741530468493, 8709.301619587937, 8762.741530436522 | 5.856565721108361\n",
      "37: 4.0 | 1.0 | 0.6518407 | 8762.741529881932, 8690.258637375115, 8702.163570590868 | 20.046744282150314\n",
      "38: 4.0 | 1.0 | 0.3124072 | 8762.741529952355, 8675.79804834365, 8689.612491410171 | 6.489074015318485\n",
      "39: 4.0 | 1.0 | 0.7412 | 8762.741530049907, 8690.326676664574, 8749.509815346666 | 6.023662606261254\n",
      "40: 4.0 | 1.0 | 0.43352255 | 8801.86360791338, 8692.521359040082, 8762.741530785199 | 8.017316229423784\n",
      "41: 4.0 | 1.0 | 0.8508683 | 8762.741530558069, 8701.513234956516, 8762.741530032532 | 17.906783083000505\n",
      "42: 4.0 | 1.0 | 0.42814335 | 8762.74153016006, 8693.58378359807, 8711.586212767228 | 17.490614017177606\n",
      "43: 4.0 | 1.0 | 0.24351014 | 8762.741530549467, 8685.668290424022, 8731.892065778215 | 19.922350756905818\n",
      "44: 4.0 | 1.0 | 0.22912395 | 8762.741530175397, 8693.482486907738, 8730.464715915072 | 19.023522461348016\n",
      "45: 4.0 | 1.0 | 0.21573165 | 8762.74153052847, 8667.036138716174, 8676.466966628295 | 1.7652511423882484\n",
      "46: 4.0 | 1.0 | 0.38709128 | 8768.540873521213, 8700.255431807414, 8762.741530195746 | 12.02334379795752\n",
      "47: 4.0 | 1.0 | 0.74063724 | 9435.249702660376, 8716.400085225798, 8762.741530455163 | 28.930269457583826\n",
      "48: 4.0 | 1.0 | 0.3044689 | 8762.741530466521, 8689.675016466541, 8702.943318861886 | 13.026046620794007\n",
      "49: 4.0 | 1.0 | 0.48531976 | 8762.80364218477, 8698.309110003413, 8762.741530321287 | 9.112132979189727\n",
      "50: 4.0 | 1.0 | 0.58615243 | 8762.741530436882, 8695.702184635229, 8762.741530417277 | 4.854732181675617\n",
      "\n",
      "\n",
      "\n",
      "\n",
      "\n",
      "\n",
      "\n",
      "\n",
      "\n",
      "\n",
      "\n",
      "\n",
      "\n",
      "\n",
      "\n",
      "\n",
      "\n",
      "\n",
      "\n",
      "\n",
      "\n",
      "\n",
      "\n",
      "\n",
      "\n",
      "\n",
      "\n",
      "\n",
      "\n",
      "\n",
      "\n",
      "\n",
      "\n",
      "\n",
      "\n",
      "\n",
      "\n",
      "\n",
      "\n",
      "\n",
      "\n",
      "\n",
      "\n",
      "\n",
      "\n",
      "\n",
      "\n",
      "\n",
      "\n",
      "\n"
     ]
    }
   ],
   "source": [
    "folder = \"../../Data/hpc_out/rwm_ma_2_6r7m/\"\n",
    "mol_type = \"6r7m\"\n",
    "#folder = \"../../Data/collected_simulation_results/rwm_op_2_6r7m/\"\n",
    "\n",
    "id_index = 1\n",
    "separator = \"_\"\n",
    "max = 1\n",
    "for file in readdir(folder)\n",
    "    if split(file, \".\")[end] == \"jld2\"\n",
    "        max = max < parse(Int, split(file, separator)[id_index]) ? parse(Int, split(file, separator)[id_index]) : max\n",
    "    end\n",
    "end\n",
    "\n",
    "acceptance_rates = Vector{Float64}([])\n",
    "min_Es = [Inf for _ in 1:max]\n",
    "evaluation_strings = [\"\" for _ in 1:max]\n",
    "for file in readdir(folder)\n",
    "    if split(file, \".\")[end] == \"jld2\"\n",
    "        try\n",
    "            @load \"$folder$file\" input output\n",
    "            # Crude test to exclude runs that remained dispersed\n",
    "            if maximum(output[\"Es\"]) - minimum(output[\"Es\"]) < 10.0# || input[\"T\"] > 1.5\n",
    "                println(\"E_diff = $(maximum(output[\"Es\"]) - minimum(output[\"Es\"]))\")\n",
    "                continue\n",
    "            end\n",
    "            \n",
    "            id = parse(Int, split(file, separator)[id_index])\n",
    "            exp_template_centers = MorphoMol.Utilities.TWOTMVSU_EXPERIMENTAL_ASSEMBLY[mol_type][\"template_centers\"]\n",
    "            exp_state = MorphoMol.Utilities.TWOTMVSU_EXPERIMENTAL_ASSEMBLY[mol_type][\"state\"]\n",
    "            theta = MorphoMol.Utilities.average_offset_distance(exp_template_centers, input[\"template_centers\"], exp_state, output[\"states\"][argmin(output[\"Es\"])])\n",
    "            string = \"$(id): $(input[\"T\"]) | $(input[\"overlap_slope\"]) | $(output[\"αs\"][end]) | $(output[\"Es\"][1]), $(minimum(output[\"Es\"])), $(output[\"Es\"][end]) | $(theta)\"\n",
    "            push!(acceptance_rates, output[\"αs\"][end])\n",
    "            evaluation_strings[id] = string\n",
    "            min_Es[id] = minimum(output[\"Es\"])\n",
    "        catch e\n",
    "            println(e)\n",
    "            println(\"Error in $file\")\n",
    "        end\n",
    "    end\n",
    "end\n",
    "println(\"Minimal configuration id: $(argmin(min_Es)) | Average acceptance rate: $(sum(acceptance_rates) / length(acceptance_rates))\")\n",
    "for elem in evaluation_strings\n",
    "    println(elem)\n",
    "end"
   ]
  },
  {
   "cell_type": "code",
   "execution_count": null,
   "metadata": {},
   "outputs": [],
   "source": [
    "for file in readdir(folder)\n",
    "    try\n",
    "        @load \"$folder$file\" input output\n",
    "        mindex = argmin(output[\"Es\"])\n",
    "        state = output[\"states\"][mindex]\n",
    "        id = parse(Int, split(file, \"_\")[id_index])\n",
    "        radii = collect(Base.Iterators.flatten([input[\"template_radii\"] for _ in 1:input[\"n_mol\"]]))\n",
    "        MorphoMolNotebooks.configuration_to_poly(MorphoMol.Utilities.get_flat_realization(state, input[\"template_centers\"]), radii, \"$(folder)$(id)\", input[\"n_mol\"], length(input[\"template_radii\"]))\n",
    "    catch e\n",
    "        println(e)\n",
    "        continue\n",
    "    end\n",
    "end"
   ]
  },
  {
   "cell_type": "markdown",
   "metadata": {},
   "source": [
    "# Print Single Assembly Path"
   ]
  },
  {
   "cell_type": "code",
   "execution_count": null,
   "metadata": {},
   "outputs": [
    {
     "data": {
      "text/plain": [
       "2-element Vector{Symbol}:\n",
       " :input\n",
       " :output"
      ]
     },
     "execution_count": 54,
     "metadata": {},
     "output_type": "execute_result"
    }
   ],
   "source": [
    "@load \"../../Data/hpc_out/rwm_ma_2_6r7m/81_rwm_wip_2_6r7m.jld2\" input output\n"
   ]
  },
  {
   "cell_type": "code",
   "execution_count": null,
   "metadata": {},
   "outputs": [],
   "source": [
    "mindex = argmin(output[\"Es\"])\n",
    "lower = 500\n",
    "upper = 100\n",
    "out_folder = \"../../Data/tmp/assembly_path/\"\n",
    "try\n",
    "    rm(out_folder, recursive=true)\n",
    "catch \n",
    "end\n",
    "mkdir(out_folder)\n",
    "radii = collect(Base.Iterators.flatten([input[\"template_radii\"] for _ in 1:input[\"n_mol\"]]))\n",
    "for (i,j) in enumerate(maximum([mindex-lower,1]):minimum([mindex+upper, length(output[\"Es\"])]))\n",
    "    state = output[\"states\"][j]\n",
    "    MorphoMolNotebooks.configuration_to_poly(MorphoMol.Utilities.get_flat_realization(state, input[\"template_centers\"]), radii, \"$(out_folder)$(i)\", input[\"n_mol\"], length(input[\"template_radii\"]))\n",
    "end\n",
    "\n"
   ]
  },
  {
   "cell_type": "markdown",
   "metadata": {},
   "source": [
    "# Dispersed State Energies"
   ]
  },
  {
   "cell_type": "code",
   "execution_count": 19,
   "metadata": {},
   "outputs": [
    {
     "name": "stdout",
     "output_type": "stream",
     "text": [
      "1ei7 8255.3356279267\n",
      "2tmv 8130.426867538925\n",
      "6r7m 8219.578304239454\n",
      "6sae 8185.217724310747\n",
      "6sag 8174.157936120334\n"
     ]
    }
   ],
   "source": [
    "folder = \"assets/input/poly/singles/\"\n",
    "for file in readdir(folder)\n",
    "    c,r = MorphoMol.Utilities.poly_to_state(\"$folder$file\")\n",
    "    E = MorphoMol.Energies.solvation_free_energy(\n",
    "        c, \n",
    "        length(r),\n",
    "        r,\n",
    "        1.4,\n",
    "        MorphoMol.Energies.get_prefactors(1.4, 0.3665),\n",
    "        0.0,\n",
    "        0.85\n",
    "        )\n",
    "    println(\"$(split(file, \"_\")[1]) \", 2*E)\n",
    "end"
   ]
  }
 ],
 "metadata": {
  "kernelspec": {
   "display_name": "julia_oineus 1.10.6",
   "language": "julia",
   "name": "julia_oineus-1.10"
  },
  "language_info": {
   "file_extension": ".jl",
   "mimetype": "application/julia",
   "name": "julia",
   "version": "1.10.6"
  },
  "orig_nbformat": 4
 },
 "nbformat": 4,
 "nbformat_minor": 2
}
