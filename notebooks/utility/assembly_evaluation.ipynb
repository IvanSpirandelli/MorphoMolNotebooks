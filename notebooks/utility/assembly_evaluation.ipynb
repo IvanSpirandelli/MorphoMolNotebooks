{
 "cells": [
  {
   "cell_type": "code",
   "execution_count": 1,
   "metadata": {},
   "outputs": [
    {
     "name": "stderr",
     "output_type": "stream",
     "text": [
      "\u001b[32m\u001b[1m  Activating\u001b[22m\u001b[39m project at `~/Doktor/Code/MorphoMol/MorphoMolNotebooks`\n"
     ]
    }
   ],
   "source": [
    "import Pkg; \n",
    "cd(joinpath(@__DIR__, \"../../\"))\n",
    "Pkg.activate(\"Project.toml\")\n",
    "\n",
    "using MorphoMol\n",
    "using StaticArrays\n",
    "using Rotations\n",
    "using Distances\n",
    "using JLD2"
   ]
  },
  {
   "cell_type": "code",
   "execution_count": 2,
   "metadata": {},
   "outputs": [
    {
     "data": {
      "text/plain": [
       "\"/Users/ivanspirandelli/Doktor/Code/MorphoMol/MorphoMolNotebooks\""
      ]
     },
     "execution_count": 2,
     "metadata": {},
     "output_type": "execute_result"
    }
   ],
   "source": [
    "pwd()"
   ]
  },
  {
   "cell_type": "code",
   "execution_count": 4,
   "metadata": {},
   "outputs": [],
   "source": [
    "folder = \"../../Data/hpc_out/rwm_op_3_6r7m/\"\n",
    "mol_type = \"6r7m\"\n",
    "folder = \"../../Data/collected_simulation_results/rwm_wp_2_6r7m/\"\n",
    "\n",
    "id_index = 1\n",
    "separator = \".\"\n",
    "max = 1\n",
    "for file in readdir(folder)\n",
    "    if split(file, \".\")[end] == \"jld2\"\n",
    "        max = max < parse(Int, split(file, separator)[id_index]) ? parse(Int, split(file, separator)[id_index]) : max\n",
    "    end\n",
    "end\n",
    "\n",
    "min_Es = [Inf for _ in 1:max]\n",
    "evaluation_strings = [\"\" for _ in 1:max]\n",
    "for file in readdir(folder)\n",
    "    if split(file, \".\")[end] == \"jld2\"\n",
    "        try\n",
    "            @load \"$folder$file\" input output\n",
    "            id = parse(Int, split(file, separator)[id_index])\n",
    "            exp_template_centers = MorphoMol.Utilities.TWOTMVSU_EXPERIMENTAL_ASSEMBLY[mol_type][\"template_centers\"]\n",
    "            exp_state = MorphoMol.Utilities.TWOTMVSU_EXPERIMENTAL_ASSEMBLY[mol_type][\"state\"]\n",
    "            theta = MorphoMol.Utilities.average_offset_distance(exp_template_centers, input[\"template_centers\"], exp_state, output[\"states\"][argmin(output[\"Es\"])])\n",
    "            string = \"$(id): $(input[\"T\"]) | $(output[\"αs\"][end]) | $(output[\"Es\"][1]), $(minimum(output[\"Es\"])), $(output[\"Es\"][end]) | $(theta)\"\n",
    "            evaluation_strings[id] = string\n",
    "            min_Es[id] = minimum(output[\"Es\"])\n",
    "        catch e\n",
    "            println(\"Error in $file\")\n",
    "        end\n",
    "    end\n",
    "end"
   ]
  },
  {
   "cell_type": "code",
   "execution_count": 5,
   "metadata": {},
   "outputs": [
    {
     "data": {
      "text/plain": [
       "43"
      ]
     },
     "execution_count": 5,
     "metadata": {},
     "output_type": "execute_result"
    }
   ],
   "source": [
    "argmin(min_Es)"
   ]
  },
  {
   "cell_type": "code",
   "execution_count": 32,
   "metadata": {},
   "outputs": [
    {
     "name": "stdout",
     "output_type": "stream",
     "text": [
      "\n",
      "2: 2.0 | 0.50442475 | 45.96227452649346, -110.94548415517777, -109.8287898383199 | 16.16857392224261\n",
      "3: 2.0 | 0.299293 | 90.42696720224309, -117.75077790862684, -108.00833203467644 | 40.86532880846855\n",
      "4: 2.0 | 0.36299214 | 1.0880041047117572, -108.51988347109341, -100.59293725342182 | 31.352217757108065\n",
      "5: 2.0 | 0.23264985 | 76.67544966942425, -165.50762468042507, -158.62115128330353 | 53.77609737793702\n",
      "6: 2.0 | 0.567495 | -64.69230786915028, -94.45214622629898, -87.79091737346744 | 31.85920417612689\n",
      "7: 2.0 | 0.3290469 | 18.20958033804439, -129.39199867189694, -122.40315502260262 | 55.14244722061476\n",
      "8: 2.0 | 0.3261218 | 102.7085417379931, -103.85252208710801, -93.26682388043335 | 51.05792117092392\n",
      "9: 2.0 | 0.16321656 | 9.161727906758443, -163.3047489863447, -159.5602436801995 | 67.78514273677933\n",
      "10: 2.0 | 0.275 | -0.8248326073289718, -164.5327388360667, -163.3835897573619 | 64.80966646312964\n"
     ]
    }
   ],
   "source": [
    "for elem in evaluation_strings\n",
    "    println(elem)\n",
    "end"
   ]
  },
  {
   "cell_type": "code",
   "execution_count": 33,
   "metadata": {},
   "outputs": [
    {
     "name": "stdout",
     "output_type": "stream",
     "text": [
      "JLD2.InvalidDataException(\"Did not find a Superblock.\")\n",
      "JLD2.InvalidDataException(\"Did not find a Superblock.\")\n",
      "JLD2.InvalidDataException(\"Did not find a Superblock.\")\n"
     ]
    }
   ],
   "source": [
    "for file in readdir(folder)\n",
    "    try\n",
    "        @load \"$folder$file\" input output\n",
    "        mindex = argmin(output[\"Es\"])\n",
    "        state = output[\"states\"][mindex]\n",
    "        id = parse(Int, split(file, \"_\")[id_index])\n",
    "        radii = collect(Base.Iterators.flatten([input[\"template_radii\"] for _ in 1:input[\"n_mol\"]]))\n",
    "        MorphoMol.Utilities.state_to_poly(MorphoMol.Utilities.get_flat_realization(state, input[\"template_centers\"]), radii, \"$(folder)$(id)\", input[\"n_mol\"], length(input[\"template_radii\"]))\n",
    "    catch e\n",
    "        println(e)\n",
    "        continue\n",
    "    end\n",
    "end"
   ]
  },
  {
   "cell_type": "markdown",
   "metadata": {},
   "source": [
    "# Print Single Assembly Path"
   ]
  },
  {
   "cell_type": "code",
   "execution_count": 34,
   "metadata": {},
   "outputs": [
    {
     "data": {
      "text/plain": [
       "2-element Vector{Symbol}:\n",
       " :input\n",
       " :output"
      ]
     },
     "execution_count": 34,
     "metadata": {},
     "output_type": "execute_result"
    }
   ],
   "source": [
    "@load \"../../Data/hpc_out/rwm_op_3_6r7m/5_rwm_op_3_6r7m.jld2\" input output\n"
   ]
  },
  {
   "cell_type": "code",
   "execution_count": 35,
   "metadata": {},
   "outputs": [
    {
     "data": {
      "text/plain": [
       "3×1206 Matrix{Float64}:\n",
       " -27.8796   -26.6674   -26.5597   …  -31.3903   -31.5191   -32.6934\n",
       "   9.063      9.54921    9.03875       8.50467    8.25724    9.091\n",
       "  -4.79258   -4.1493    -2.71995      -1.62113   -0.2168    -2.14403"
      ]
     },
     "execution_count": 35,
     "metadata": {},
     "output_type": "execute_result"
    }
   ],
   "source": [
    "input[\"template_centers\"]"
   ]
  },
  {
   "cell_type": "code",
   "execution_count": 36,
   "metadata": {},
   "outputs": [],
   "source": [
    "mindex = argmin(output[\"Es\"])\n",
    "lower = 500\n",
    "upper = 100\n",
    "out_folder = \"../../Data/tmp/assembly_path/\"\n",
    "try\n",
    "    rm(out_folder, recursive=true)\n",
    "catch \n",
    "end\n",
    "mkdir(out_folder)\n",
    "radii = collect(Base.Iterators.flatten([input[\"template_radii\"] for _ in 1:input[\"n_mol\"]]))\n",
    "for (i,j) in enumerate(maximum([mindex-lower,1]):minimum([mindex+upper, length(output[\"Es\"])]))\n",
    "    state = output[\"states\"][j]\n",
    "    MorphoMol.Utilities.state_to_poly(MorphoMol.Utilities.get_flat_realization(state, input[\"template_centers\"]), radii, \"$(out_folder)$(i)\", input[\"n_mol\"], length(input[\"template_radii\"]))\n",
    "end\n",
    "\n"
   ]
  },
  {
   "cell_type": "markdown",
   "metadata": {},
   "source": [
    "# Dispersed State Energies"
   ]
  },
  {
   "cell_type": "code",
   "execution_count": 19,
   "metadata": {},
   "outputs": [
    {
     "name": "stdout",
     "output_type": "stream",
     "text": [
      "1ei7 8255.3356279267\n",
      "2tmv 8130.426867538925\n",
      "6r7m 8219.578304239454\n",
      "6sae 8185.217724310747\n",
      "6sag 8174.157936120334\n"
     ]
    }
   ],
   "source": [
    "folder = \"assets/input/poly/singles/\"\n",
    "for file in readdir(folder)\n",
    "    c,r = MorphoMol.Utilities.poly_to_state(\"$folder$file\")\n",
    "    E = MorphoMol.Energies.solvation_free_energy(\n",
    "        c, \n",
    "        length(r),\n",
    "        r,\n",
    "        1.4,\n",
    "        MorphoMol.Energies.get_prefactors(1.4, 0.3665),\n",
    "        0.0,\n",
    "        0.85\n",
    "        )\n",
    "    println(\"$(split(file, \"_\")[1]) \", 2*E)\n",
    "end"
   ]
  }
 ],
 "metadata": {
  "kernelspec": {
   "display_name": "Julia Oineus 1.10.4",
   "language": "julia",
   "name": "julia-oineus-1.10"
  },
  "language_info": {
   "file_extension": ".jl",
   "mimetype": "application/julia",
   "name": "julia",
   "version": "1.10.4"
  },
  "orig_nbformat": 4
 },
 "nbformat": 4,
 "nbformat_minor": 2
}
