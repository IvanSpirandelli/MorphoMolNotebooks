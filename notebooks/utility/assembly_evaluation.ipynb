{
 "cells": [
  {
   "cell_type": "code",
   "execution_count": 1,
   "metadata": {},
   "outputs": [
    {
     "name": "stderr",
     "output_type": "stream",
     "text": [
      "\u001b[32m\u001b[1m  Activating\u001b[22m\u001b[39m project at `~/Doktor/Code/MorphoMol/MorphoMolNotebooks`\n"
     ]
    }
   ],
   "source": [
    "import Pkg; \n",
    "\n",
    "if split(pwd(),\"/\")[end] == \"utility\"\n",
    "    cd(joinpath(@__DIR__, \"../../\"))\n",
    "    Pkg.activate(\"Project.toml\")\n",
    "end\n",
    "\n",
    "using MorphoMol\n",
    "using StaticArrays\n",
    "using Rotations\n",
    "using Distances\n",
    "using JLD2"
   ]
  },
  {
   "cell_type": "code",
   "execution_count": 17,
   "metadata": {},
   "outputs": [
    {
     "name": "stdout",
     "output_type": "stream",
     "text": [
      "JLD2.InvalidDataException(\"Did not find a Superblock.\")\n",
      "Error in 29_rwm_wip_2_6r7m.jld2\n",
      "JLD2.InvalidDataException(\"Did not find a Superblock.\")\n",
      "Error in 33_rwm_wip_2_6r7m.jld2\n",
      "JLD2.InvalidDataException(\"Did not find a Superblock.\")\n",
      "Error in 61_rwm_wip_2_6r7m.jld2\n",
      "JLD2.InvalidDataException(\"Did not find a Superblock.\")\n",
      "Error in 75_rwm_wip_2_6r7m.jld2\n",
      "JLD2.InvalidDataException(\"Did not find a Superblock.\")\n",
      "Error in 79_rwm_wip_2_6r7m.jld2\n"
     ]
    }
   ],
   "source": [
    "folder = \"../../Data/hpc_out/rwm_wip_2_6r7m/\"\n",
    "mol_type = \"6r7m\"\n",
    "#folder = \"../../Data/collected_simulation_results/rwm_op_2_6r7m/\"\n",
    "\n",
    "id_index = 1\n",
    "separator = \"_\"\n",
    "max = 1\n",
    "for file in readdir(folder)\n",
    "    if split(file, \".\")[end] == \"jld2\"\n",
    "        max = max < parse(Int, split(file, separator)[id_index]) ? parse(Int, split(file, separator)[id_index]) : max\n",
    "    end\n",
    "end\n",
    "\n",
    "acceptance_rates = Vector{Float64}([])\n",
    "min_Es = [Inf for _ in 1:max]\n",
    "evaluation_strings = [\"\" for _ in 1:max]\n",
    "for file in readdir(folder)\n",
    "    if split(file, \".\")[end] == \"jld2\"\n",
    "        try\n",
    "            @load \"$folder$file\" input output\n",
    "            # Crude test to exclude runs that remained dispersed\n",
    "            if maximum(output[\"Es\"]) - minimum(output[\"Es\"]) < 10.0# || input[\"T\"] > 1.5\n",
    "                println(\"E_diff = $(maximum(output[\"Es\"]) - minimum(output[\"Es\"]))\")\n",
    "                continue\n",
    "            end\n",
    "            \n",
    "            id = parse(Int, split(file, separator)[id_index])\n",
    "            exp_template_centers = MorphoMol.Utilities.TWOTMVSU_EXPERIMENTAL_ASSEMBLY[mol_type][\"template_centers\"]\n",
    "            exp_state = MorphoMol.Utilities.TWOTMVSU_EXPERIMENTAL_ASSEMBLY[mol_type][\"state\"]\n",
    "            theta = MorphoMol.Utilities.average_offset_distance(exp_template_centers, input[\"template_centers\"], exp_state, output[\"states\"][argmin(output[\"Es\"])])\n",
    "            string = \"$(id): $(input[\"T\"]) | $(output[\"αs\"][end]) | $(output[\"Es\"][1]), $(minimum(output[\"Es\"])), $(output[\"Es\"][end]) | $(theta)\"\n",
    "            push!(acceptance_rates, output[\"αs\"][end])\n",
    "            evaluation_strings[id] = string\n",
    "            min_Es[id] = minimum(output[\"Es\"])\n",
    "        catch e\n",
    "            println(e)\n",
    "            println(\"Error in $file\")\n",
    "        end\n",
    "    end\n",
    "end"
   ]
  },
  {
   "cell_type": "code",
   "execution_count": 18,
   "metadata": {},
   "outputs": [
    {
     "name": "stdout",
     "output_type": "stream",
     "text": [
      "Minimal configuration id: 13 | Average acceptance rate: 0.20323937834473327\n"
     ]
    }
   ],
   "source": [
    "println(\"Minimal configuration id: $(argmin(min_Es)) | Average acceptance rate: $(sum(acceptance_rates) / length(acceptance_rates))\")"
   ]
  },
  {
   "cell_type": "code",
   "execution_count": 19,
   "metadata": {},
   "outputs": [
    {
     "name": "stdout",
     "output_type": "stream",
     "text": [
      "\n",
      "\n",
      "\n",
      "\n",
      "\n",
      "6: 1.5 | 0.30323434 | 8219.478396659431, 8176.156845673511, 8176.156845673511 | 4.4166541550122975\n",
      "\n",
      "\n",
      "\n",
      "\n",
      "\n",
      "12: 1.5 | 0.5089508 | 8219.388947472613, 8178.256220757711, 8178.572304306344 | 23.794316351374288\n",
      "13: 1.5 | 0.06352829 | 8219.448439055137, 8160.421396014614, 8160.421396014614 | 6.010199297182606\n",
      "14: 1.5 | 0.2751961 | 8219.558326291683, 8176.619341855061, 8184.90244946654 | 21.969989257596012\n",
      "\n",
      "\n",
      "\n",
      "18: 1.5 | 0.12492689 | 8219.548324381907, 8185.954350713405, 8185.954350713405 | 34.147022242277785\n",
      "19: 1.5 | 0.089940585 | 8219.508448255978, 8183.493008756169, 8186.543264864343 | 34.01732075202291\n",
      "20: 1.5 | 0.1389507 | 8219.468469934762, 8173.547228218821, 8173.547228218821 | 8.635654186816504\n",
      "\n",
      "\n",
      "\n",
      "24: 1.5 | 0.090319075 | 8219.5583086449, 8168.365968619133, 8174.332748201366 | 14.408361125846792\n",
      "\n",
      "26: 1.5 | 0.3690562 | 8219.30920037324, 8177.316547684329, 8177.316547684329 | 19.204371465706682\n",
      "27: 1.5 | 0.064120024 | 8219.528328583172, 8180.980799473264, 8181.245015840412 | 31.690270739918653\n",
      "\n",
      "\n",
      "\n",
      "\n",
      "\n",
      "\n",
      "34: 1.5 | 0.03673297 | 8219.150994079335, 8186.018753548937, 8186.579238095 | 41.53757759653415\n",
      "35: 1.5 | 0.42066172 | 8219.528368868452, 8173.415226369672, 8173.415226369672 | 18.421879860273457\n",
      "\n",
      "\n",
      "38: 1.5 | 0.04011877 | 8219.518359368174, 8179.029697369421, 8182.450211380827 | 24.262922365294695\n",
      "\n",
      "40: 1.5 | 0.006416658 | 8218.982434497339, 8181.39970999694, 8191.759637798534 | 48.502006260405786\n",
      "\n",
      "42: 1.5 | 0.10884906 | 8218.951482613607, 8181.537874527698, 8193.499975188675 | 28.209464377062975\n",
      "43: 1.5 | 0.36112425 | 8219.508504588315, 8176.963801589627, 8177.433608065205 | 15.502804284232655\n",
      "\n",
      "45: 1.5 | 0.20179756 | 8219.349959232011, 8177.78117338958, 8186.6374942787825 | 24.29914793984543\n",
      "46: 1.5 | 0.0356702 | 8219.319110962642, 8176.302033717465, 8180.837450613022 | 31.41771810515403\n",
      "\n",
      "\n",
      "\n",
      "50: 1.5 | 0.058662996 | 8219.190558432812, 8176.515429185199, 8177.407588138633 | 36.71164329452524\n",
      "51: 1.5 | 0.12854166 | 8219.249181621337, 8169.129505835733, 8169.129505835733 | 27.081779433490638\n",
      "\n",
      "\n",
      "54: 1.5 | 0.004492833 | 8218.421402937509, 8172.039178846605, 8172.039178846605 | 23.82151159663505\n",
      "\n",
      "\n",
      "57: 1.5 | 0.100917846 | 8217.874983090218, 8179.490606202618, 8186.440909555208 | 20.964083601854913\n",
      "\n",
      "\n",
      "\n",
      "\n",
      "\n",
      "\n",
      "\n",
      "65: 1.5 | 0.0712451 | 8218.912329584933, 8188.8708995333745, 8199.868298993728 | 39.72073212357651\n",
      "\n",
      "\n",
      "\n",
      "\n",
      "70: 1.5 | 0.1385693 | 8219.40852833291, 8178.246951208806, 8182.652660750105 | 37.887826193313714\n",
      "\n",
      "\n",
      "73: 1.5 | 0.1383261 | 8219.508341408462, 8180.176947729753, 8181.00826956997 | 20.37189233272972\n",
      "74: 1.5 | 0.16809623 | 8219.408678330385, 8185.173206312584, 8186.595354371123 | 24.635221808480022\n",
      "\n",
      "76: 1.5 | 0.017146137 | 8218.692184033916, 8179.344015571567, 8184.345390427269 | 32.03289607862056\n",
      "\n",
      "\n",
      "\n",
      "80: 1.5 | 0.7046358 | 8219.48878164529, 8171.77297111856, 8180.139942406537 | 7.101459583628879\n",
      "\n",
      "\n",
      "\n",
      "\n",
      "85: 1.5 | 0.2206698 | 8219.438619782091, 8177.797741982068, 8193.440236485638 | 27.771233967210218\n",
      "86: 1.5 | 0.12425249 | 8219.488435993831, 8175.075653268661, 8176.061431400278 | 18.118475627699578\n",
      "87: 1.5 | 0.14697056 | 8219.518333646834, 8168.411241008158, 8174.584653380522 | 7.127958348526242\n",
      "\n",
      "89: 1.5 | 0.21982354 | 8218.951025482715, 8178.616450728802, 8184.1713165626725 | 22.68935243287266\n",
      "\n",
      "91: 1.5 | 0.12759238 | 8219.428491634842, 8177.033525423862, 8177.033525423862 | 16.887518916167203\n",
      "\n",
      "\n",
      "94: 1.5 | 0.5037882 | 8219.299840620632, 8168.590239202057, 8170.882088475952 | 27.602119619998717\n",
      "95: 1.5 | 0.3699726 | 8219.508393419557, 8186.192883206483, 8186.192883206483 | 40.57020473426685\n",
      "96: 1.5 | 0.9417426 | 8219.468480460222, 8199.290635182537, 8219.518417387608 | 35.193560190745465\n",
      "97: 1.5 | 0.34181753 | 8219.229791202246, 8183.324928749924, 8189.763181539493 | 27.968613054857745\n",
      "98: 1.5 | 0.24326167 | 8219.478666452216, 8178.984651081555, 8186.49718480804 | 18.79391533744388\n",
      "99: 1.5 | 0.035163354 | 8218.825207807049, 8181.675140054585, 8181.675140054585 | 21.06374078620582\n",
      "100: 1.5 | 0.08429224 | 8219.488782320952, 8174.817334433391, 8174.817334433391 | 18.459528506773978\n"
     ]
    }
   ],
   "source": [
    "for elem in evaluation_strings\n",
    "    println(elem)\n",
    "end"
   ]
  },
  {
   "cell_type": "code",
   "execution_count": 48,
   "metadata": {},
   "outputs": [
    {
     "name": "stdout",
     "output_type": "stream",
     "text": [
      "JLD2.InvalidDataException(\"Did not find a Superblock.\")\n",
      "JLD2.InvalidDataException(\"Did not find a Superblock.\")\n",
      "JLD2.InvalidDataException(\"Did not find a Superblock.\")\n"
     ]
    }
   ],
   "source": [
    "for file in readdir(folder)\n",
    "    try\n",
    "        @load \"$folder$file\" input output\n",
    "        mindex = argmin(output[\"Es\"])\n",
    "        state = output[\"states\"][mindex]\n",
    "        id = parse(Int, split(file, \"_\")[id_index])\n",
    "        radii = collect(Base.Iterators.flatten([input[\"template_radii\"] for _ in 1:input[\"n_mol\"]]))\n",
    "        MorphoMol.Utilities.state_to_poly(MorphoMol.Utilities.get_flat_realization(state, input[\"template_centers\"]), radii, \"$(folder)$(id)\", input[\"n_mol\"], length(input[\"template_radii\"]))\n",
    "    catch e\n",
    "        println(e)\n",
    "        continue\n",
    "    end\n",
    "end"
   ]
  },
  {
   "cell_type": "markdown",
   "metadata": {},
   "source": [
    "# Print Single Assembly Path"
   ]
  },
  {
   "cell_type": "code",
   "execution_count": 54,
   "metadata": {},
   "outputs": [
    {
     "data": {
      "text/plain": [
       "2-element Vector{Symbol}:\n",
       " :input\n",
       " :output"
      ]
     },
     "execution_count": 54,
     "metadata": {},
     "output_type": "execute_result"
    }
   ],
   "source": [
    "@load \"../../Data/hpc_out/rwm_wip_2_6r7m/79_rwm_wip_2_6r7m.jld2\" input output\n"
   ]
  },
  {
   "cell_type": "code",
   "execution_count": 55,
   "metadata": {},
   "outputs": [],
   "source": [
    "mindex = argmin(output[\"Es\"])\n",
    "lower = 500\n",
    "upper = 100\n",
    "out_folder = \"../../Data/tmp/assembly_path/\"\n",
    "try\n",
    "    rm(out_folder, recursive=true)\n",
    "catch \n",
    "end\n",
    "mkdir(out_folder)\n",
    "radii = collect(Base.Iterators.flatten([input[\"template_radii\"] for _ in 1:input[\"n_mol\"]]))\n",
    "for (i,j) in enumerate(maximum([mindex-lower,1]):minimum([mindex+upper, length(output[\"Es\"])]))\n",
    "    state = output[\"states\"][j]\n",
    "    MorphoMol.Utilities.state_to_poly(MorphoMol.Utilities.get_flat_realization(state, input[\"template_centers\"]), radii, \"$(out_folder)$(i)\", input[\"n_mol\"], length(input[\"template_radii\"]))\n",
    "end\n",
    "\n"
   ]
  },
  {
   "cell_type": "markdown",
   "metadata": {},
   "source": [
    "# Dispersed State Energies"
   ]
  },
  {
   "cell_type": "code",
   "execution_count": 19,
   "metadata": {},
   "outputs": [
    {
     "name": "stdout",
     "output_type": "stream",
     "text": [
      "1ei7 8255.3356279267\n",
      "2tmv 8130.426867538925\n",
      "6r7m 8219.578304239454\n",
      "6sae 8185.217724310747\n",
      "6sag 8174.157936120334\n"
     ]
    }
   ],
   "source": [
    "folder = \"assets/input/poly/singles/\"\n",
    "for file in readdir(folder)\n",
    "    c,r = MorphoMol.Utilities.poly_to_state(\"$folder$file\")\n",
    "    E = MorphoMol.Energies.solvation_free_energy(\n",
    "        c, \n",
    "        length(r),\n",
    "        r,\n",
    "        1.4,\n",
    "        MorphoMol.Energies.get_prefactors(1.4, 0.3665),\n",
    "        0.0,\n",
    "        0.85\n",
    "        )\n",
    "    println(\"$(split(file, \"_\")[1]) \", 2*E)\n",
    "end"
   ]
  }
 ],
 "metadata": {
  "kernelspec": {
   "display_name": "Julia Oineus 1.10.4",
   "language": "julia",
   "name": "julia-oineus-1.10"
  },
  "language_info": {
   "file_extension": ".jl",
   "mimetype": "application/julia",
   "name": "julia",
   "version": "1.10.4"
  },
  "orig_nbformat": 4
 },
 "nbformat": 4,
 "nbformat_minor": 2
}
