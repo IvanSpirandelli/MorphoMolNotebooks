{
 "cells": [
  {
   "cell_type": "code",
   "execution_count": 1,
   "metadata": {},
   "outputs": [
    {
     "name": "stderr",
     "output_type": "stream",
     "text": [
      "\u001b[32m\u001b[1m  Activating\u001b[22m\u001b[39m project at `~/Doktor/Code/MorphoMol/MorphoMolNotebooks`\n"
     ]
    }
   ],
   "source": [
    "import Pkg; \n",
    "\n",
    "if split(pwd(),\"/\")[end] == \"utility\"\n",
    "    cd(joinpath(@__DIR__, \"../../\"))\n",
    "    Pkg.activate(\"Project.toml\")\n",
    "end\n",
    "\n",
    "using MorphoMol\n",
    "using StaticArrays\n",
    "using Rotations\n",
    "using Distances\n",
    "using JLD2"
   ]
  },
  {
   "cell_type": "code",
   "execution_count": 2,
   "metadata": {},
   "outputs": [
    {
     "name": "stdout",
     "output_type": "stream",
     "text": [
      "Error in 45_rwm_wip_2_6r7m.jld2\n"
     ]
    }
   ],
   "source": [
    "folder = \"../../Data/hpc_out/rwm_wip_2_6r7m/\"\n",
    "mol_type = \"6r7m\"\n",
    "#folder = \"../../Data/collected_simulation_results/rwm_wp_2_6r7m/\"\n",
    "\n",
    "id_index = 1\n",
    "separator = \"_\"\n",
    "max = 1\n",
    "for file in readdir(folder)\n",
    "    if split(file, \".\")[end] == \"jld2\"\n",
    "        max = max < parse(Int, split(file, separator)[id_index]) ? parse(Int, split(file, separator)[id_index]) : max\n",
    "    end\n",
    "end\n",
    "\n",
    "min_Es = [Inf for _ in 1:max]\n",
    "evaluation_strings = [\"\" for _ in 1:max]\n",
    "for file in readdir(folder)\n",
    "    if split(file, \".\")[end] == \"jld2\"\n",
    "        try\n",
    "            @load \"$folder$file\" input output\n",
    "            id = parse(Int, split(file, separator)[id_index])\n",
    "            exp_template_centers = MorphoMol.Utilities.TWOTMVSU_EXPERIMENTAL_ASSEMBLY[mol_type][\"template_centers\"]\n",
    "            exp_state = MorphoMol.Utilities.TWOTMVSU_EXPERIMENTAL_ASSEMBLY[mol_type][\"state\"]\n",
    "            theta = MorphoMol.Utilities.average_offset_distance(exp_template_centers, input[\"template_centers\"], exp_state, output[\"states\"][argmin(output[\"Es\"])])\n",
    "            string = \"$(id): $(input[\"T\"]) | $(output[\"αs\"][end]) | $(output[\"Es\"][1]), $(minimum(output[\"Es\"])), $(output[\"Es\"][end]) | $(theta)\"\n",
    "            evaluation_strings[id] = string\n",
    "            min_Es[id] = minimum(output[\"Es\"])\n",
    "        catch e\n",
    "            println(\"Error in $file\")\n",
    "        end\n",
    "    end\n",
    "end"
   ]
  },
  {
   "cell_type": "code",
   "execution_count": 4,
   "metadata": {},
   "outputs": [
    {
     "data": {
      "text/plain": [
       "37"
      ]
     },
     "execution_count": 4,
     "metadata": {},
     "output_type": "execute_result"
    }
   ],
   "source": [
    "argmin(min_Es)"
   ]
  },
  {
   "cell_type": "code",
   "execution_count": 5,
   "metadata": {},
   "outputs": [
    {
     "name": "stdout",
     "output_type": "stream",
     "text": [
      "\n",
      "2: 2.5 | 0.0615239 | 8167.740043099553, 8033.951283430558, 8033.951283430558 | 30.440251705183528\n",
      "3: 2.5 | 0.034963768 | 8149.489619615257, 8031.353001035705, 8031.353001035705 | 28.53389852849882\n",
      "4: 2.5 | 0.024230108 | 8159.969944462297, 8055.90730642551, 8069.134295755852 | 37.09565786678185\n",
      "5: 2.5 | 0.10775669 | 8129.668027120584, 8083.068484558059, 8094.249539752909 | 104.6314116220699\n",
      "6: 2.5 | 0.011034184 | 8105.645860366124, 8027.557741383568, 8031.718704402193 | 16.85968036630731\n",
      "7: 2.5 | 0.06133916 | 8164.211600952591, 8025.144351990336, 8028.896940737338 | 43.24335143215215\n",
      "8: 2.5 | 0.13020678 | 8145.622537955674, 8081.923615353447, 8094.521791219532 | 71.730130070915\n",
      "9: 2.5 | 0.13046098 | 8153.222028554101, 8051.207534799093, 8056.381825394533 | 28.948380733066642\n",
      "10: 2.5 | 0.05657345 | 8133.964137121024, 8045.5321042748665, 8052.607445699947 | 22.85539980667812\n",
      "11: 2.5 | 0.10377496 | 8167.832205824971, 8079.311346012141, 8099.8814393284265 | 104.75657306630225\n",
      "12: 2.5 | 0.011305518 | 8103.847065644843, 8038.3675712528075, 8042.910965975615 | 24.60694156498852\n",
      "13: 2.5 | 0.12799652 | 8142.63391774305, 8085.552798302612, 8100.378011384162 | 105.92053566364977\n",
      "\n",
      "15: 2.5 | 0.027068438 | 8082.604606375459, 8027.801027390274, 8028.651453071909 | 16.1181668784947\n",
      "16: 2.5 | 0.10875 | 8152.6016676619, 8056.9891361774435, 8058.3305765986015 | 49.96537125787764\n",
      "17: 2.5 | 0.12378247 | 8134.395580204753, 8087.571023014333, 8099.430755418953 | 67.60939348101085\n",
      "18: 2.5 | 0.033014353 | 8070.097706943364, 8042.438465176122, 8042.438465176122 | 35.96839322663465\n",
      "19: 2.5 | 0.05742972 | 8120.4042502291995, 8081.343581674939, 8096.302240286207 | 118.4552254857133\n",
      "20: 2.5 | 0.12443532 | 8129.83125402089, 8079.1818882500165, 8089.611570564784 | 65.30215391511553\n",
      "21: 2.5 | 0.12072434 | 8157.511423162817, 8093.842966400989, 8093.850094829908 | 129.139828850853\n",
      "22: 2.5 | 0.01590106 | 8075.730464974518, 8038.353506400077, 8038.353506400077 | 20.15548781260025\n",
      "23: 2.5 | 0.052676294 | 8152.238101594613, 8048.131735752513, 8048.131735752513 | 44.55373238586407\n",
      "24: 2.5 | 0.032776874 | 8162.807919797308, 8072.565046455016, 8075.035158592161 | 83.70568655329483\n",
      "25: 2.5 | 0.045618705 | 8145.9864442489115, 8056.076547748436, 8056.076547748436 | 40.783726106784506\n",
      "26: 2.5 | 0.08609272 | 8147.07882623271, 8084.92707348118, 8086.472702634679 | 90.42073844324307\n",
      "27: 2.5 | 0.089340836 | 8166.14334456337, 8086.887611888685, 8105.597213905292 | 89.63275605731562\n",
      "28: 2.5 | 0.015698588 | 8150.167770348895, 8040.11600622669, 8049.293015277876 | 41.558609885613336\n",
      "29: 2.5 | 0.030865442 | 8154.764129510089, 8044.650758788565, 8044.650758788565 | 36.20405663435059\n",
      "30: 2.5 | 0.020476544 | 8132.611149892361, 8061.405771717967, 8063.2482715091655 | 43.907470503991235\n",
      "31: 2.5 | 0.03 | 8129.147749214764, 8033.156657313764, 8041.298195295475 | 13.202811602291215\n",
      "32: 2.5 | 0.1053398 | 8140.652542599709, 8034.569026988185, 8034.569026988185 | 26.10411588620928\n",
      "33: 2.5 | 0.02103982 | 8132.56961331914, 8059.841604000646, 8063.926864964675 | 38.98605506262336\n",
      "34: 2.5 | 0.029170465 | 8134.233727566615, 8042.4514863606555, 8054.310684241301 | 51.507775315962874\n",
      "35: 2.5 | 0.07135531 | 8129.005940583809, 8085.23914438166, 8100.837674629357 | 128.4006704649867\n",
      "36: 2.5 | 0.09612278 | 8141.241474602151, 8083.617734787749, 8089.338398328691 | 74.79855748631768\n",
      "37: 2.5 | 0.026885245 | 8128.386557239268, 8003.832418342152, 8003.832418342152 | 17.760514533422587\n",
      "38: 2.5 | 0.10740265 | 8136.81740921482, 8048.278748965985, 8053.429996607472 | 29.92916125475266\n",
      "39: 2.5 | 0.04051079 | 8134.306659340342, 8055.001115907505, 8065.266397027767 | 37.680706153676994\n",
      "40: 2.5 | 0.052497882 | 8170.5261248665665, 8049.055729026136, 8049.055729026136 | 44.6826458702941\n",
      "41: 2.5 | 0.032272726 | 8138.3677923284895, 8050.5739709196605, 8056.94268708932 | 46.420627383800976\n",
      "42: 2.5 | 0.02112069 | 8113.864637222603, 8046.468749157053, 8051.402550510421 | 27.0364002563661\n",
      "43: 2.5 | 0.034139402 | 8109.619452924324, 8049.080241602808, 8050.716045383279 | 42.75375736685355\n",
      "\n",
      "\n"
     ]
    }
   ],
   "source": [
    "for elem in evaluation_strings\n",
    "    println(elem)\n",
    "end"
   ]
  },
  {
   "cell_type": "code",
   "execution_count": 6,
   "metadata": {},
   "outputs": [],
   "source": [
    "for file in readdir(folder)\n",
    "    try\n",
    "        @load \"$folder$file\" input output\n",
    "        mindex = argmin(output[\"Es\"])\n",
    "        state = output[\"states\"][mindex]\n",
    "        id = parse(Int, split(file, \"_\")[id_index])\n",
    "        radii = collect(Base.Iterators.flatten([input[\"template_radii\"] for _ in 1:input[\"n_mol\"]]))\n",
    "        MorphoMol.Utilities.state_to_poly(MorphoMol.Utilities.get_flat_realization(state, input[\"template_centers\"]), radii, \"$(folder)$(id)\", input[\"n_mol\"], length(input[\"template_radii\"]))\n",
    "    catch e\n",
    "        println(e)\n",
    "        continue\n",
    "    end\n",
    "end"
   ]
  },
  {
   "cell_type": "markdown",
   "metadata": {},
   "source": [
    "# Print Single Assembly Path"
   ]
  },
  {
   "cell_type": "code",
   "execution_count": 34,
   "metadata": {},
   "outputs": [
    {
     "data": {
      "text/plain": [
       "2-element Vector{Symbol}:\n",
       " :input\n",
       " :output"
      ]
     },
     "execution_count": 34,
     "metadata": {},
     "output_type": "execute_result"
    }
   ],
   "source": [
    "@load \"../../Data/hpc_out/rwm_op_3_6r7m/5_rwm_op_3_6r7m.jld2\" input output\n"
   ]
  },
  {
   "cell_type": "code",
   "execution_count": 35,
   "metadata": {},
   "outputs": [
    {
     "data": {
      "text/plain": [
       "3×1206 Matrix{Float64}:\n",
       " -27.8796   -26.6674   -26.5597   …  -31.3903   -31.5191   -32.6934\n",
       "   9.063      9.54921    9.03875       8.50467    8.25724    9.091\n",
       "  -4.79258   -4.1493    -2.71995      -1.62113   -0.2168    -2.14403"
      ]
     },
     "execution_count": 35,
     "metadata": {},
     "output_type": "execute_result"
    }
   ],
   "source": [
    "input[\"template_centers\"]"
   ]
  },
  {
   "cell_type": "code",
   "execution_count": 36,
   "metadata": {},
   "outputs": [],
   "source": [
    "mindex = argmin(output[\"Es\"])\n",
    "lower = 500\n",
    "upper = 100\n",
    "out_folder = \"../../Data/tmp/assembly_path/\"\n",
    "try\n",
    "    rm(out_folder, recursive=true)\n",
    "catch \n",
    "end\n",
    "mkdir(out_folder)\n",
    "radii = collect(Base.Iterators.flatten([input[\"template_radii\"] for _ in 1:input[\"n_mol\"]]))\n",
    "for (i,j) in enumerate(maximum([mindex-lower,1]):minimum([mindex+upper, length(output[\"Es\"])]))\n",
    "    state = output[\"states\"][j]\n",
    "    MorphoMol.Utilities.state_to_poly(MorphoMol.Utilities.get_flat_realization(state, input[\"template_centers\"]), radii, \"$(out_folder)$(i)\", input[\"n_mol\"], length(input[\"template_radii\"]))\n",
    "end\n",
    "\n"
   ]
  },
  {
   "cell_type": "markdown",
   "metadata": {},
   "source": [
    "# Dispersed State Energies"
   ]
  },
  {
   "cell_type": "code",
   "execution_count": 19,
   "metadata": {},
   "outputs": [
    {
     "name": "stdout",
     "output_type": "stream",
     "text": [
      "1ei7 8255.3356279267\n",
      "2tmv 8130.426867538925\n",
      "6r7m 8219.578304239454\n",
      "6sae 8185.217724310747\n",
      "6sag 8174.157936120334\n"
     ]
    }
   ],
   "source": [
    "folder = \"assets/input/poly/singles/\"\n",
    "for file in readdir(folder)\n",
    "    c,r = MorphoMol.Utilities.poly_to_state(\"$folder$file\")\n",
    "    E = MorphoMol.Energies.solvation_free_energy(\n",
    "        c, \n",
    "        length(r),\n",
    "        r,\n",
    "        1.4,\n",
    "        MorphoMol.Energies.get_prefactors(1.4, 0.3665),\n",
    "        0.0,\n",
    "        0.85\n",
    "        )\n",
    "    println(\"$(split(file, \"_\")[1]) \", 2*E)\n",
    "end"
   ]
  }
 ],
 "metadata": {
  "kernelspec": {
   "display_name": "Julia Oineus 1.10.4",
   "language": "julia",
   "name": "julia-oineus-1.10"
  },
  "language_info": {
   "file_extension": ".jl",
   "mimetype": "application/julia",
   "name": "julia",
   "version": "1.10.4"
  },
  "orig_nbformat": 4
 },
 "nbformat": 4,
 "nbformat_minor": 2
}
