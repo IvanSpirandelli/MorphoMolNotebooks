{
 "cells": [
  {
   "cell_type": "code",
   "execution_count": 1,
   "metadata": {},
   "outputs": [
    {
     "name": "stderr",
     "output_type": "stream",
     "text": [
      "\u001b[32m\u001b[1m  Activating\u001b[22m\u001b[39m project at `~/Doktor/Code/MorphoMol/MorphoMolNotebooks`\n"
     ]
    }
   ],
   "source": [
    "import Pkg; \n",
    "\n",
    "if split(pwd(),\"/\")[end] == \"utility\"\n",
    "    cd(joinpath(@__DIR__, \"../../\"))\n",
    "    Pkg.activate(\"Project.toml\")\n",
    "end\n",
    "\n",
    "using MorphoMol\n",
    "using MorphoMolNotebooks\n",
    "using StaticArrays\n",
    "using Rotations\n",
    "using Distances\n",
    "using JLD2"
   ]
  },
  {
   "cell_type": "code",
   "execution_count": 2,
   "metadata": {},
   "outputs": [],
   "source": [
    "#MorphoMolNotebooks.get_low_energy_and_theta_states(\"../../Data/hpc_out/op/3_6r7m/1/\", \"6r7m\")\n",
    "#@load \"../../Data/hpc_out/rwm_ma_3_6r7m/7_rwm_ma_3_6r7m.jld2\" input output\n",
    "#minimum(get_theta(input, output))"
   ]
  },
  {
   "cell_type": "code",
   "execution_count": 7,
   "metadata": {},
   "outputs": [
    {
     "name": "stdout",
     "output_type": "stream",
     "text": [
      "EOFError()\n",
      "Error in 97_rwm_ma_3_6r7m.jld2\n",
      "Minimal energy configuration id: 71 | Average acceptance rate: 0.23887632626362823\n",
      "Minimal theta configuration id: 42\n",
      "1: 2.9 | 1.1 |0.19155139 | 13030.830395685785 | 15.967560943242932\n",
      "2: 2.9 | 1.1 |0.15895095 | 13032.263629457286 | 8.44236917789734\n",
      "3: 2.9 | 1.1 |0.029697675 | 13029.180464521218 | 13.857639492516634\n",
      "4: 2.9 | 1.1 |0.1697277 | 13048.672851466637 | 14.622920551974067\n",
      "5: 2.9 | 1.1 |0.24250509 | 13034.961285006535 | 18.85354612722097\n",
      "6: 2.9 | 1.1 |0.22821528 | 13032.295736229715 | 21.020617631746486\n",
      "7: 2.9 | 1.1 |0.120871685 | 13048.18297503137 | 14.693780824925666\n",
      "8: 2.9 | 1.1 |0.06776636 | 13047.822014961106 | 15.42945241137298\n",
      "9: 2.9 | 1.1 |0.07079614 | 13033.02396864025 | 19.051691560554193\n",
      "10: 2.9 | 1.1 |0.29623872 | 13049.664298633132 | 24.360744971693805\n",
      "11: 2.9 | 1.1 |0.07663321 | 13018.363992695315 | 14.38754003009484\n",
      "12: 2.9 | 1.1 |0.37458563 | 13050.21231464174 | 20.8433024751557\n",
      "13: 2.9 | 1.1 |0.11302352 | 13039.1435302021 | 10.976246419418805\n",
      "14: 2.9 | 1.1 |0.4604365 | 13075.589669224895 | 25.165160004904248\n",
      "15: 2.9 | 1.1 |0.15982951 | 13028.848479816574 | 19.769138912201104\n",
      "16: 2.9 | 1.1 |0.22148637 | 13062.914040991742 | 22.53180311311604\n",
      "17: 2.9 | 1.1 |0.33688977 | 13073.574831896138 | 29.46124737538219\n",
      "18: 2.9 | 1.1 |0.38066867 | 13090.618687191187 | 70.46893775016686\n",
      "19: 2.9 | 1.1 |0.1067239 | 13050.387254999714 | 20.65330005531418\n",
      "20: 2.9 | 1.1 |0.13584588 | 13036.914679015697 | 15.188218522638342\n",
      "21: 2.9 | 1.1 |0.47833803 | 13055.583574284601 | 18.79914662291043\n",
      "22: 2.9 | 1.1 |0.49840447 | 13066.651852250465 | 19.765572080758385\n",
      "23: 2.9 | 1.1 |0.053518653 | 13023.136456444665 | 11.530406813452386\n",
      "24: 2.9 | 1.1 |0.58075386 | 13082.272797903508 | 22.061238830611146\n",
      "25: 2.9 | 1.1 |0.43092808 | 13052.03435697537 | 13.030977391341429\n",
      "26: 2.9 | 1.1 |0.18535434 | 13046.067604184946 | 13.363334639863437\n",
      "27: 2.9 | 1.1 |0.41433486 | 13045.744077488373 | 16.157383163459304\n",
      "28: 2.9 | 1.1 |0.2606341 | 13031.926602209869 | 20.13509339813892\n",
      "29: 2.9 | 1.1 |0.12987044 | 13024.5473335282 | 14.291408870387627\n",
      "30: 2.9 | 1.1 |0.5203678 | 13088.420569020127 | 58.70524462150478\n",
      "31: 2.9 | 1.1 |0.40076506 | 13084.2622237092 | 58.90560157165047\n",
      "32: 2.9 | 1.1 |0.23053715 | 13067.94241026472 | 26.15211934483\n",
      "33: 2.9 | 1.1 |0.27638495 | 13035.775234987965 | 15.085405282334477\n",
      "34: 2.9 | 1.1 |0.300137 | 13061.24915822793 | 14.510994373361859\n",
      "35: 2.9 | 1.1 |0.031266686 | 13037.805310242033 | 20.74880974867097\n",
      "36: 2.9 | 1.1 |0.08675973 | 13030.383158290744 | 15.183132368700754\n",
      "37: 2.9 | 1.1 |0.30093887 | 13058.106201949366 | 16.86325570345629\n",
      "38: 2.9 | 1.1 |0.28373188 | 13013.588137482506 | 10.952867747576848\n",
      "39: 2.9 | 1.1 |0.22626784 | 13029.722090247378 | 8.897532055970359\n",
      "40: 2.9 | 1.1 |0.37623128 | 13048.467195476655 | 8.038622095726774\n",
      "41: 2.9 | 1.1 |0.21032184 | 13056.171667673556 | 23.435579098978877\n",
      "42: 2.9 | 1.1 |0.06520965 | 13006.79527590857 | 5.293499074530538\n",
      "43: 2.9 | 1.1 |0.1180582 | 13029.842819294428 | 18.360167831655048\n",
      "44: 2.9 | 1.1 |0.16035168 | 13035.372902611509 | 14.119263000514623\n",
      "45: 2.9 | 1.1 |0.2260655 | 13053.180181702945 | 14.59972600512775\n",
      "46: 2.9 | 1.1 |0.36025256 | 13044.857372228465 | 22.422013559293987\n",
      "47: 2.9 | 1.1 |0.32780543 | 13060.69936353988 | 16.25185465572441\n",
      "48: 2.9 | 1.1 |0.3202603 | 13073.882928222734 | 18.229566726712147\n",
      "49: 2.9 | 1.1 |0.29094505 | 13046.486277119018 | 15.031582993200383\n",
      "50: 2.9 | 1.1 |0.12055823 | 13042.414957215355 | 24.342823675526763\n",
      "51: 2.9 | 1.1 |0.0058847116 | 13035.91826546903 | 8.207457667264231\n",
      "52: 2.9 | 1.1 |0.5361563 | 13072.819462195888 | 23.75567794032413\n",
      "53: 2.9 | 1.1 |0.20140108 | 13032.374713683736 | 12.768502748321561\n",
      "54: 2.9 | 1.1 |0.09930023 | 13038.455786634766 | 14.159081427668497\n",
      "55: 2.9 | 1.1 |0.09128362 | 13029.521750107295 | 10.618818371821934\n",
      "56: 2.9 | 1.1 |0.14228296 | 13036.003262307173 | 10.9756187650627\n",
      "57: 2.9 | 1.1 |0.4643018 | 13062.211788415141 | 18.93375110113779\n",
      "58: 2.9 | 1.1 |0.6304703 | 13080.352718983919 | 21.54447777976998\n",
      "59: 2.9 | 1.1 |0.04659072 | 13038.426027436271 | 14.421834173929705\n",
      "60: 2.9 | 1.1 |0.11764053 | 13023.81316246123 | 12.016358463730628\n",
      "61: 2.9 | 1.1 |0.2825473 | 13039.970092091258 | 15.388888708814624\n",
      "62: 2.9 | 1.1 |0.14385438 | 13041.74832974875 | 17.979322970088706\n",
      "63: 2.9 | 1.1 |0.16898751 | 13022.033469214048 | 17.60619532493941\n",
      "64: 2.9 | 1.1 |0.445904 | 13105.324325097708 | 75.95321953610456\n",
      "65: 2.9 | 1.1 |0.24827151 | 13058.23234106366 | 23.370074254662068\n",
      "66: 2.9 | 1.1 |0.114841744 | 13027.256526301908 | 7.618858183034116\n",
      "67: 2.9 | 1.1 |0.28272375 | 13057.161352604491 | 26.9044854098973\n",
      "68: 2.9 | 1.1 |0.27317524 | 13036.24020846085 | 9.215545105015666\n",
      "69: 2.9 | 1.1 |0.24824896 | 13057.368453384586 | 18.996765932160447\n",
      "70: 2.9 | 1.1 |0.14503345 | 13052.307255426871 | 20.860741768374588\n",
      "71: 2.9 | 1.1 |0.14094596 | 12989.454057846799 | 6.161811368513998\n",
      "72: 2.9 | 1.1 |0.2686936 | 13011.23370232028 | 16.06009148942551\n",
      "73: 2.9 | 1.1 |0.22216946 | 13055.028541106558 | 15.615210658516949\n",
      "74: 2.9 | 1.1 |0.12920068 | 13024.626376711449 | 12.932508469868376\n",
      "75: 2.9 | 1.1 |0.3020849 | 13040.19387324939 | 16.56617041712426\n",
      "76: 2.9 | 1.1 |0.27954108 | 13052.031643615392 | 21.833755880191063\n",
      "77: 2.9 | 1.1 |0.10967858 | 13046.349768595435 | 13.333530777180322\n",
      "78: 2.9 | 1.1 |0.17133932 | 13038.997079339104 | 11.397385775125022\n",
      "79: 2.9 | 1.1 |0.11253034 | 13019.771882320441 | 6.153205494213187\n",
      "80: 2.9 | 1.1 |0.13675666 | 13037.59743341604 | 24.053639305214535\n",
      "81: 2.9 | 1.1 |0.20269936 | 13054.895665313445 | 18.59123947578722\n",
      "82: 2.9 | 1.1 |0.27881542 | 13038.273275081352 | 17.307209872550334\n",
      "83: 2.9 | 1.1 |0.32659712 | 13044.850218240932 | 8.447380924217077\n",
      "84: 2.9 | 1.1 |0.19879623 | 13057.254200414416 | 18.73617464674534\n",
      "85: 2.9 | 1.1 |0.56329787 | 13083.72327163333 | 19.449088319880307\n",
      "86: 2.9 | 1.1 |0.30573845 | 13049.527667417751 | 26.585020132633346\n",
      "87: 2.9 | 1.1 |0.11564746 | 13048.362978548364 | 15.362324326492605\n",
      "88: 2.9 | 1.1 |0.24869558 | 13026.760849242799 | 13.355894348835369\n",
      "89: 2.9 | 1.1 |0.25609416 | 13049.151994512185 | 19.706291309084524\n",
      "90: 2.9 | 1.1 |0.6508326 | 13078.291511094769 | 21.98051822373189\n",
      "91: 2.9 | 1.1 |0.46934983 | 13045.90948556428 | 13.270692024482074\n",
      "92: 2.9 | 1.1 |0.11953259 | 13032.474887126504 | 13.169846904172715\n",
      "93: 2.9 | 1.1 |0.2654279 | 13059.106458098977 | 21.727874934281875\n",
      "94: 2.9 | 1.1 |0.082275696 | 13051.324368493657 | 12.803454835665102\n",
      "95: 2.9 | 1.1 |0.023022566 | 13030.378005335242 | 17.237667184917115\n",
      "96: 2.9 | 1.1 |0.25404108 | 13062.93464688442 | 22.945501591110826\n",
      "\n",
      "98: 2.9 | 1.1 |0.23048618 | 13042.910142166773 | 20.648200939883317\n",
      "99: 2.9 | 1.1 |0.15501629 | 13032.263350560954 | 15.130258954096705\n",
      "100: 2.9 | 1.1 |0.13275182 | 13034.561415895134 | 16.441446172435533\n"
     ]
    }
   ],
   "source": [
    "mol_type = \"6r7m\"\n",
    "algo = \"rwm\"\n",
    "energy = \"ma\"\n",
    "n_mol = 3\n",
    "folder = \"../../Data/hpc_out/$energy/$(n_mol)_$(mol_type)/1/\"\n",
    "#folder = \"../../Data/hpc_out/$(algo)_$(energy)_$(n_mol)_$(mol_type)/\"\n",
    "\n",
    "id_index = 1\n",
    "separator = \"_\"\n",
    "max = 1\n",
    "for file in readdir(folder)\n",
    "    if split(file, \".\")[end] == \"jld2\"\n",
    "        max = max < parse(Int, split(file, separator)[id_index]) ? parse(Int, split(file, separator)[id_index]) : max\n",
    "    end\n",
    "end\n",
    "\n",
    "acceptance_rates = Vector{Float64}([])\n",
    "min_Es = [Inf for _ in 1:max]\n",
    "thetas = [Inf for _ in 1:max]\n",
    "evaluation_strings = [\"\" for _ in 1:max]\n",
    "for file in readdir(folder)\n",
    "    if split(file, \".\")[end] == \"jld2\"\n",
    "        try\n",
    "            @load \"$folder$file\" input output\n",
    "            # Crude test to exclude runs that remained dispersed\n",
    "            if maximum(output[\"Es\"]) - minimum(output[\"Es\"]) < 10.0# || input[\"T\"] > 1.5\n",
    "                println(\"E_diff = $(maximum(output[\"Es\"]) - minimum(output[\"Es\"]))\")\n",
    "                continue\n",
    "            end\n",
    "\n",
    "            id = parse(Int, split(file, separator)[id_index])\n",
    "            theta = MorphoMolNotebooks.get_theta(input, output)\n",
    "            string = \"$(id): $(input[\"T\"]) |$(output[\"αs\"][end]) | $(minimum(output[\"Es\"])) | $(theta)\"\n",
    "\n",
    "            push!(acceptance_rates, output[\"αs\"][end])\n",
    "            evaluation_strings[id] = string\n",
    "            min_Es[id] = minimum(output[\"Es\"])\n",
    "            thetas[id] = theta\n",
    "        catch e\n",
    "            println(e)\n",
    "            println(\"Error in $file\")\n",
    "        end\n",
    "    end\n",
    "end\n",
    "println(\"Minimal energy configuration id: $(argmin(min_Es)) | Average acceptance rate: $(sum(acceptance_rates) / length(acceptance_rates))\")\n",
    "println(\"Minimal theta configuration id: $(argmin(thetas))\")\n",
    "for elem in evaluation_strings\n",
    "    println(elem)\n",
    "end"
   ]
  },
  {
   "cell_type": "code",
   "execution_count": 6,
   "metadata": {},
   "outputs": [
    {
     "name": "stdout",
     "output_type": "stream",
     "text": [
      "EOFError()\n"
     ]
    }
   ],
   "source": [
    "for file in readdir(folder)\n",
    "    try\n",
    "        if split(file, \".\")[end] == \"jld2\"\n",
    "            @load \"$folder$file\" input output\n",
    "            mindex = argmin(output[\"Es\"])\n",
    "            state = output[\"states\"][mindex]\n",
    "            id = parse(Int, split(file, \"_\")[id_index])\n",
    "            radii = collect(Base.Iterators.flatten([input[\"template_radii\"] for _ in 1:input[\"n_mol\"]]))\n",
    "            MorphoMolNotebooks.configuration_to_poly(MorphoMol.Utilities.get_flat_realization(state, input[\"template_centers\"]), radii, \"$(folder)$(id)\", input[\"n_mol\"], length(input[\"template_radii\"]))\n",
    "        end\n",
    "    catch e\n",
    "        println(e)\n",
    "        continue\n",
    "    end\n",
    "end"
   ]
  },
  {
   "cell_type": "code",
   "execution_count": 8,
   "metadata": {},
   "outputs": [
    {
     "data": {
      "text/plain": [
       "2-element Vector{Symbol}:\n",
       " :input\n",
       " :output"
      ]
     },
     "execution_count": 8,
     "metadata": {},
     "output_type": "execute_result"
    }
   ],
   "source": [
    "@load \"$(folder)/70_$(algo)_$(energy)_$(n_mol)_$(mol_type).jld2\" input output"
   ]
  },
  {
   "cell_type": "code",
   "execution_count": 12,
   "metadata": {},
   "outputs": [
    {
     "data": {
      "text/plain": [
       "\"[33.00573028577495,9.010500374699706,-19.394014994439495,41.94091553913662,36.77396954475643,136.75801336604957,0.025544938985341298,-11.531399621704216,1.9825553928061728,105.15622750806392,30.18769203297849,131.27817550868386,-3.800592120798349,-3.0595641169479544,6.004980837276341,76.64592090269305,28.80512299577225,128.90246903831434,]\""
      ]
     },
     "execution_count": 12,
     "metadata": {},
     "output_type": "execute_result"
    }
   ],
   "source": [
    "min_dex = argmin(output[\"Es\"])\n",
    "state_string = \"[\"\n",
    "for e in output[\"states\"][min_dex]\n",
    "    state_string *= \"$(e),\"\n",
    "end\n",
    "state_string *= \"]\"\n",
    "state_string"
   ]
  },
  {
   "cell_type": "markdown",
   "metadata": {},
   "source": [
    "# Print Single Assembly Path"
   ]
  },
  {
   "cell_type": "code",
   "execution_count": 4,
   "metadata": {},
   "outputs": [
    {
     "ename": "LoadError",
     "evalue": "UndefVarError: `algo_e` not defined",
     "output_type": "error",
     "traceback": [
      "UndefVarError: `algo_e` not defined",
      "",
      "Stacktrace:",
      " [1] macro expansion",
      "   @ ~/.julia/packages/JLD2/NKGUi/src/loadsave.jl:152 [inlined]",
      " [2] top-level scope",
      "   @ In[4]:1"
     ]
    }
   ],
   "source": [
    "@load \"$(folder)/11_$(algo_e)_2_$(mol_type).jld2\" input output"
   ]
  },
  {
   "cell_type": "code",
   "execution_count": null,
   "metadata": {},
   "outputs": [
    {
     "data": {
      "text/plain": [
       "\"../../Data/hpc_out/2_6r7m/rwm_ma_2_6r7m//11_rwm_ma_2_6r7m.jld2\""
      ]
     },
     "execution_count": 15,
     "metadata": {},
     "output_type": "execute_result"
    }
   ],
   "source": [
    "\"$(folder)/11_$(algo_e)_2_$(mol_type).jld2\""
   ]
  },
  {
   "cell_type": "code",
   "execution_count": null,
   "metadata": {},
   "outputs": [],
   "source": [
    "using GeometryBasics"
   ]
  },
  {
   "cell_type": "code",
   "execution_count": null,
   "metadata": {},
   "outputs": [],
   "source": [
    "mindex = argmin(output[\"Es\"])\n",
    "lower = 500\n",
    "upper = 100\n",
    "out_folder = \"../../Data/tmp/assembly_path/\"\n",
    "try\n",
    "    rm(out_folder, recursive=true)\n",
    "catch \n",
    "end\n",
    "mkdir(out_folder)\n",
    "radii = collect(Base.Iterators.flatten([input[\"template_radii\"] for _ in 1:input[\"n_mol\"]]))\n",
    "for (i,j) in enumerate(maximum([mindex-lower,1]):minimum([mindex+upper, length(output[\"Es\"])]))\n",
    "    state = output[\"states\"][j]\n",
    "    MorphoMolNotebooks.configuration_to_poly(MorphoMol.Utilities.get_flat_realization(state, input[\"template_centers\"]), radii, \"$(out_folder)$(i)\", input[\"n_mol\"], length(input[\"template_radii\"]))\n",
    "end\n",
    "\n"
   ]
  },
  {
   "cell_type": "markdown",
   "metadata": {},
   "source": [
    "# Dispersed State Energies"
   ]
  },
  {
   "cell_type": "code",
   "execution_count": null,
   "metadata": {},
   "outputs": [
    {
     "name": "stdout",
     "output_type": "stream",
     "text": [
      "1ei7 8255.3356279267\n",
      "2tmv 8130.426867538925\n",
      "6r7m 8219.578304239454\n",
      "6sae 8185.217724310747\n",
      "6sag 8174.157936120334\n"
     ]
    }
   ],
   "source": [
    "folder = \"assets/input/poly/singles/\"\n",
    "for file in readdir(folder)\n",
    "    c,r = MorphoMol.Utilities.poly_to_state(\"$folder$file\")\n",
    "    E = MorphoMol.Energies.solvation_free_energy(\n",
    "        c, \n",
    "        length(r),\n",
    "        r,\n",
    "        1.4,\n",
    "        MorphoMol.Energies.get_prefactors(1.4, 0.3665),\n",
    "        0.0,\n",
    "        0.85\n",
    "        )\n",
    "    println(\"$(split(file, \"_\")[1]) \", 2*E)\n",
    "end"
   ]
  }
 ],
 "metadata": {
  "kernelspec": {
   "display_name": "julia_tda 1.10.6",
   "language": "julia",
   "name": "julia_tda-1.10"
  },
  "language_info": {
   "file_extension": ".jl",
   "mimetype": "application/julia",
   "name": "julia",
   "version": "1.10.6"
  },
  "orig_nbformat": 4
 },
 "nbformat": 4,
 "nbformat_minor": 2
}
