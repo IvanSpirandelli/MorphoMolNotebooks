{
 "cells": [
  {
   "cell_type": "code",
   "execution_count": 1,
   "metadata": {},
   "outputs": [
    {
     "name": "stderr",
     "output_type": "stream",
     "text": [
      "\u001b[32m\u001b[1m  Activating\u001b[22m\u001b[39m project at `~/Doktor/Code/MorphoMol/MorphoMolNotebooks`\n"
     ]
    }
   ],
   "source": [
    "import Pkg; \n",
    "\n",
    "if split(pwd(),\"/\")[end] == \"utility\"\n",
    "    cd(joinpath(@__DIR__, \"../../\"))\n",
    "    Pkg.activate(\"Project.toml\")\n",
    "end\n",
    "\n",
    "using MorphoMol\n",
    "using MorphoMolNotebooks\n",
    "using StaticArrays\n",
    "using Rotations\n",
    "using Distances\n",
    "using JLD2"
   ]
  },
  {
   "cell_type": "code",
   "execution_count": 2,
   "metadata": {},
   "outputs": [],
   "source": [
    "#MorphoMolNotebooks.get_low_energy_and_theta_states(\"../../Data/hpc_out/op/3_6r7m/1/\", \"6r7m\")\n",
    "#@load \"../../Data/hpc_out/rwm_ma_3_6r7m/7_rwm_ma_3_6r7m.jld2\" input output\n",
    "#minimum(get_theta(input, output))"
   ]
  },
  {
   "cell_type": "code",
   "execution_count": 5,
   "metadata": {},
   "outputs": [
    {
     "name": "stdout",
     "output_type": "stream",
     "text": [
      "EOFError()\n",
      "Error in 85_6diy_protor_oj_0_0_os_1_1.jld2\n",
      "Minimal energy configuration id: 67 | Average acceptance rate: 0.6311808204602288\n",
      "Minimal theta configuration id: 1\n",
      "1: 1.4 |0.5923004 | 2029.281564006774 | Inf\n",
      "2: 1.4 |0.6305165 | 2037.9517936282114 | Inf\n",
      "3: 1.4 |0.65377295 | 2041.3226765850984 | Inf\n",
      "4: 1.4 |0.6239866 | 2040.586763508815 | Inf\n",
      "5: 1.4 |0.6578203 | 2047.2310419632609 | Inf\n",
      "6: 1.4 |0.6654043 | 2024.46019168087 | Inf\n",
      "7: 1.4 |0.65832686 | 2046.4143570056847 | Inf\n",
      "8: 1.4 |0.649994 | 2022.3663290782406 | Inf\n",
      "9: 1.4 |0.6033318 | 2048.697903775345 | Inf\n",
      "10: 1.4 |0.67388546 | 2049.2473545371486 | Inf\n",
      "11: 1.4 |0.62569565 | 2034.1905750744684 | Inf\n",
      "12: 1.4 |0.65383726 | 2042.0433819714463 | Inf\n",
      "13: 1.4 |0.68564844 | 2026.4594352254778 | Inf\n",
      "14: 1.4 |0.6250473 | 2035.49396721924 | Inf\n",
      "15: 1.4 |0.69556653 | 2044.923028091938 | Inf\n",
      "16: 1.4 |0.5596574 | 2020.0195342400125 | Inf\n",
      "17: 1.4 |0.6524474 | 2029.277773567472 | Inf\n",
      "18: 1.4 |0.6078984 | 2031.7908604389788 | Inf\n",
      "19: 1.4 |0.605721 | 2018.1835689993204 | Inf\n",
      "\n",
      "21: 1.4 |0.60127866 | 2045.6560811186202 | Inf\n",
      "22: 1.4 |0.5927067 | 2032.1231710899754 | Inf\n",
      "23: 1.4 |0.6551773 | 2038.3196651156998 | Inf\n",
      "24: 1.4 |0.68341005 | 2047.5254651846838 | Inf\n",
      "25: 1.4 |0.6699597 | 2055.498674093488 | Inf\n",
      "26: 1.4 |0.57133454 | 2046.1492543605762 | Inf\n",
      "27: 1.4 |0.6805831 | 2037.0985320018788 | Inf\n",
      "28: 1.4 |0.67597944 | 2042.6971074600922 | Inf\n",
      "29: 1.4 |0.638976 | 2043.1487379803905 | Inf\n",
      "30: 1.4 |0.68646586 | 2049.196234457119 | Inf\n",
      "31: 1.4 |0.55077344 | 2042.7368992096424 | Inf\n",
      "32: 1.4 |0.6131022 | 2050.635221657425 | Inf\n",
      "33: 1.4 |0.61717737 | 2045.3747434568725 | Inf\n",
      "34: 1.4 |0.63113105 | 2037.7404154557094 | Inf\n",
      "35: 1.4 |0.58854043 | 2034.4664980227517 | Inf\n",
      "36: 1.4 |0.6827456 | 2048.2746939464264 | Inf\n",
      "37: 1.4 |0.046084154 | 2013.3454475884037 | Inf\n",
      "38: 1.4 |0.57737255 | 2036.7216437536727 | Inf\n",
      "39: 1.4 |0.5981328 | 2034.899801461414 | Inf\n",
      "40: 1.4 |0.6842566 | 2039.2272847220338 | Inf\n",
      "41: 1.4 |0.58101463 | 2030.510285926433 | Inf\n",
      "42: 1.4 |0.6361467 | 2028.7416361113928 | Inf\n",
      "43: 1.4 |0.6184713 | 2027.2548018012221 | Inf\n",
      "44: 1.4 |0.6360969 | 2020.9537353820117 | Inf\n",
      "45: 1.4 |0.67098737 | 2044.4487187147922 | Inf\n",
      "46: 1.4 |0.5912245 | 2032.5635688721466 | Inf\n",
      "47: 1.4 |0.61420745 | 2032.3005519847502 | Inf\n",
      "48: 1.4 |0.58885777 | 2027.4322490690693 | Inf\n",
      "49: 1.4 |0.66905314 | 2042.7235169705468 | Inf\n",
      "50: 1.4 |0.6265927 | 2040.834303787764 | Inf\n",
      "51: 1.4 |0.49673742 | 2036.3449192973187 | Inf\n",
      "52: 1.4 |0.66001445 | 2012.881779031574 | Inf\n",
      "53: 1.4 |0.6856613 | 2053.4754867445713 | Inf\n",
      "54: 1.4 |0.66356266 | 2024.8670961495575 | Inf\n",
      "55: 1.4 |0.64833754 | 2040.1251495642725 | Inf\n",
      "56: 1.4 |0.6711992 | 2037.5918525588975 | Inf\n",
      "57: 1.4 |0.64761794 | 2040.8484427627714 | Inf\n",
      "58: 1.4 |0.64832884 | 2044.7284022679466 | Inf\n",
      "59: 1.4 |0.71148485 | 2049.175660674223 | Inf\n",
      "60: 1.4 |0.648616 | 2039.7214923273157 | Inf\n",
      "61: 1.4 |0.66166353 | 2035.144680787457 | Inf\n",
      "62: 1.4 |0.52923673 | 2034.5036831301677 | Inf\n",
      "63: 1.4 |0.61671174 | 2039.5703899914356 | Inf\n",
      "\n",
      "65: 1.4 |0.68909675 | 2040.793162229141 | Inf\n",
      "66: 1.4 |0.57803357 | 2041.9598366703883 | Inf\n",
      "67: 1.4 |0.6331395 | 2005.863930402515 | Inf\n",
      "68: 1.4 |0.59098816 | 2028.9170268764638 | Inf\n",
      "69: 1.4 |0.67732495 | 2040.5850532207987 | Inf\n",
      "70: 1.4 |0.69474703 | 2043.3926647633466 | Inf\n",
      "\n",
      "72: 1.4 |0.67408746 | 2032.1885340722968 | Inf\n",
      "73: 1.4 |0.67425436 | 2042.2620190512373 | Inf\n",
      "74: 1.4 |0.69327706 | 2026.175615010722 | Inf\n",
      "75: 1.4 |0.4818469 | 2041.9071535307187 | Inf\n",
      "76: 1.4 |0.60116917 | 2039.7004695628623 | Inf\n",
      "77: 1.4 |0.6778694 | 2040.2902151851417 | Inf\n",
      "78: 1.4 |0.6867407 | 2032.1998320725268 | Inf\n",
      "79: 1.4 |0.6466577 | 2039.8878031135737 | Inf\n",
      "80: 1.4 |0.65111125 | 2048.3166164792174 | Inf\n",
      "81: 1.4 |0.6794812 | 2014.6700967195286 | Inf\n",
      "\n",
      "83: 1.4 |0.69737595 | 2025.2733441402117 | Inf\n",
      "\n",
      "\n",
      "86: 1.4 |0.59547055 | 2031.053641202852 | Inf\n",
      "87: 1.4 |0.6570435 | 2032.9975871889897 | Inf\n",
      "88: 1.4 |0.68483394 | 2045.734759211306 | Inf\n",
      "\n",
      "90: 1.4 |0.68578976 | 2033.506737361605 | Inf\n",
      "91: 1.4 |0.5999578 | 2036.5052215188323 | Inf\n",
      "92: 1.4 |0.64448327 | 2027.494312331493 | Inf\n",
      "93: 1.4 |0.6996837 | 2034.376164408194 | Inf\n",
      "94: 1.4 |0.6755616 | 2033.2514031011456 | Inf\n",
      "95: 1.4 |0.6351782 | 2029.6618897806154 | Inf\n",
      "96: 1.4 |0.6357181 | 2036.3904070116384 | Inf\n",
      "97: 1.4 |0.625988 | 2025.9001554075603 | Inf\n",
      "98: 1.4 |0.55498534 | 2055.378744541684 | Inf\n",
      "99: 1.4 |0.6588696 | 2049.0798440163107 | Inf\n"
     ]
    }
   ],
   "source": [
    "mol_type = \"6diy\"\n",
    "algo = \"hmc\"\n",
    "energy = \"ma\"\n",
    "n_mol = 12\n",
    "\n",
    "#folder = \"../../Data/hpc_out/$energy/3_6r7m/3/\"\n",
    "#folder = \"../../Data/hpc_out/$energy/3_6r7m/refine_1_71/2/\"\n",
    "folder = \"../../Data/hpc_out/$(algo)_$(energy)_$(n_mol)_$(mol_type)/\"\n",
    "\n",
    "id_index = 1\n",
    "separator = \"_\"\n",
    "max = 1\n",
    "for file in readdir(folder)\n",
    "    if split(file, \".\")[end] == \"jld2\"\n",
    "        max = max < parse(Int, split(file, separator)[id_index]) ? parse(Int, split(file, separator)[id_index]) : max\n",
    "    end\n",
    "end\n",
    "\n",
    "acceptance_rates = Vector{Float64}([])\n",
    "min_Es = [Inf for _ in 1:max]\n",
    "thetas = [Inf for _ in 1:max]\n",
    "evaluation_strings = [\"\" for _ in 1:max]\n",
    "for file in readdir(folder)\n",
    "    if split(file, \".\")[end] == \"jld2\"\n",
    "        try\n",
    "            @load \"$folder$file\" input output\n",
    "            # Crude test to exclude runs that remained dispersed\n",
    "            # if maximum(output[\"Es\"]) - minimum(output[\"Es\"]) < 10.0# || input[\"T\"] > 1.5\n",
    "            #     println(\"E_diff = $(maximum(output[\"Es\"]) - minimum(output[\"Es\"]))\")\n",
    "            #     continue\n",
    "            # end\n",
    "\n",
    "            id = parse(Int, split(file, separator)[id_index])\n",
    "            theta = MorphoMolNotebooks.get_theta(input, output)\n",
    "            string = \"$(id): $(input[\"T\"]) |$(output[\"αs\"][end]) | $(minimum(output[\"Es\"])) | $(theta)\"\n",
    "\n",
    "            push!(acceptance_rates, output[\"αs\"][end])\n",
    "            evaluation_strings[id] = string\n",
    "            min_Es[id] = minimum(output[\"Es\"])\n",
    "            thetas[id] = theta\n",
    "        catch e\n",
    "            println(e)\n",
    "            println(\"Error in $file\")\n",
    "        end\n",
    "    end\n",
    "end\n",
    "println(\"Minimal energy configuration id: $(argmin(min_Es)) | Average acceptance rate: $(sum(acceptance_rates) / length(acceptance_rates))\")\n",
    "println(\"Minimal theta configuration id: $(argmin(thetas))\")\n",
    "for elem in evaluation_strings\n",
    "    println(elem)\n",
    "end"
   ]
  },
  {
   "cell_type": "code",
   "execution_count": 20,
   "metadata": {},
   "outputs": [
    {
     "data": {
      "text/plain": [
       "41-element Vector{Int64}:\n",
       "  1\n",
       "  2\n",
       "  4\n",
       "  6\n",
       "  9\n",
       " 12\n",
       " 14\n",
       " 17\n",
       " 21\n",
       " 25\n",
       " 26\n",
       " 27\n",
       " 31\n",
       "  ⋮\n",
       " 65\n",
       " 71\n",
       " 76\n",
       " 82\n",
       " 83\n",
       " 86\n",
       " 91\n",
       " 92\n",
       " 93\n",
       " 96\n",
       " 98\n",
       " 99"
      ]
     },
     "execution_count": 20,
     "metadata": {},
     "output_type": "execute_result"
    }
   ],
   "source": [
    "[i for i in 1:length(min_Es) if min_Es[i] < minimum(min_Es) * 1.0025 && thetas[i] > 5.0]"
   ]
  },
  {
   "cell_type": "code",
   "execution_count": 21,
   "metadata": {},
   "outputs": [
    {
     "data": {
      "text/plain": [
       "Int64[]"
      ]
     },
     "execution_count": 21,
     "metadata": {},
     "output_type": "execute_result"
    }
   ],
   "source": [
    "[i for i in 1:length(thetas) if thetas[i] < 4.0]"
   ]
  },
  {
   "cell_type": "code",
   "execution_count": 22,
   "metadata": {},
   "outputs": [],
   "source": [
    "for file in readdir(folder)\n",
    "    try\n",
    "        if split(file, \".\")[end] == \"jld2\"\n",
    "            @load \"$folder$file\" input output\n",
    "            mindex = argmin(output[\"Es\"])\n",
    "            state = output[\"states\"][mindex]\n",
    "            id = parse(Int, split(file, \"_\")[id_index])\n",
    "            radii = collect(Base.Iterators.flatten([input[\"template_radii\"] for _ in 1:input[\"n_mol\"]]))\n",
    "            colors = [MorphoMolNotebooks.STANDARD_COLORS[i] for i in 1:input[\"n_mol\"] for _ in 1:length(input[\"template_radii\"])]\n",
    "            MorphoMolNotebooks.configuration_to_poly(MorphoMol.Utilities.get_point_vector_realization(state, input[\"template_centers\"]), radii, colors, \"$(folder)$(id)\")\n",
    "        end\n",
    "    catch e\n",
    "        println(e)\n",
    "        continue\n",
    "    end\n",
    "end"
   ]
  },
  {
   "cell_type": "code",
   "execution_count": 14,
   "metadata": {},
   "outputs": [
    {
     "data": {
      "text/plain": [
       "2-element Vector{Symbol}:\n",
       " :input\n",
       " :output"
      ]
     },
     "execution_count": 14,
     "metadata": {},
     "output_type": "execute_result"
    }
   ],
   "source": [
    "@load \"$(folder)/31_$(algo)_$(energy)_$(n_mol)_$(mol_type).jld2\" input output"
   ]
  },
  {
   "cell_type": "code",
   "execution_count": 9,
   "metadata": {},
   "outputs": [
    {
     "data": {
      "text/plain": [
       "2-element Vector{Symbol}:\n",
       " :input\n",
       " :output"
      ]
     },
     "execution_count": 9,
     "metadata": {},
     "output_type": "execute_result"
    }
   ],
   "source": [
    "@load \"../../Data/hpc_out/$energy/3_6r7m/1/71_$(algo)_$(energy)_$(n_mol)_$(mol_type).jld2\" input output"
   ]
  },
  {
   "cell_type": "code",
   "execution_count": 10,
   "metadata": {},
   "outputs": [
    {
     "data": {
      "text/plain": [
       "\"[1.509228153653038,2.075751345239662,-5.318232594141871,56.23954638527144,101.57490490478578,127.98448407280469,-24.01180611567413,43.65738040984568,-7.369426210947061,56.45760461480674,80.18572074318053,140.3786636714549,-12.855383069920308,8.616148889482243,10.715234961128793,48.026972725414986,119.90393247014737,132.87922126233056,]\""
      ]
     },
     "execution_count": 10,
     "metadata": {},
     "output_type": "execute_result"
    }
   ],
   "source": [
    "#min_dex = argmin(output[\"Es\"])\n",
    "min_dex = 9800\n",
    "state_string = \"[\"\n",
    "for e in output[\"states\"][min_dex]\n",
    "    state_string *= \"$(e),\"\n",
    "end\n",
    "state_string *= \"]\"\n",
    "state_string"
   ]
  },
  {
   "cell_type": "markdown",
   "metadata": {},
   "source": [
    "# Print Single Assembly Path"
   ]
  },
  {
   "cell_type": "code",
   "execution_count": 4,
   "metadata": {},
   "outputs": [
    {
     "ename": "LoadError",
     "evalue": "UndefVarError: `algo_e` not defined",
     "output_type": "error",
     "traceback": [
      "UndefVarError: `algo_e` not defined",
      "",
      "Stacktrace:",
      " [1] macro expansion",
      "   @ ~/.julia/packages/JLD2/NKGUi/src/loadsave.jl:152 [inlined]",
      " [2] top-level scope",
      "   @ In[4]:1"
     ]
    }
   ],
   "source": [
    "@load \"$(folder)/11_$(algo_e)_2_$(mol_type).jld2\" input output"
   ]
  },
  {
   "cell_type": "code",
   "execution_count": null,
   "metadata": {},
   "outputs": [
    {
     "data": {
      "text/plain": [
       "\"../../Data/hpc_out/2_6r7m/rwm_ma_2_6r7m//11_rwm_ma_2_6r7m.jld2\""
      ]
     },
     "execution_count": 15,
     "metadata": {},
     "output_type": "execute_result"
    }
   ],
   "source": [
    "\"$(folder)/11_$(algo_e)_2_$(mol_type).jld2\""
   ]
  },
  {
   "cell_type": "code",
   "execution_count": null,
   "metadata": {},
   "outputs": [],
   "source": [
    "using GeometryBasics"
   ]
  },
  {
   "cell_type": "code",
   "execution_count": null,
   "metadata": {},
   "outputs": [],
   "source": [
    "mindex = argmin(output[\"Es\"])\n",
    "lower = 500\n",
    "upper = 100\n",
    "out_folder = \"../../Data/tmp/assembly_path/\"\n",
    "try\n",
    "    rm(out_folder, recursive=true)\n",
    "catch \n",
    "end\n",
    "mkdir(out_folder)\n",
    "radii = collect(Base.Iterators.flatten([input[\"template_radii\"] for _ in 1:input[\"n_mol\"]]))\n",
    "for (i,j) in enumerate(maximum([mindex-lower,1]):minimum([mindex+upper, length(output[\"Es\"])]))\n",
    "    state = output[\"states\"][j]\n",
    "    MorphoMolNotebooks.configuration_to_poly(MorphoMol.Utilities.get_flat_realization(state, input[\"template_centers\"]), radii, \"$(out_folder)$(i)\", input[\"n_mol\"], length(input[\"template_radii\"]))\n",
    "end\n",
    "\n"
   ]
  },
  {
   "cell_type": "markdown",
   "metadata": {},
   "source": [
    "# Dispersed State Energies"
   ]
  },
  {
   "cell_type": "code",
   "execution_count": null,
   "metadata": {},
   "outputs": [
    {
     "name": "stdout",
     "output_type": "stream",
     "text": [
      "1ei7 8255.3356279267\n",
      "2tmv 8130.426867538925\n",
      "6r7m 8219.578304239454\n",
      "6sae 8185.217724310747\n",
      "6sag 8174.157936120334\n"
     ]
    }
   ],
   "source": [
    "folder = \"assets/input/poly/singles/\"\n",
    "for file in readdir(folder)\n",
    "    c,r = MorphoMol.Utilities.poly_to_state(\"$folder$file\")\n",
    "    E = MorphoMol.Energies.solvation_free_energy(\n",
    "        c, \n",
    "        length(r),\n",
    "        r,\n",
    "        1.4,\n",
    "        MorphoMol.Energies.get_prefactors(1.4, 0.3665),\n",
    "        0.0,\n",
    "        0.85\n",
    "        )\n",
    "    println(\"$(split(file, \"_\")[1]) \", 2*E)\n",
    "end"
   ]
  }
 ],
 "metadata": {
  "kernelspec": {
   "display_name": "julia_tda_1.10 1.10.6",
   "language": "julia",
   "name": "julia_tda_1.10-1.10"
  },
  "language_info": {
   "file_extension": ".jl",
   "mimetype": "application/julia",
   "name": "julia",
   "version": "1.10.6"
  },
  "orig_nbformat": 4
 },
 "nbformat": 4,
 "nbformat_minor": 2
}
