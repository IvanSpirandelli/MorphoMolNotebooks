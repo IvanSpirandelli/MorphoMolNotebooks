{
 "cells": [
  {
   "cell_type": "code",
   "execution_count": 57,
   "metadata": {},
   "outputs": [],
   "source": [
    "import Pkg; \n",
    "\n",
    "if split(pwd(),\"/\")[end] == \"utility\"\n",
    "    cd(joinpath(@__DIR__, \"../../\"))\n",
    "    Pkg.activate(\"Project.toml\")\n",
    "end\n",
    "\n",
    "using MorphoMol\n",
    "using MorphoMolNotebooks\n",
    "using StaticArrays\n",
    "using Rotations\n",
    "using Distances\n",
    "using JLD2\n",
    "using GeometryBasics\n",
    "using GLMakie"
   ]
  },
  {
   "cell_type": "code",
   "execution_count": 58,
   "metadata": {},
   "outputs": [
    {
     "data": {
      "text/plain": [
       "get_overlap (generic function with 1 method)"
      ]
     },
     "execution_count": 58,
     "metadata": {},
     "output_type": "execute_result"
    }
   ],
   "source": [
    "function get_overlap(input, output)\n",
    "    fr = MorphoMol.Utilities.get_flat_realization(output[\"states\"][argmin(output[\"Es\"])], input[\"template_centers\"])\n",
    "    MorphoMol.Energies.get_geometric_measures_and_overlap_value(fr, length(input[\"template_radii\"]), [input[\"template_radii\"]; input[\"template_radii\"]], 0.3665, 0.0, 1.0, 100.0)[5]\n",
    "end"
   ]
  },
  {
   "cell_type": "code",
   "execution_count": 59,
   "metadata": {},
   "outputs": [
    {
     "name": "stdout",
     "output_type": "stream",
     "text": [
      "104: 3.940726703939235 | 376.57577745752144 | [1.0, -0.8, -1.0]\n",
      "114: 3.8477845458539384 | 428.86578559081426 | [1.0, -0.8, -0.8]\n",
      "130: 3.6492648523959077 | 438.6501299756315 | [1.0, -0.8, -0.5]\n",
      "144: 3.389915852791353 | 470.03145085871375 | [1.0, -0.8, -0.2]\n",
      "162: 3.9231072721242035 | 448.77088088541103 | [1.0, -0.7, -0.8]\n",
      "186: 3.638369251664876 | 475.3479604200646 | [1.0, -0.7, -0.3]\n",
      "195: 3.3949402830461857 | 271.22450531369105 | [1.0, -0.7, -0.2]\n",
      "196: 3.9470726312989552 | 435.2551599408209 | [1.0, -0.7, -0.1]\n",
      "205: 3.4835014022105897 | 376.6035349830598 | [1.0, -0.6, -1.0]\n",
      "207: 3.9032446698483163 | 491.21075855963596 | [1.0, -0.6, -0.9]\n",
      "210: 3.2128678975592853 | 340.6824153830628 | [1.0, -0.6, -0.9]\n",
      "234: 3.673562133909744 | 352.78550805142146 | [1.0, -0.6, -0.4]\n",
      "240: 3.866751073783297 | 465.26944103521043 | [1.0, -0.6, -0.3]\n",
      "271: 3.837684211131309 | 512.1906793602469 | [1.0, -0.5, -0.6]\n",
      "275: 2.9401665447198653 | 763.0178686680873 | [1.0, -0.5, -0.6]\n",
      "299: 3.804305143405591 | 465.2314591248014 | [1.0, -0.5, -0.1]\n",
      "29: 3.8169073884554696 | 486.72896539679266 | [1.0, -1.0, -0.5]\n",
      "310: 1.074216010604651 | 555.7564585426428 | [1.0, -0.4, -0.9]\n",
      "318: 3.580279413244435 | 420.2758723701395 | [1.0, -0.4, -0.7]\n",
      "325: 2.26385922521005 | 684.8523988858927 | [1.0, -0.4, -0.6]\n",
      "40: 3.054593433006904 | 313.2619115516293 | [1.0, -1.0, -0.3]\n",
      "57: 3.6589783465435692 | 330.3291828955815 | [1.0, -0.9, -0.9]\n",
      "59: 3.5727745282472614 | 387.29912886167205 | [1.0, -0.9, -0.9]\n",
      "74: 3.6210252138606416 | 336.6555960985227 | [1.0, -0.9, -0.6]\n",
      "76: 3.3539982023493913 | 309.3147267271657 | [1.0, -0.9, -0.5]\n",
      "82: 3.97109180127538 | 448.44847806556965 | [1.0, -0.9, -0.4]\n",
      "88: 3.992102918558536 | 441.5494741037902 | [1.0, -0.9, -0.3]\n",
      "8: 3.7249183936229824 | 443.7337896481234 | [1.0, -1.0, -0.9]\n"
     ]
    }
   ],
   "source": [
    "folder = \"../../Data/hpc_out/op_grid/narrow/2/\"\n",
    "\n",
    "for file in readdir(folder)\n",
    "    if split(file, \".\")[end] == \"jld2\"\n",
    "        try\n",
    "            @load \"$folder$file\" input output\n",
    "\n",
    "            id = parse(Int, split(file, \"_\")[1])\n",
    "            theta = MorphoMolNotebooks.get_theta(input, output)\n",
    "\n",
    "            #ol = get_overlap(input, output)\n",
    "            # if ol <= 0.01\n",
    "            #     println(\"$(id): $(theta) | $(ol) | $(input[\"persistence_weights\"])\")\n",
    "            # end\n",
    "            if theta <= 4.0\n",
    "                ol = get_overlap(input, output)\n",
    "                println(\"$(id): $(theta) | $(ol) | $(input[\"persistence_weights\"])\")\n",
    "            end\n",
    "        catch e\n",
    "            println(e)\n",
    "            println(\"Error in $file\")\n",
    "        end\n",
    "    end\n",
    "end"
   ]
  },
  {
   "cell_type": "code",
   "execution_count": 36,
   "metadata": {},
   "outputs": [],
   "source": [
    "# minimal_states = Vector{Vector{Float64}}()\n",
    "# ms_thetas = Vector{Float64}()\n",
    "# for (root, dirs, _) in walkdir(\"../../Data/hpc_out/op_grid/\")\n",
    "#     for dir in dirs\n",
    "#         for file in readdir(root*\"/\"*dir)\n",
    "#             if split(file, \".\")[end] == \"jld2\"\n",
    "#                 @load root*\"/\"*dir*\"/\"*file input output\n",
    "#                 push!(minimal_states, output[\"states\"][argmin(output[\"Es\"])])\n",
    "#                 push!(ms_thetas, MorphoMolNotebooks.get_theta(input, output))\n",
    "#             end\n",
    "#         end\n",
    "#     end\n",
    "# end\n",
    "    "
   ]
  },
  {
   "cell_type": "code",
   "execution_count": 60,
   "metadata": {},
   "outputs": [],
   "source": [
    "minimal_states = Vector{Vector{Float64}}()\n",
    "ms_thetas = Vector{Float64}()\n",
    "root = (\"../../Data/hpc_out/op_grid/narrow/2/\")\n",
    "for file in readdir(root)\n",
    "    if split(file, \".\")[end] == \"jld2\"\n",
    "        @load root*\"/\"*file input output\n",
    "        push!(minimal_states, output[\"states\"][argmin(output[\"Es\"])])\n",
    "        push!(ms_thetas, MorphoMolNotebooks.get_theta(input, output))\n",
    "    end\n",
    "end"
   ]
  },
  {
   "cell_type": "code",
   "execution_count": 61,
   "metadata": {},
   "outputs": [
    {
     "data": {
      "text/plain": [
       "persistence (generic function with 1 method)"
      ]
     },
     "execution_count": 61,
     "metadata": {},
     "output_type": "execute_result"
    }
   ],
   "source": [
    "function persistence(x::Vector{Float64}, template_centers::Matrix{Float64}, persistence_weights::Vector{Float64})\n",
    "    flat_realization = MorphoMol.Utilities.get_flat_realization(x, template_centers)\n",
    "    points = Vector{Vector{Float64}}([e for e in eachcol(reshape(flat_realization, (3, Int(length(flat_realization) / 3))))])\n",
    "    pdgm = MorphoMol.Energies.get_alpha_shape_persistence_diagram(points)\n",
    "    p0 = MorphoMol.Energies.get_total_persistence(pdgm[1], persistence_weights[1])\n",
    "    p1 = MorphoMol.Energies.get_total_persistence(pdgm[2], persistence_weights[2])\n",
    "    p2 = MorphoMol.Energies.get_total_persistence(pdgm[3], persistence_weights[3])\n",
    "    p0 + p1 + p2, Dict{String, Any}(\"P0s\" => p0, \"P1s\" => p1, \"P2s\" => p2)\n",
    "end"
   ]
  },
  {
   "cell_type": "code",
   "execution_count": 62,
   "metadata": {},
   "outputs": [
    {
     "data": {
      "text/plain": [
       "2-element Vector{Symbol}:\n",
       " :input\n",
       " :output"
      ]
     },
     "execution_count": 62,
     "metadata": {},
     "output_type": "execute_result"
    }
   ],
   "source": [
    "@load \"$(folder)12_grid_search_op_2_6r7m.jld2\" input output"
   ]
  },
  {
   "cell_type": "code",
   "execution_count": 66,
   "metadata": {},
   "outputs": [],
   "source": [
    "pws = [1.0, -1.0, 0.0]\n",
    "tc = input[\"template_centers\"]\n",
    "Es = [persistence(x, tc, pws)[1] for x in minimal_states];"
   ]
  },
  {
   "cell_type": "code",
   "execution_count": 65,
   "metadata": {},
   "outputs": [
    {
     "data": {
      "text/plain": [
       "9.56514824344531"
      ]
     },
     "execution_count": 65,
     "metadata": {},
     "output_type": "execute_result"
    }
   ],
   "source": [
    "ms_thetas[argmin(Es)]"
   ]
  },
  {
   "cell_type": "code",
   "execution_count": 56,
   "metadata": {},
   "outputs": [
    {
     "data": {
      "text/plain": [
       "GLMakie.Screen(...)"
      ]
     },
     "execution_count": 56,
     "metadata": {},
     "output_type": "execute_result"
    }
   ],
   "source": [
    "display(MorphoMolNotebooks.visualize_molecules(MorphoMol.Utilities.get_point_vector_realization(minimal_states[argmin(Es)], tc), [input[\"template_radii\"]; input[\"template_radii\"]], 2))"
   ]
  },
  {
   "cell_type": "code",
   "execution_count": 8,
   "metadata": {},
   "outputs": [
    {
     "data": {
      "text/plain": [
       "2-element Vector{Symbol}:\n",
       " :input\n",
       " :output"
      ]
     },
     "execution_count": 8,
     "metadata": {},
     "output_type": "execute_result"
    }
   ],
   "source": [
    "@load \"$(folder)12_grid_search_op_2_6r7m.jld2\" input output"
   ]
  },
  {
   "cell_type": "code",
   "execution_count": 9,
   "metadata": {},
   "outputs": [
    {
     "data": {
      "text/plain": [
       "GLMakie.Screen(...)"
      ]
     },
     "execution_count": 9,
     "metadata": {},
     "output_type": "execute_result"
    }
   ],
   "source": [
    "n = length(output[\"Es\"])\n",
    "e_mindex = argmin(output[\"Es\"])\n",
    "\n",
    "figure_config = Dict(\n",
    "    \"plot_ms\" => 5,\n",
    "    \"tracker_ms\" => 10,\n",
    "    \"title_fs\" => 20,\n",
    "    \"vis_range\" =>  maximum([25, e_mindex-2500]):minimum([e_mindex + 10, n])\n",
    "    #\"vis_range\" => 1:n\n",
    ")\n",
    "\n",
    "f = Figure(fontsize = 12)\n",
    "#Slider\n",
    "sl_i = Slider(f[3, 1:3], range = 1:length(output[\"states\"][figure_config[\"vis_range\"]]), startvalue = 1)\n",
    "x = sl_i.value\n",
    "cgl = GridLayout(f[1,1])\n",
    "visualize_configuration_sequence!(cgl, x, input, output, figure_config)\n",
    "\n",
    "aspgl = GridLayout(f[2, 1:2])    \n",
    "visualize_alpha_shape_persistence_measures!(aspgl, x, input, output, figure_config)\n",
    "\n",
    "etgl = GridLayout(f[2, 3])\n",
    "visualize_energy_and_theta!(etgl, x, input, output, figure_config)\n",
    "\n",
    "display(f)"
   ]
  }
 ],
 "metadata": {
  "kernelspec": {
   "display_name": "julia_tda_1.10 1.10.6",
   "language": "julia",
   "name": "julia_tda_1.10-1.10"
  },
  "language_info": {
   "file_extension": ".jl",
   "mimetype": "application/julia",
   "name": "julia",
   "version": "1.10.6"
  }
 },
 "nbformat": 4,
 "nbformat_minor": 2
}
