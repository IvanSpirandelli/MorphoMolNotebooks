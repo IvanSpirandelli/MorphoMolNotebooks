{
 "cells": [
  {
   "cell_type": "code",
   "execution_count": 1,
   "metadata": {},
   "outputs": [
    {
     "name": "stderr",
     "output_type": "stream",
     "text": [
      "\u001b[32m\u001b[1m  Activating\u001b[22m\u001b[39m project at `~/Doktor/Code/MorphoMol/MorphoMolNotebooks`\n"
     ]
    }
   ],
   "source": [
    "import Pkg; \n",
    "\n",
    "if split(pwd(),\"/\")[end] == \"utility\"\n",
    "    cd(joinpath(@__DIR__, \"../../\"))\n",
    "    Pkg.activate(\"Project.toml\")\n",
    "end\n",
    "\n",
    "using MorphoMol\n",
    "using JLD2\n",
    "using LinearAlgebra\n",
    "using Rotations\n",
    "using Printf"
   ]
  },
  {
   "cell_type": "code",
   "execution_count": 7,
   "metadata": {},
   "outputs": [
    {
     "data": {
      "text/plain": [
       "get_aggregate_simulation_evaluation (generic function with 1 method)"
      ]
     },
     "execution_count": 7,
     "metadata": {},
     "output_type": "execute_result"
    }
   ],
   "source": [
    "function get_aggregate_simulation_evaluation(folder)\n",
    "    mol_type = \"6r7m\"\n",
    "    assembly_successes = 0\n",
    "    total_simulations = 0\n",
    "    id_index = 1\n",
    "    steps_from_init_to_success = Vector{Int}([])\n",
    "    steps_from_last_max_to_success = Vector{Int}([])\n",
    "    acceptance_rates = Vector{Float64}([])\n",
    "\n",
    "    for file in readdir(folder)\n",
    "        if split(file, \".\")[end] == \"jld2\"\n",
    "            try\n",
    "                @load \"$folder$file\" input output\n",
    "\n",
    "                E_min_index = argmin(output[\"Es\"])\n",
    "                E_max_index = argmax(output[\"Es\"])\n",
    "\n",
    "                # Crude test to exclude runs that remained dispersed\n",
    "                if maximum(output[\"Es\"]) - minimum(output[\"Es\"]) < 10.0\n",
    "                    println(\"E_diff = $(maximum(output[\"Es\"]) - minimum(output[\"Es\"]))\")\n",
    "                    continue\n",
    "                end\n",
    "\n",
    "                exp_template_centers = MorphoMol.Utilities.TWOTMVSU_EXPERIMENTAL_ASSEMBLY[mol_type][\"template_centers\"]\n",
    "                exp_state = MorphoMol.Utilities.TWOTMVSU_EXPERIMENTAL_ASSEMBLY[mol_type][\"state\"]\n",
    "                theta = MorphoMol.Utilities.average_offset_distance(exp_template_centers, input[\"template_centers\"], exp_state, output[\"states\"][argmin(output[\"Es\"])])\n",
    "                push!(acceptance_rates, output[\"αs\"][end])\n",
    "\n",
    "                E_max = maximum(output[\"Es\"])\n",
    "                last_E_disp_index = E_max_index > E_min_index ? 1 : findall(x->x≈E_max, output[\"Es\"][1:E_min_index])[end]\n",
    "    \n",
    "                total_simulations += 1\n",
    "                if theta < 2.0\n",
    "                    assembly_successes += 1\n",
    "                    push!(steps_from_init_to_success, E_min_index)\n",
    "                    push!(steps_from_last_max_to_success, E_min_index - last_E_disp_index)\n",
    "                end\n",
    "            catch e\n",
    "                println(\"Error in $file\")\n",
    "            end\n",
    "        end\n",
    "    end\n",
    "    return total_simulations, assembly_successes/total_simulations, sum(steps_from_init_to_success)/length(steps_from_init_to_success), sum(steps_from_last_max_to_success)/length(steps_from_init_to_success), sum(acceptance_rates) / length(acceptance_rates)\n",
    "end"
   ]
  },
  {
   "cell_type": "code",
   "execution_count": 3,
   "metadata": {},
   "outputs": [
    {
     "name": "stdout",
     "output_type": "stream",
     "text": [
      "Error in 76_rwm_ma_2_6r7m.jld2\n",
      "Morphometric Approach\n",
      "Number of simulations: 98, Success ratio: 0.051\n",
      "Steps from init to success: 5307, Steps from last max to success: 3080\n",
      "Average acceptance rate: 0.24"
     ]
    }
   ],
   "source": [
    "#folder = \"../../Data/collected_simulation_results/rwm_ma_2_6r7m/\"\n",
    "folder = \"../../Data/hpc_out/rwm_ma_2_6r7m/\"\n",
    "ts, sr, sfits, sfmts, aar = get_aggregate_simulation_evaluation(folder)\n",
    "println(\"Morphometric Approach\")\n",
    "@printf(\"Number of simulations: %.0f, Success ratio: %.3f\\nSteps from init to success: %.0f, Steps from last max to success: %.0f\\nAverage acceptance rate: %.2f\", ts, sr, sfits, sfmts, aar)"
   ]
  },
  {
   "cell_type": "code",
   "execution_count": 4,
   "metadata": {},
   "outputs": [
    {
     "name": "stdout",
     "output_type": "stream",
     "text": [
      "Morphometric Approach with Persistence\n",
      "Number of simulations: 99, Success ratio: 0.131\n",
      "Steps from init to success: 4371, Steps from last max to success: 3943\n",
      "Average acceptance rate: 0.19"
     ]
    }
   ],
   "source": [
    "folder = \"../../Data/hpc_out/rwm_wp_2_6r7m/\"\n",
    "ts, sr, sfits, sfmts, aar = get_aggregate_simulation_evaluation(folder)\n",
    "println(\"Morphometric Approach with Persistence\")\n",
    "@printf(\"Number of simulations: %.0f, Success ratio: %.3f\\nSteps from init to success: %.0f, Steps from last max to success: %.0f\\nAverage acceptance rate: %.2f\", ts, sr, sfits, sfmts, aar)"
   ]
  },
  {
   "cell_type": "code",
   "execution_count": 5,
   "metadata": {},
   "outputs": [
    {
     "name": "stdout",
     "output_type": "stream",
     "text": [
      "Error in 75_rwm_op_2_6r7m.jld2\n",
      "Error in 84_rwm_op_2_6r7m.jld2\n",
      "Only Persistence\n",
      "Number of simulations: 97, Success ratio: 0.000\n",
      "Steps from init to success: NaN, Steps from last max to success: NaN\n",
      "Average acceptance rate: 0.24"
     ]
    }
   ],
   "source": [
    "folder = \"../../Data/hpc_out/rwm_op_2_6r7m/\"\n",
    "ts, sr, sfits, sfmts, aar = get_aggregate_simulation_evaluation(folder)\n",
    "println(\"Only Persistence\")\n",
    "@printf(\"Number of simulations: %.0f, Success ratio: %.3f\\nSteps from init to success: %.0f, Steps from last max to success: %.0f\\nAverage acceptance rate: %.2f\", ts, sr, sfits, sfmts, aar)"
   ]
  },
  {
   "cell_type": "code",
   "execution_count": 6,
   "metadata": {},
   "outputs": [
    {
     "name": "stdout",
     "output_type": "stream",
     "text": [
      "E_diff = 9.873233621632608\n",
      "E_diff = 5.472242272278891\n",
      "E_diff = 7.146086029048092\n",
      "E_diff = 8.55306337546972\n",
      "Error in 70_rwm_wip_2_6r7m.jld2\n",
      "E_diff = 0.22657185415118875\n",
      "Error in 8_rwm_wip_2_6r7m.jld2\n",
      "Error in 91_rwm_wip_2_6r7m.jld2\n",
      "Morphometric Approach with Interface Persistence\n",
      "Number of simulations: 84, Success ratio: 0.000, Steps from init to success: NaN, Steps from last max to success: NaN\n"
     ]
    }
   ],
   "source": [
    "folder = \"../../Data/hpc_out/rwm_wip_2_6r7m/\"\n",
    "ts, sr, sfits, sfmts = get_aggregate_simulation_evaluation(folder)\n",
    "println(\"Morphometric Approach with Interface Persistence\")\n",
    "@printf(\"Number of simulations: %.0f, Success ratio: %.3f, Steps from init to success: %.0f, Steps from last max to success: %.0f\\n\", ts, sr, sfits, sfmts)"
   ]
  }
 ],
 "metadata": {
  "kernelspec": {
   "display_name": "Julia Oineus 1.10.4",
   "language": "julia",
   "name": "julia-oineus-1.10"
  },
  "language_info": {
   "file_extension": ".jl",
   "mimetype": "application/julia",
   "name": "julia",
   "version": "1.10.4"
  }
 },
 "nbformat": 4,
 "nbformat_minor": 2
}
