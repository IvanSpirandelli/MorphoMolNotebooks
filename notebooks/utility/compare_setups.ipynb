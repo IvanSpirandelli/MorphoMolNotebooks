{
 "cells": [
  {
   "cell_type": "code",
   "execution_count": 14,
   "metadata": {},
   "outputs": [],
   "source": [
    "import Pkg; \n",
    "\n",
    "if split(pwd(),\"/\")[end] == \"utility\"\n",
    "    cd(joinpath(@__DIR__, \"../../\"))\n",
    "    Pkg.activate(\"Project.toml\")\n",
    "end\n",
    "\n",
    "\n",
    "using MorphoMol\n",
    "using JLD2\n",
    "using LinearAlgebra\n",
    "using Rotations\n",
    "using Printf"
   ]
  },
  {
   "cell_type": "code",
   "execution_count": 17,
   "metadata": {},
   "outputs": [
    {
     "data": {
      "text/plain": [
       "get_aggregate_simulation_evaluation (generic function with 1 method)"
      ]
     },
     "execution_count": 17,
     "metadata": {},
     "output_type": "execute_result"
    }
   ],
   "source": [
    "function get_aggregate_simulation_evaluation(folder)\n",
    "    mol_type = \"6r7m\"\n",
    "    assembly_successes = 0\n",
    "    total_simulations = 0\n",
    "    id_index = 1\n",
    "    steps_from_init_to_success = Vector{Int}([])\n",
    "    steps_from_last_max_to_success = Vector{Int}([])\n",
    "    acceptance_rates = Vector{Float64}([])\n",
    "\n",
    "    for file in readdir(folder)\n",
    "        if split(file, \".\")[end] == \"jld2\"\n",
    "            try\n",
    "                @load \"$folder$file\" input output\n",
    "\n",
    "                E_min_index = argmin(output[\"Es\"])\n",
    "                E_max_index = argmax(output[\"Es\"])\n",
    "\n",
    "                # Crude test to exclude runs that remained dispersed\n",
    "                if maximum(output[\"Es\"]) - minimum(output[\"Es\"]) < 10.0\n",
    "                    println(\"E_diff = $(output[\"Es\"][E_max_index] - output[\"Es\"][E_min_index])\")\n",
    "                    continue\n",
    "                end\n",
    "\n",
    "                exp_template_centers = MorphoMol.Utilities.TWOTMVSU_EXPERIMENTAL_ASSEMBLY[mol_type][\"template_centers\"]\n",
    "                exp_state = MorphoMol.Utilities.TWOTMVSU_EXPERIMENTAL_ASSEMBLY[mol_type][\"state\"]\n",
    "                theta = MorphoMol.Utilities.average_offset_distance(exp_template_centers, input[\"template_centers\"], exp_state, output[\"states\"][argmin(output[\"Es\"])])\n",
    "                push!(acceptance_rates, output[\"αs\"][end])\n",
    "\n",
    "                E_max = maximum(output[\"Es\"])\n",
    "                last_E_disp_index = E_max_index > E_min_index ? 1 : findall(x->x≈E_max, output[\"Es\"][1:E_min_index])[end]\n",
    "    \n",
    "                total_simulations += 1\n",
    "                if theta < 3.0\n",
    "                    assembly_successes += 1\n",
    "                    push!(steps_from_init_to_success, E_min_index)\n",
    "                    push!(steps_from_last_max_to_success, E_min_index - last_E_disp_index)\n",
    "                end\n",
    "            catch e\n",
    "                println(\"Error in $file\")\n",
    "            end\n",
    "        end\n",
    "    end\n",
    "    return total_simulations, assembly_successes/total_simulations, sum(steps_from_init_to_success)/length(steps_from_init_to_success), sum(steps_from_last_max_to_success)/length(steps_from_init_to_success), sum(acceptance_rates) / length(acceptance_rates)\n",
    "end"
   ]
  },
  {
   "cell_type": "code",
   "execution_count": 18,
   "metadata": {},
   "outputs": [
    {
     "name": "stdout",
     "output_type": "stream",
     "text": [
      "Morphometric Approach\n",
      "Number of simulations: 198, Success ratio: 0.101\n",
      "Steps from init to success: 5879, Steps from last max to success: 996\n",
      "Average acceptance rate: 0.06"
     ]
    }
   ],
   "source": [
    "folder = \"../../Data/collected_simulation_results/rwm_ma_2_6r7m/\"\n",
    "ts, sr, sfits, sfmts, aar = get_aggregate_simulation_evaluation(folder)\n",
    "println(\"Morphometric Approach\")\n",
    "@printf(\"Number of simulations: %.0f, Success ratio: %.3f\\nSteps from init to success: %.0f, Steps from last max to success: %.0f\\nAverage acceptance rate: %.2f\", ts, sr, sfits, sfmts, aar)"
   ]
  },
  {
   "cell_type": "code",
   "execution_count": 19,
   "metadata": {},
   "outputs": [
    {
     "name": "stdout",
     "output_type": "stream",
     "text": [
      "Morphometric Approach with Persistence\n",
      "Number of simulations: 272, Success ratio: 0.143\n",
      "Steps from init to success: 546, Steps from last max to success: 535\n",
      "Average acceptance rate: 0.02"
     ]
    }
   ],
   "source": [
    "folder = \"../../Data/collected_simulation_results/rwm_wp_2_6r7m/\"\n",
    "ts, sr, sfits, sfmts, aar = get_aggregate_simulation_evaluation(folder)\n",
    "println(\"Morphometric Approach with Persistence\")\n",
    "@printf(\"Number of simulations: %.0f, Success ratio: %.3f\\nSteps from init to success: %.0f, Steps from last max to success: %.0f\\nAverage acceptance rate: %.2f\", ts, sr, sfits, sfmts, aar)"
   ]
  },
  {
   "cell_type": "code",
   "execution_count": 20,
   "metadata": {},
   "outputs": [
    {
     "name": "stdout",
     "output_type": "stream",
     "text": [
      "Only Persistence\n",
      "Number of simulations: 175, Success ratio: 0.074\n",
      "Steps from init to success: 9026, Steps from last max to success: 7555\n",
      "Average acceptance rate: 0.54"
     ]
    }
   ],
   "source": [
    "folder = \"../../Data/collected_simulation_results/rwm_op_2_6r7m/\"\n",
    "ts, sr, sfits, sfmts, aar = get_aggregate_simulation_evaluation(folder)\n",
    "println(\"Only Persistence\")\n",
    "@printf(\"Number of simulations: %.0f, Success ratio: %.3f\\nSteps from init to success: %.0f, Steps from last max to success: %.0f\\nAverage acceptance rate: %.2f\", ts, sr, sfits, sfmts, aar)"
   ]
  },
  {
   "cell_type": "code",
   "execution_count": 13,
   "metadata": {},
   "outputs": [
    {
     "name": "stdout",
     "output_type": "stream",
     "text": [
      "Morphometric Approach with Interface Persistence\n",
      "Number of simulations: 93, Success ratio: 0.011, Steps from init to success: 549, Steps from last max to success: 436\n"
     ]
    }
   ],
   "source": [
    "folder = \"../../Data/collected_simulation_results/rwm_wip_2_6r7m/\"\n",
    "ts, sr, sfits, sfmts = get_aggregate_simulation_evaluation(folder)\n",
    "println(\"Morphometric Approach with Interface Persistence\")\n",
    "@printf(\"Number of simulations: %.0f, Success ratio: %.3f, Steps from init to success: %.0f, Steps from last max to success: %.0f\\n\", ts, sr, sfits, sfmts)"
   ]
  }
 ],
 "metadata": {
  "kernelspec": {
   "display_name": "Julia Oineus 1.10.4",
   "language": "julia",
   "name": "julia-oineus-1.10"
  },
  "language_info": {
   "file_extension": ".jl",
   "mimetype": "application/julia",
   "name": "julia",
   "version": "1.10.4"
  }
 },
 "nbformat": 4,
 "nbformat_minor": 2
}
