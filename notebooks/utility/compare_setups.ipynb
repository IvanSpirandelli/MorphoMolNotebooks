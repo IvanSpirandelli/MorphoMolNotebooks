{
 "cells": [
  {
   "cell_type": "code",
   "execution_count": 1,
   "metadata": {},
   "outputs": [
    {
     "name": "stderr",
     "output_type": "stream",
     "text": [
      "\u001b[32m\u001b[1m  Activating\u001b[22m\u001b[39m project at `~/Doktor/Code/MorphoMol/MorphoMolNotebooks`\n"
     ]
    }
   ],
   "source": [
    "import Pkg; \n",
    "\n",
    "if split(pwd(),\"/\")[end] == \"utility\"\n",
    "    cd(joinpath(@__DIR__, \"../../\"))\n",
    "    Pkg.activate(\"Project.toml\")\n",
    "end\n",
    "\n",
    "using MorphoMol\n",
    "using JLD2\n",
    "using LinearAlgebra\n",
    "using Rotations\n",
    "using Printf"
   ]
  },
  {
   "cell_type": "code",
   "execution_count": 2,
   "metadata": {},
   "outputs": [
    {
     "data": {
      "text/plain": [
       "get_aggregate_simulation_evaluation (generic function with 1 method)"
      ]
     },
     "execution_count": 2,
     "metadata": {},
     "output_type": "execute_result"
    }
   ],
   "source": [
    "function get_aggregate_simulation_evaluation(folder)\n",
    "    mol_type = \"6r7m\"\n",
    "    assembly_successes = 0\n",
    "    total_simulations = 0\n",
    "    id_index = 1\n",
    "    steps_from_init_to_success = Vector{Int}([])\n",
    "    steps_from_last_max_to_success = Vector{Int}([])\n",
    "    acceptance_rates = Vector{Float64}([])\n",
    "\n",
    "    for file in readdir(folder)\n",
    "        if split(file, \".\")[end] == \"jld2\"\n",
    "            try\n",
    "                @load \"$folder$file\" input output\n",
    "\n",
    "                E_min_index = argmin(output[\"Es\"])\n",
    "                E_max_index = argmax(output[\"Es\"])\n",
    "\n",
    "                # Crude test to exclude runs that remained dispersed\n",
    "                if maximum(output[\"Es\"]) - minimum(output[\"Es\"]) < 10.0\n",
    "                    println(\"E_diff = $(maximum(output[\"Es\"]) - minimum(output[\"Es\"]))\")\n",
    "                    continue\n",
    "                end\n",
    "\n",
    "                exp_template_centers = MorphoMol.Utilities.TWOTMVSU_EXPERIMENTAL_ASSEMBLY[mol_type][\"template_centers\"]\n",
    "                exp_state = MorphoMol.Utilities.TWOTMVSU_EXPERIMENTAL_ASSEMBLY[mol_type][\"state\"]\n",
    "                theta = MorphoMol.Utilities.average_offset_distance(exp_template_centers, input[\"template_centers\"], exp_state, output[\"states\"][argmin(output[\"Es\"])])\n",
    "                push!(acceptance_rates, output[\"αs\"][end])\n",
    "\n",
    "                E_max = maximum(output[\"Es\"])\n",
    "                last_E_disp_index = E_max_index > E_min_index ? 1 : findall(x->x≈E_max, output[\"Es\"][1:E_min_index])[end]\n",
    "    \n",
    "                total_simulations += 1\n",
    "                if theta < 3.0\n",
    "                    assembly_successes += 1\n",
    "                    push!(steps_from_init_to_success, E_min_index)\n",
    "                    push!(steps_from_last_max_to_success, E_min_index - last_E_disp_index)\n",
    "                end\n",
    "            catch e\n",
    "                println(\"Error in $file\")\n",
    "            end\n",
    "        end\n",
    "    end\n",
    "    return total_simulations, assembly_successes/total_simulations, sum(steps_from_init_to_success)/length(steps_from_init_to_success), sum(steps_from_last_max_to_success)/length(steps_from_init_to_success), sum(acceptance_rates) / length(acceptance_rates)\n",
    "end"
   ]
  },
  {
   "cell_type": "code",
   "execution_count": 3,
   "metadata": {},
   "outputs": [
    {
     "name": "stdout",
     "output_type": "stream",
     "text": [
      "Morphometric Approach\n",
      "Number of simulations: 100, Success ratio: 0.030\n",
      "Steps from init to success: 5083, Steps from last max to success: 592\n",
      "Average acceptance rate: 0.36"
     ]
    }
   ],
   "source": [
    "#folder = \"../../Data/collected_simulation_results/rwm_ma_2_6r7m/\"\n",
    "folder = \"../../Data/hpc_out/2_6r7m/1/\"\n",
    "ts, sr, sfits, sfmts, aar = get_aggregate_simulation_evaluation(folder)\n",
    "println(\"Morphometric Approach\")\n",
    "@printf(\"Number of simulations: %.0f, Success ratio: %.3f\\nSteps from init to success: %.0f, Steps from last max to success: %.0f\\nAverage acceptance rate: %.2f\", ts, sr, sfits, sfmts, aar)"
   ]
  },
  {
   "cell_type": "code",
   "execution_count": 4,
   "metadata": {},
   "outputs": [
    {
     "name": "stdout",
     "output_type": "stream",
     "text": [
      "Morphometric Approach with Persistence\n",
      "Number of simulations: 99, Success ratio: 0.071\n",
      "Steps from init to success: 877, Steps from last max to success: 874\n",
      "Average acceptance rate: 0.02"
     ]
    }
   ],
   "source": [
    "folder = \"../../Data/hpc_out/rwm_wp_2_6r7m/\"\n",
    "ts, sr, sfits, sfmts, aar = get_aggregate_simulation_evaluation(folder)\n",
    "println(\"Morphometric Approach with Persistence\")\n",
    "@printf(\"Number of simulations: %.0f, Success ratio: %.3f\\nSteps from init to success: %.0f, Steps from last max to success: %.0f\\nAverage acceptance rate: %.2f\", ts, sr, sfits, sfmts, aar)"
   ]
  },
  {
   "cell_type": "code",
   "execution_count": 5,
   "metadata": {},
   "outputs": [
    {
     "name": "stdout",
     "output_type": "stream",
     "text": [
      "Only Persistence\n",
      "Number of simulations: 99, Success ratio: 0.141\n",
      "Steps from init to success: 1701, Steps from last max to success: 1698\n",
      "Average acceptance rate: 0.23"
     ]
    }
   ],
   "source": [
    "folder = \"../../Data/hpc_out/rwm_op_2_6r7m/\"\n",
    "ts, sr, sfits, sfmts, aar = get_aggregate_simulation_evaluation(folder)\n",
    "println(\"Only Persistence\")\n",
    "@printf(\"Number of simulations: %.0f, Success ratio: %.3f\\nSteps from init to success: %.0f, Steps from last max to success: %.0f\\nAverage acceptance rate: %.2f\", ts, sr, sfits, sfmts, aar)"
   ]
  },
  {
   "cell_type": "code",
   "execution_count": 6,
   "metadata": {},
   "outputs": [
    {
     "name": "stdout",
     "output_type": "stream",
     "text": [
      "E_diff = 9.873233621632608\n",
      "E_diff = 5.472242272278891\n",
      "E_diff = 7.146086029048092\n",
      "E_diff = 8.55306337546972\n",
      "Error in 70_rwm_wip_2_6r7m.jld2\n",
      "E_diff = 0.22657185415118875\n",
      "Error in 8_rwm_wip_2_6r7m.jld2\n",
      "Error in 91_rwm_wip_2_6r7m.jld2\n",
      "Morphometric Approach with Interface Persistence\n",
      "Number of simulations: 84, Success ratio: 0.000, Steps from init to success: NaN, Steps from last max to success: NaN\n"
     ]
    }
   ],
   "source": [
    "folder = \"../../Data/hpc_out/rwm_wip_2_6r7m/\"\n",
    "ts, sr, sfits, sfmts = get_aggregate_simulation_evaluation(folder)\n",
    "println(\"Morphometric Approach with Interface Persistence\")\n",
    "@printf(\"Number of simulations: %.0f, Success ratio: %.3f, Steps from init to success: %.0f, Steps from last max to success: %.0f\\n\", ts, sr, sfits, sfmts)"
   ]
  },
  {
   "cell_type": "markdown",
   "metadata": {},
   "source": [
    "# Comparing Only Persistence Computations"
   ]
  },
  {
   "cell_type": "code",
   "execution_count": 37,
   "metadata": {},
   "outputs": [
    {
     "data": {
      "text/plain": [
       "89"
      ]
     },
     "execution_count": 37,
     "metadata": {},
     "output_type": "execute_result"
    }
   ],
   "source": [
    "id_assembly = 7\n",
    "id_lowest = 8\n",
    "id_other = 89"
   ]
  },
  {
   "cell_type": "code",
   "execution_count": 61,
   "metadata": {},
   "outputs": [
    {
     "data": {
      "text/plain": [
       "3-element Vector{Float64}:\n",
       "  0.075\n",
       " -0.05\n",
       " -0.1"
      ]
     },
     "execution_count": 61,
     "metadata": {},
     "output_type": "execute_result"
    }
   ],
   "source": [
    "pw = [0.075,-0.05,-0.1]\n",
    "pwn = [0.075,-0.05,-0.1]"
   ]
  },
  {
   "cell_type": "code",
   "execution_count": 58,
   "metadata": {},
   "outputs": [
    {
     "name": "stdout",
     "output_type": "stream",
     "text": [
      "[85.57769600277277, -79.1254087311359, -42.05317936331852]\n"
     ]
    },
    {
     "data": {
      "text/plain": [
       "-35.60089209168166"
      ]
     },
     "execution_count": 58,
     "metadata": {},
     "output_type": "execute_result"
    }
   ],
   "source": [
    "mol_type = \"6r7m\"\n",
    "id = id_assembly\n",
    "algo = \"op\"\n",
    "#@load \"../../Data/hpc_out/$algo/2_$(mol_type)/1/$(id)_rwm_$(algo)_2_$(mol_type).jld2\" input output\n",
    "@load \"../../Data/hpc_out/rwm_$(algo)_2_$(mol_type)/$(id)_rwm_$(algo)_2_$(mol_type).jld2\" input output\n",
    "mindex = argmin(output[\"Es\"])\n",
    "ps = [output[\"P0s\"][mindex] / pw[1], output[\"P1s\"][mindex] / pw[2], output[\"P2s\"][mindex] / pw[3]]\n",
    "println(ps .* pwn)\n",
    "sum(ps .* pwn)\n"
   ]
  },
  {
   "cell_type": "code",
   "execution_count": 59,
   "metadata": {},
   "outputs": [
    {
     "name": "stdout",
     "output_type": "stream",
     "text": [
      "[85.1940271066397, -80.06251225261006, -42.09448363888979]\n"
     ]
    },
    {
     "data": {
      "text/plain": [
       "-36.96296878486016"
      ]
     },
     "execution_count": 59,
     "metadata": {},
     "output_type": "execute_result"
    }
   ],
   "source": [
    "mol_type = \"6r7m\"\n",
    "id = id_lowest\n",
    "algo = \"op\"\n",
    "#@load \"../../Data/hpc_out/$algo/2_$(mol_type)/1/$(id)_rwm_$(algo)_2_$(mol_type).jld2\" input output\n",
    "@load \"../../Data/hpc_out/rwm_$(algo)_2_$(mol_type)/$(id)_rwm_$(algo)_2_$(mol_type).jld2\" input output\n",
    "mindex = argmin(output[\"Es\"])\n",
    "ps = [output[\"P0s\"][mindex] / pw[1], output[\"P1s\"][mindex] / pw[2], output[\"P2s\"][mindex] / pw[3]]\n",
    "println(ps .* pwn)\n",
    "sum(ps .* pwn)"
   ]
  },
  {
   "cell_type": "code",
   "execution_count": 60,
   "metadata": {},
   "outputs": [
    {
     "name": "stdout",
     "output_type": "stream",
     "text": [
      "[84.69725244859323, -79.3362152942438, -41.485747234314324]\n"
     ]
    },
    {
     "data": {
      "text/plain": [
       "-36.12471007996489"
      ]
     },
     "execution_count": 60,
     "metadata": {},
     "output_type": "execute_result"
    }
   ],
   "source": [
    "mol_type = \"6r7m\"\n",
    "id = id_other\n",
    "algo = \"op\"\n",
    "#@load \"../../Data/hpc_out/$algo/2_$(mol_type)/1/$(id)_rwm_$(algo)_2_$(mol_type).jld2\" input output\n",
    "@load \"../../Data/hpc_out/rwm_$(algo)_2_$(mol_type)/$(id)_rwm_$(algo)_2_$(mol_type).jld2\" input output\n",
    "mindex = argmin(output[\"Es\"])\n",
    "ps = [output[\"P0s\"][mindex] / pw[1], output[\"P1s\"][mindex] / pw[2], output[\"P2s\"][mindex] / pw[3]]\n",
    "println(ps .* pwn)\n",
    "sum(ps .* pwn)"
   ]
  }
 ],
 "metadata": {
  "kernelspec": {
   "display_name": "julia_tda 1.10.6",
   "language": "julia",
   "name": "julia_tda-1.10"
  },
  "language_info": {
   "file_extension": ".jl",
   "mimetype": "application/julia",
   "name": "julia",
   "version": "1.10.6"
  }
 },
 "nbformat": 4,
 "nbformat_minor": 2
}
