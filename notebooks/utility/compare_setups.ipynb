{
 "cells": [
  {
   "cell_type": "code",
   "execution_count": 1,
   "metadata": {},
   "outputs": [
    {
     "name": "stderr",
     "output_type": "stream",
     "text": [
      "\u001b[32m\u001b[1m  Activating\u001b[22m\u001b[39m project at `~/Doktor/Code/MorphoMol/MorphoMolNotebooks`\n"
     ]
    }
   ],
   "source": [
    "import Pkg; \n",
    "\n",
    "cd(joinpath(@__DIR__, \"../../\"))\n",
    "Pkg.activate(\"Project.toml\")\n",
    "\n",
    "using MorphoMol\n",
    "using JLD2\n",
    "using LinearAlgebra\n",
    "using Rotations\n",
    "using Printf"
   ]
  },
  {
   "cell_type": "code",
   "execution_count": 8,
   "metadata": {},
   "outputs": [
    {
     "data": {
      "text/plain": [
       "get_aggregate_simulation_evaluation (generic function with 1 method)"
      ]
     },
     "execution_count": 8,
     "metadata": {},
     "output_type": "execute_result"
    }
   ],
   "source": [
    "function get_aggregate_simulation_evaluation(folder)\n",
    "    mol_type = \"6r7m\"\n",
    "    assembly_successes = 0\n",
    "    total_simulations = 0\n",
    "    id_index = 1\n",
    "    steps_from_init_to_success = Vector{Int}([])\n",
    "    for file in readdir(folder)\n",
    "        if split(file, \".\")[end] == \"jld2\"\n",
    "            try\n",
    "                @load \"$folder$file\" input output\n",
    "                exp_template_centers = MorphoMol.Utilities.TWOTMVSU_EXPERIMENTAL_ASSEMBLY[mol_type][\"template_centers\"]\n",
    "                exp_state = MorphoMol.Utilities.TWOTMVSU_EXPERIMENTAL_ASSEMBLY[mol_type][\"state\"]\n",
    "                theta = MorphoMol.Utilities.average_offset_distance(exp_template_centers, input[\"template_centers\"], exp_state, output[\"states\"][argmin(output[\"Es\"])])\n",
    "\n",
    "                total_simulations += 1\n",
    "                if theta < 2.0\n",
    "                    assembly_successes += 1\n",
    "                    push!(steps_from_init_to_success, argmin(output[\"Es\"]))\n",
    "                end\n",
    "            catch e\n",
    "                println(\"Error in $file\")\n",
    "            end\n",
    "        end\n",
    "    end\n",
    "    return total_simulations, assembly_successes/total_simulations, sum(steps_from_init_to_success)/length(steps_from_init_to_success)\n",
    "end"
   ]
  },
  {
   "cell_type": "code",
   "execution_count": 12,
   "metadata": {},
   "outputs": [
    {
     "name": "stdout",
     "output_type": "stream",
     "text": [
      "Moprphometric Approach\n",
      "Number of simulations: 198, Success ratio: 0.056, Steps to success: 5002\n"
     ]
    }
   ],
   "source": [
    "folder = \"../../Data/collected_simulation_results/rwm_ma_2_6r7m/\"\n",
    "ts, sr, sts = get_aggregate_simulation_evaluation(folder)\n",
    "println(\"Moprphometric Approach\")\n",
    "@printf(\"Number of simulations: %.0f, Success ratio: %.3f, Steps to success: %.0f\\n\", ts, sr, sts)"
   ]
  },
  {
   "cell_type": "code",
   "execution_count": 13,
   "metadata": {},
   "outputs": [
    {
     "name": "stdout",
     "output_type": "stream",
     "text": [
      "Error in 11_rwm_wp_2_6r7m.jld2\n",
      "Error in 12_rwm_wp_2_6r7m.jld2\n",
      "Error in 13_rwm_wp_2_6r7m.jld2\n",
      "Error in 15_rwm_wp_2_6r7m.jld2\n",
      "Error in 16_rwm_wp_2_6r7m.jld2\n",
      "Error in 17_rwm_wp_2_6r7m.jld2\n",
      "Error in 18_rwm_wp_2_6r7m.jld2\n",
      "Error in 21_rwm_wp_2_6r7m.jld2\n",
      "Error in 23_rwm_wp_2_6r7m.jld2\n",
      "Error in 24_rwm_wp_2_6r7m.jld2\n"
     ]
    },
    {
     "name": "stderr",
     "output_type": "stream",
     "text": [
      "\u001b[33m\u001b[1m┌ \u001b[22m\u001b[39m\u001b[33m\u001b[1mWarning: \u001b[22m\u001b[39mOpening file with JLD2.MmapIO failed, falling back to IOStream\n",
      "\u001b[33m\u001b[1m└ \u001b[22m\u001b[39m\u001b[90m@ JLD2 ~/.julia/packages/JLD2/9xHXH/src/JLD2.jl:175\u001b[39m\n",
      "\u001b[33m\u001b[1m┌ \u001b[22m\u001b[39m\u001b[33m\u001b[1mWarning: \u001b[22m\u001b[39mOpening file with JLD2.MmapIO failed, falling back to IOStream\n",
      "\u001b[33m\u001b[1m└ \u001b[22m\u001b[39m\u001b[90m@ JLD2 ~/.julia/packages/JLD2/9xHXH/src/JLD2.jl:175\u001b[39m\n"
     ]
    },
    {
     "name": "stdout",
     "output_type": "stream",
     "text": [
      "Error in 26_rwm_wp_2_6r7m.jld2\n",
      "Error in 27_rwm_wp_2_6r7m.jld2\n"
     ]
    },
    {
     "name": "stderr",
     "output_type": "stream",
     "text": [
      "\u001b[33m\u001b[1m┌ \u001b[22m\u001b[39m\u001b[33m\u001b[1mWarning: \u001b[22m\u001b[39mOpening file with JLD2.MmapIO failed, falling back to IOStream\n",
      "\u001b[33m\u001b[1m└ \u001b[22m\u001b[39m\u001b[90m@ JLD2 ~/.julia/packages/JLD2/9xHXH/src/JLD2.jl:175\u001b[39m\n"
     ]
    },
    {
     "name": "stdout",
     "output_type": "stream",
     "text": [
      "Error in 29_rwm_wp_2_6r7m.jld2\n",
      "Error in 2_rwm_wp_2_6r7m.jld2\n",
      "Error in 31_rwm_wp_2_6r7m.jld2\n",
      "Error in 35_rwm_wp_2_6r7m.jld2\n",
      "Error in 38_rwm_wp_2_6r7m.jld2\n",
      "Error in 39_rwm_wp_2_6r7m.jld2\n",
      "Error in 3_rwm_wp_2_6r7m.jld2\n",
      "Error in 41_rwm_wp_2_6r7m.jld2\n",
      "Error in 42_rwm_wp_2_6r7m.jld2\n",
      "Error in 44_rwm_wp_2_6r7m.jld2\n",
      "Error in 46_rwm_wp_2_6r7m.jld2\n"
     ]
    },
    {
     "name": "stderr",
     "output_type": "stream",
     "text": [
      "\u001b[33m\u001b[1m┌ \u001b[22m\u001b[39m\u001b[33m\u001b[1mWarning: \u001b[22m\u001b[39mOpening file with JLD2.MmapIO failed, falling back to IOStream\n",
      "\u001b[33m\u001b[1m└ \u001b[22m\u001b[39m\u001b[90m@ JLD2 ~/.julia/packages/JLD2/9xHXH/src/JLD2.jl:175\u001b[39m\n"
     ]
    },
    {
     "name": "stdout",
     "output_type": "stream",
     "text": [
      "Error in 48_rwm_wp_2_6r7m.jld2\n",
      "Error in 53_rwm_wp_2_6r7m.jld2\n",
      "Error in 54_rwm_wp_2_6r7m.jld2\n",
      "Error in 56_rwm_wp_2_6r7m.jld2\n",
      "Error in 57_rwm_wp_2_6r7m.jld2\n",
      "Error in 58_rwm_wp_2_6r7m.jld2\n"
     ]
    },
    {
     "name": "stderr",
     "output_type": "stream",
     "text": [
      "\u001b[33m\u001b[1m┌ \u001b[22m\u001b[39m\u001b[33m\u001b[1mWarning: \u001b[22m\u001b[39mOpening file with JLD2.MmapIO failed, falling back to IOStream\n",
      "\u001b[33m\u001b[1m└ \u001b[22m\u001b[39m\u001b[90m@ JLD2 ~/.julia/packages/JLD2/9xHXH/src/JLD2.jl:175\u001b[39m\n"
     ]
    },
    {
     "name": "stdout",
     "output_type": "stream",
     "text": [
      "Error in 67_rwm_wp_2_6r7m.jld2\n",
      "Error in 68_rwm_wp_2_6r7m.jld2\n",
      "Error in 69_rwm_wp_2_6r7m.jld2\n",
      "Error in 71_rwm_wp_2_6r7m.jld2\n",
      "Error in 73_rwm_wp_2_6r7m.jld2\n",
      "Error in 74_rwm_wp_2_6r7m.jld2\n",
      "Error in 75_rwm_wp_2_6r7m.jld2\n",
      "Error in 76_rwm_wp_2_6r7m.jld2\n",
      "Error in 77_rwm_wp_2_6r7m.jld2\n",
      "Error in 78_rwm_wp_2_6r7m.jld2\n"
     ]
    },
    {
     "name": "stderr",
     "output_type": "stream",
     "text": [
      "\u001b[33m\u001b[1m┌ \u001b[22m\u001b[39m\u001b[33m\u001b[1mWarning: \u001b[22m\u001b[39mOpening file with JLD2.MmapIO failed, falling back to IOStream\n",
      "\u001b[33m\u001b[1m└ \u001b[22m\u001b[39m\u001b[90m@ JLD2 ~/.julia/packages/JLD2/9xHXH/src/JLD2.jl:175\u001b[39m\n"
     ]
    },
    {
     "name": "stdout",
     "output_type": "stream",
     "text": [
      "Error in 80_rwm_wp_2_6r7m.jld2\n",
      "Error in 81_rwm_wp_2_6r7m.jld2\n",
      "Error in 82_rwm_wp_2_6r7m.jld2\n"
     ]
    },
    {
     "name": "stderr",
     "output_type": "stream",
     "text": [
      "\u001b[33m\u001b[1m┌ \u001b[22m\u001b[39m\u001b[33m\u001b[1mWarning: \u001b[22m\u001b[39mOpening file with JLD2.MmapIO failed, falling back to IOStream\n",
      "\u001b[33m\u001b[1m└ \u001b[22m\u001b[39m\u001b[90m@ JLD2 ~/.julia/packages/JLD2/9xHXH/src/JLD2.jl:175\u001b[39m\n"
     ]
    },
    {
     "name": "stdout",
     "output_type": "stream",
     "text": [
      "Error in 85_rwm_wp_2_6r7m.jld2\n",
      "Error in 88_rwm_wp_2_6r7m.jld2\n",
      "Error in 92_rwm_wp_2_6r7m.jld2\n",
      "Error in 95_rwm_wp_2_6r7m.jld2\n",
      "Error in 96_rwm_wp_2_6r7m.jld2\n",
      "Error in 99_rwm_wp_2_6r7m.jld2\n",
      "Moprphometric Approach with Persistence\n",
      "Number of simulations: 148, Success ratio: 0.155, Steps to success: 566\n"
     ]
    }
   ],
   "source": [
    "folder = \"../../Data/collected_simulation_results/rwm_wp_2_6r7m/\"\n",
    "ts, sr, sts = get_aggregate_simulation_evaluation(folder)\n",
    "println(\"Moprphometric Approach with Persistence\")\n",
    "@printf(\"Number of simulations: %.0f, Success ratio: %.3f, Steps to success: %.0f\\n\", ts, sr, sts)"
   ]
  },
  {
   "cell_type": "code",
   "execution_count": 11,
   "metadata": {},
   "outputs": [
    {
     "name": "stdout",
     "output_type": "stream",
     "text": [
      "Only Persistence\n",
      "Number of simulations: 76, Success ratio: 0.039, Steps to success: 1018\n"
     ]
    }
   ],
   "source": [
    "folder = \"../../Data/collected_simulation_results/rwm_op_2_6r7m/\"\n",
    "ts, sr, sts = get_aggregate_simulation_evaluation(folder)\n",
    "println(\"Only Persistence\")\n",
    "@printf(\"Number of simulations: %.0f, Success ratio: %.3f, Steps to success: %.0f\\n\", ts, sr, sts)"
   ]
  }
 ],
 "metadata": {
  "kernelspec": {
   "display_name": "Julia Oineus 1.10.4",
   "language": "julia",
   "name": "julia-oineus-1.10"
  },
  "language_info": {
   "file_extension": ".jl",
   "mimetype": "application/julia",
   "name": "julia",
   "version": "1.10.4"
  }
 },
 "nbformat": 4,
 "nbformat_minor": 2
}
