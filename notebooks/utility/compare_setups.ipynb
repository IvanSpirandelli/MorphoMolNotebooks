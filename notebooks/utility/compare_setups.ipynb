{
 "cells": [
  {
   "cell_type": "code",
   "execution_count": 1,
   "metadata": {},
   "outputs": [
    {
     "name": "stderr",
     "output_type": "stream",
     "text": [
      "\u001b[32m\u001b[1m  Activating\u001b[22m\u001b[39m project at `~/Doktor/Code/MorphoMol/MorphoMolNotebooks`\n",
      "\u001b[32m\u001b[1mPrecompiling\u001b[22m\u001b[39m MorphoMol\n",
      "\u001b[32m  ✓ \u001b[39mMorphoMol\n",
      "  1 dependency successfully precompiled in 4 seconds. 243 already precompiled.\n"
     ]
    }
   ],
   "source": [
    "import Pkg; \n",
    "\n",
    "if split(pwd(),\"/\")[end] == \"utility\"\n",
    "    cd(joinpath(@__DIR__, \"../../\"))\n",
    "    Pkg.activate(\"Project.toml\")\n",
    "end\n",
    "\n",
    "\n",
    "using MorphoMol\n",
    "using JLD2\n",
    "using LinearAlgebra\n",
    "using Rotations\n",
    "using Printf"
   ]
  },
  {
   "cell_type": "code",
   "execution_count": 5,
   "metadata": {},
   "outputs": [
    {
     "data": {
      "text/plain": [
       "get_aggregate_simulation_evaluation (generic function with 1 method)"
      ]
     },
     "execution_count": 5,
     "metadata": {},
     "output_type": "execute_result"
    }
   ],
   "source": [
    "function get_aggregate_simulation_evaluation(folder)\n",
    "    mol_type = \"6r7m\"\n",
    "    assembly_successes = 0\n",
    "    total_simulations = 0\n",
    "    id_index = 1\n",
    "    steps_from_init_to_success = Vector{Int}([])\n",
    "    steps_from_last_max_to_success = Vector{Int}([])\n",
    "    acceptance_rates = Vector{Float64}([])\n",
    "\n",
    "    for file in readdir(folder)\n",
    "        if split(file, \".\")[end] == \"jld2\"\n",
    "            try\n",
    "                @load \"$folder$file\" input output\n",
    "\n",
    "                E_min_index = argmin(output[\"Es\"])\n",
    "                E_max_index = argmax(output[\"Es\"])\n",
    "\n",
    "                # Crude test to exclude runs that remained dispersed\n",
    "                if maximum(output[\"Es\"]) - minimum(output[\"Es\"]) < 10.0\n",
    "                    println(\"E_diff = $(output[\"Es\"][E_max_index] - output[\"Es\"][E_min_index])\")\n",
    "                    continue\n",
    "                end\n",
    "\n",
    "                exp_template_centers = MorphoMol.Utilities.TWOTMVSU_EXPERIMENTAL_ASSEMBLY[mol_type][\"template_centers\"]\n",
    "                exp_state = MorphoMol.Utilities.TWOTMVSU_EXPERIMENTAL_ASSEMBLY[mol_type][\"state\"]\n",
    "                theta = MorphoMol.Utilities.average_offset_distance(exp_template_centers, input[\"template_centers\"], exp_state, output[\"states\"][argmin(output[\"Es\"])])\n",
    "                push!(acceptance_rates, output[\"αs\"][end])\n",
    "\n",
    "                E_max = maximum(output[\"Es\"])\n",
    "                last_E_disp_index = E_max_index > E_min_index ? 1 : findall(x->x≈E_max, output[\"Es\"][1:E_min_index])[end]\n",
    "    \n",
    "                total_simulations += 1\n",
    "                if theta < 2.0\n",
    "                    assembly_successes += 1\n",
    "                    push!(steps_from_init_to_success, E_min_index)\n",
    "                    push!(steps_from_last_max_to_success, E_min_index - last_E_disp_index)\n",
    "                end\n",
    "            catch e\n",
    "                println(\"Error in $file\")\n",
    "            end\n",
    "        end\n",
    "    end\n",
    "    return total_simulations, assembly_successes/total_simulations, sum(steps_from_init_to_success)/length(steps_from_init_to_success), sum(steps_from_last_max_to_success)/length(steps_from_init_to_success), sum(acceptance_rates) / length(acceptance_rates)\n",
    "end"
   ]
  },
  {
   "cell_type": "code",
   "execution_count": 6,
   "metadata": {},
   "outputs": [
    {
     "name": "stdout",
     "output_type": "stream",
     "text": [
      "Morphometric Approach\n",
      "Number of simulations: 75, Success ratio: 0.107\n",
      "Steps from init to success: 6116, Steps from last max to success: 2327\n",
      "Average acceptance rate: 0.19"
     ]
    }
   ],
   "source": [
    "#folder = \"../../Data/collected_simulation_results/rwm_ma_2_6r7m/\"\n",
    "folder = \"../../Data/hpc_out/rwm_ma_2_6r7m/\"\n",
    "ts, sr, sfits, sfmts, aar = get_aggregate_simulation_evaluation(folder)\n",
    "println(\"Morphometric Approach\")\n",
    "@printf(\"Number of simulations: %.0f, Success ratio: %.3f\\nSteps from init to success: %.0f, Steps from last max to success: %.0f\\nAverage acceptance rate: %.2f\", ts, sr, sfits, sfmts, aar)"
   ]
  },
  {
   "cell_type": "code",
   "execution_count": 7,
   "metadata": {},
   "outputs": [
    {
     "name": "stdout",
     "output_type": "stream",
     "text": [
      "Morphometric Approach with Persistence\n",
      "Number of simulations: 95, Success ratio: 0.137\n",
      "Steps from init to success: 5124, Steps from last max to success: 4037\n",
      "Average acceptance rate: 0.23"
     ]
    }
   ],
   "source": [
    "folder = \"../../Data/hpc_out/rwm_wp_2_6r7m/\"\n",
    "ts, sr, sfits, sfmts, aar = get_aggregate_simulation_evaluation(folder)\n",
    "println(\"Morphometric Approach with Persistence\")\n",
    "@printf(\"Number of simulations: %.0f, Success ratio: %.3f\\nSteps from init to success: %.0f, Steps from last max to success: %.0f\\nAverage acceptance rate: %.2f\", ts, sr, sfits, sfmts, aar)"
   ]
  },
  {
   "cell_type": "code",
   "execution_count": 9,
   "metadata": {},
   "outputs": [
    {
     "name": "stdout",
     "output_type": "stream",
     "text": [
      "Only Persistence\n",
      "Number of simulations: 92, Success ratio: 0.011\n",
      "Steps from init to success: 15773, Steps from last max to success: 15772\n",
      "Average acceptance rate: 0.28"
     ]
    }
   ],
   "source": [
    "folder = \"../../Data/hpc_out/rwm_op_2_6r7m/\"\n",
    "ts, sr, sfits, sfmts, aar = get_aggregate_simulation_evaluation(folder)\n",
    "println(\"Only Persistence\")\n",
    "@printf(\"Number of simulations: %.0f, Success ratio: %.3f\\nSteps from init to success: %.0f, Steps from last max to success: %.0f\\nAverage acceptance rate: %.2f\", ts, sr, sfits, sfmts, aar)"
   ]
  },
  {
   "cell_type": "code",
   "execution_count": 11,
   "metadata": {},
   "outputs": [
    {
     "name": "stdout",
     "output_type": "stream",
     "text": [
      "E_diff = 0.17588891449122457\n",
      "E_diff = 2.309947250445475\n",
      "E_diff = 9.081121571569383\n",
      "E_diff = 1.2891706372483895\n",
      "E_diff = 0.18905542237007467\n",
      "E_diff = 0.05964941272395663\n",
      "E_diff = 0.183649390561186\n",
      "E_diff = 1.146658331655999\n",
      "E_diff = 0.16609082444483647\n",
      "E_diff = 0.19282971879874822\n",
      "E_diff = 4.020013015486256\n",
      "E_diff = 0.17980169574184401\n",
      "E_diff = 0.10223419732392358\n",
      "E_diff = 0.17684290282159054\n",
      "E_diff = 0.25411825279297773\n",
      "E_diff = 0.1740903117279231\n",
      "E_diff = 0.16827574921080668\n",
      "E_diff = 8.071846033895781\n",
      "E_diff = 0.22411166241727187\n",
      "E_diff = 6.657116680400577\n",
      "E_diff = 0.19947445879915904\n",
      "E_diff = 8.735221106200697\n",
      "E_diff = 0.23225610318331746\n",
      "E_diff = 0.23643626219200087\n",
      "E_diff = 0.2577421406404028\n",
      "E_diff = 0.22874577008042252\n",
      "E_diff = 0.19230514722221415\n",
      "E_diff = 8.175936395649842\n",
      "E_diff = 0.14797095430003537\n",
      "E_diff = 0.13818695597001351\n",
      "E_diff = 0.10445134579458681\n",
      "E_diff = 0.24065456361859106\n",
      "E_diff = 0.3018426446687954\n",
      "E_diff = 3.6959893571183784\n",
      "E_diff = 0.13236933948610385\n",
      "E_diff = 0.2008415792915912\n",
      "E_diff = 0.2541665498793009\n",
      "E_diff = 0.1788495571436215\n",
      "E_diff = 0.2485147613188019\n",
      "Morphometric Approach with Interface Persistence\n",
      "Number of simulations: 55, Success ratio: 0.000, Steps from init to success: NaN, Steps from last max to success: NaN\n"
     ]
    }
   ],
   "source": [
    "folder = \"../../Data/hpc_out/rwm_wip_2_6r7m/\"\n",
    "ts, sr, sfits, sfmts = get_aggregate_simulation_evaluation(folder)\n",
    "println(\"Morphometric Approach with Interface Persistence\")\n",
    "@printf(\"Number of simulations: %.0f, Success ratio: %.3f, Steps from init to success: %.0f, Steps from last max to success: %.0f\\n\", ts, sr, sfits, sfmts)"
   ]
  }
 ],
 "metadata": {
  "kernelspec": {
   "display_name": "Julia Oineus 1.10.4",
   "language": "julia",
   "name": "julia-oineus-1.10"
  },
  "language_info": {
   "file_extension": ".jl",
   "mimetype": "application/julia",
   "name": "julia",
   "version": "1.10.4"
  }
 },
 "nbformat": 4,
 "nbformat_minor": 2
}
