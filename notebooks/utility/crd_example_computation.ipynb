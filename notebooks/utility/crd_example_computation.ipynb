{
 "cells": [
  {
   "cell_type": "code",
   "execution_count": 1,
   "metadata": {},
   "outputs": [
    {
     "name": "stderr",
     "output_type": "stream",
     "text": [
      "\u001b[32m\u001b[1m  Activating\u001b[22m\u001b[39m project at `~/Doktor/Code/MorphoMol/MorphoMolNotebooks`\n",
      "\u001b[32m\u001b[1mPrecompiling\u001b[22m\u001b[39m MorphoMolNotebooks\n",
      "\u001b[32m  ✓ \u001b[39mMorphoMol\n",
      "\u001b[32m  ✓ \u001b[39mMorphoMolNotebooks\n",
      "  2 dependencies successfully precompiled in 8 seconds. 279 already precompiled.\n"
     ]
    }
   ],
   "source": [
    "import Pkg; \n",
    "\n",
    "if split(pwd(),\"/\")[end] == \"utility\"\n",
    "    cd(joinpath(@__DIR__, \"../../\"))\n",
    "    Pkg.activate(\"Project.toml\")\n",
    "end\n",
    "\n",
    "using MorphoMolNotebooks\n",
    "using MorphoMol"
   ]
  },
  {
   "cell_type": "code",
   "execution_count": 2,
   "metadata": {},
   "outputs": [],
   "source": [
    "lines = readlines(\"assets/max.crd\")\n",
    "points = Vector{Vector{Float64}}([])\n",
    "radii = Vector{Float64}([])\n",
    "for line in lines\n",
    "    push!(points, map(x->parse(Float64, x), split(line))[1:3])\n",
    "    push!(radii, parse(Float64, split(line)[4]))\n",
    "end\n",
    "points, radii\n",
    "points = vcat(points...);"
   ]
  },
  {
   "cell_type": "code",
   "execution_count": 3,
   "metadata": {},
   "outputs": [
    {
     "data": {
      "text/plain": [
       "4-element Vector{Float64}:\n",
       " 28210.161745502366\n",
       " 31931.290596546136\n",
       "  7683.96306805478\n",
       " -4347.964232568273"
      ]
     },
     "execution_count": 3,
     "metadata": {},
     "output_type": "execute_result"
    }
   ],
   "source": [
    "MorphoMol.Energies.get_geometric_measures(points, radii, 0.0, 100.0)"
   ]
  },
  {
   "cell_type": "code",
   "execution_count": 4,
   "metadata": {},
   "outputs": [
    {
     "data": {
      "text/plain": [
       "4-element Vector{Float64}:\n",
       " 14.191621213816292\n",
       " 33.17521842190822\n",
       " 23.540276903519608\n",
       " 12.566370614359174"
      ]
     },
     "execution_count": 4,
     "metadata": {},
     "output_type": "execute_result"
    }
   ],
   "source": [
    "points = [0.0, 0.0, 0.0, 2.0, 0.0, 0.0]\n",
    "radii = [1.0, 1.0]\n",
    "\n",
    "rs = 0.2\n",
    "MorphoMol.Energies.get_geometric_measures(points, radii, rs, 10.0)"
   ]
  },
  {
   "cell_type": "code",
   "execution_count": 14,
   "metadata": {},
   "outputs": [
    {
     "data": {
      "text/plain": [
       "33.17521842190822"
      ]
     },
     "execution_count": 14,
     "metadata": {},
     "output_type": "execute_result"
    }
   ],
   "source": [
    "sa(r) = 4 * π * r^2\n",
    "sca(r, rs) = 2 * π * r * rs\n",
    "\n",
    "r = 1.2\n",
    "rs = 0.2\n",
    "\n",
    "2 * (sa(r) - sca(r, rs))"
   ]
  },
  {
   "cell_type": "code",
   "execution_count": 17,
   "metadata": {},
   "outputs": [
    {
     "data": {
      "text/plain": [
       "3.0159289474462017"
      ]
     },
     "execution_count": 17,
     "metadata": {},
     "output_type": "execute_result"
    }
   ],
   "source": [
    "2 * sca(r, rs)"
   ]
  },
  {
   "cell_type": "code",
   "execution_count": 15,
   "metadata": {},
   "outputs": [
    {
     "data": {
      "text/plain": [
       "14.19162121381629"
      ]
     },
     "execution_count": 15,
     "metadata": {},
     "output_type": "execute_result"
    }
   ],
   "source": [
    "sv(r) = 4/3 * π * r^3\n",
    "scv(r, h) = π/3 * h^2 * (3 * r - h)\n",
    "\n",
    "r = 1.2\n",
    "rs = 0.2\n",
    "\n",
    "2 * (sv(r) - scv(r, rs))"
   ]
  },
  {
   "cell_type": "code",
   "execution_count": null,
   "metadata": {},
   "outputs": [],
   "source": []
  }
 ],
 "metadata": {
  "kernelspec": {
   "display_name": "julia_oineus 1.10.6",
   "language": "julia",
   "name": "julia_oineus-1.10"
  },
  "language_info": {
   "file_extension": ".jl",
   "mimetype": "application/julia",
   "name": "julia",
   "version": "1.10.6"
  }
 },
 "nbformat": 4,
 "nbformat_minor": 2
}
