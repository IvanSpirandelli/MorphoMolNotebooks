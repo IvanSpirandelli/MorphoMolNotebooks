{
 "cells": [
  {
   "cell_type": "code",
   "execution_count": 1,
   "metadata": {},
   "outputs": [
    {
     "name": "stderr",
     "output_type": "stream",
     "text": [
      "\u001b[32m\u001b[1m  Activating\u001b[22m\u001b[39m project at `~/Doktor/Code/MorphoMol/MorphoMolNotebooks`\n"
     ]
    }
   ],
   "source": [
    "import Pkg; \n",
    "\n",
    "if split(pwd(),\"/\")[end] == \"utility\"\n",
    "    cd(joinpath(@__DIR__, \"../../\"))\n",
    "    Pkg.activate(\"Project.toml\")\n",
    "end\n",
    "\n",
    "\n",
    "using MorphoMolNotebooks\n",
    "using MorphoMol"
   ]
  },
  {
   "cell_type": "code",
   "execution_count": 10,
   "metadata": {},
   "outputs": [
    {
     "data": {
      "text/plain": [
       "101-element Vector{Float64}:\n",
       " 1.008\n",
       " 1.008\n",
       " 1.008\n",
       " 1.008\n",
       " 1.008\n",
       " 1.008\n",
       " 1.008\n",
       " 1.008\n",
       " 1.008\n",
       " 1.008\n",
       " 1.008\n",
       " 1.008\n",
       " 1.008\n",
       " ⋮\n",
       " 1.008\n",
       " 1.008\n",
       " 1.008\n",
       " 1.008\n",
       " 1.008\n",
       " 1.008\n",
       " 1.008\n",
       " 1.008\n",
       " 1.008\n",
       " 1.008\n",
       " 1.008\n",
       " 1.008"
      ]
     },
     "execution_count": 10,
     "metadata": {},
     "output_type": "execute_result"
    }
   ],
   "source": [
    "lines = readlines(\"assets/test.crd\")\n",
    "points = Vector{Vector{Float64}}([])\n",
    "radii = Vector{Float64}([])\n",
    "for line in lines\n",
    "    push!(points, map(x->parse(Float64, x), split(line))[1:3])\n",
    "    push!(radii, parse(Float64, split(line)[4]))\n",
    "end\n",
    "points, radii\n",
    "points = vcat(points...)\n",
    "radii"
   ]
  },
  {
   "cell_type": "code",
   "execution_count": 14,
   "metadata": {},
   "outputs": [
    {
     "data": {
      "text/plain": [
       "4-element Vector{Float64}:\n",
       "  98.7223255374365\n",
       " 145.2402709526984\n",
       " -27.695450491914976\n",
       "  25.132741228720686"
      ]
     },
     "execution_count": 14,
     "metadata": {},
     "output_type": "execute_result"
    }
   ],
   "source": [
    "MorphoMol.Energies.get_geometric_measures(points, radii, 0.1007)"
   ]
  }
 ],
 "metadata": {
  "kernelspec": {
   "display_name": "Julia Oineus 1.10.4",
   "language": "julia",
   "name": "julia-oineus-1.10"
  },
  "language_info": {
   "file_extension": ".jl",
   "mimetype": "application/julia",
   "name": "julia",
   "version": "1.10.4"
  }
 },
 "nbformat": 4,
 "nbformat_minor": 2
}
