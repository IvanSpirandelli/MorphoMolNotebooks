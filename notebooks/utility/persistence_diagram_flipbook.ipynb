{
 "cells": [
  {
   "cell_type": "code",
   "execution_count": 2,
   "metadata": {},
   "outputs": [
    {
     "name": "stderr",
     "output_type": "stream",
     "text": [
      "\u001b[32m\u001b[1m  Activating\u001b[22m\u001b[39m project at `~/Doktor/Code/MorphoMol/MorphoMolNotebooks`\n",
      "\u001b[32m\u001b[1mPrecompiling\u001b[22m\u001b[39m MorphoMol\n",
      "\u001b[32m  ✓ \u001b[39mMorphoMol\n",
      "  1 dependency successfully precompiled in 3 seconds. 243 already precompiled.\n",
      "\u001b[36m\u001b[1m[ \u001b[22m\u001b[39m\u001b[36m\u001b[1mInfo: \u001b[22m\u001b[39mPrecompiling MorphoMol [85e20460-a9b2-48f6-9df6-e154e9748d83]\n"
     ]
    }
   ],
   "source": [
    "import Pkg; \n",
    "\n",
    "cd(joinpath(@__DIR__, \"../../\"))\n",
    "Pkg.activate(\"Project.toml\")\n",
    "\n",
    "using MorphoMol\n",
    "using PyCall\n",
    "using JLD2\n",
    "using LinearAlgebra\n",
    "using NearestNeighbors\n",
    "using Rotations\n",
    "using GLMakie"
   ]
  },
  {
   "cell_type": "code",
   "execution_count": 3,
   "metadata": {},
   "outputs": [
    {
     "data": {
      "text/plain": [
       "get_persistence_diagram (generic function with 1 method)"
      ]
     },
     "execution_count": 3,
     "metadata": {},
     "output_type": "execute_result"
    }
   ],
   "source": [
    "function get_persistence_diagram(points)\n",
    "    py\"\"\"\n",
    "    import oineus as oin\n",
    "    import numpy as np\n",
    "    import torch\n",
    "    import diode\n",
    "\n",
    "    def get_persistence_diagram(points):\n",
    "        points = np.asarray(points)\n",
    "        simplices = diode.fill_alpha_shapes(points)\n",
    "        fil = oin.Filtration_double([oin.Simplex_double(s[0], s[1]) for s in simplices])\n",
    "\n",
    "        dcmp = oin.Decomposition(fil, True)\n",
    "        params = oin.ReductionParams()\n",
    "        dcmp.reduce(params)\n",
    "        dgm = dcmp.diagram(fil, include_inf_points=False)\n",
    "        return dgm\n",
    "    \"\"\"\n",
    "    py\"get_persistence_diagram\"(points)\n",
    "end"
   ]
  },
  {
   "cell_type": "code",
   "execution_count": 4,
   "metadata": {},
   "outputs": [
    {
     "data": {
      "text/plain": [
       "txt_to_points (generic function with 1 method)"
      ]
     },
     "execution_count": 4,
     "metadata": {},
     "output_type": "execute_result"
    }
   ],
   "source": [
    "function get_tps(dgms)\n",
    "    [MorphoMol.Energies.get_total_persistence(dgm) for dgm in dgms]\n",
    "end\n",
    "    \n",
    "function get_fsols(folder)\n",
    "    files = readdir(folder)\n",
    "    n = length(files)\n",
    "    [parse(Float64, split(readlines(\"$(folder)$(i-1).txt\")[2], \" \")[6]) for i in 1:n]\n",
    "end\n",
    "\n",
    "function get_thetas(folder)\n",
    "    files = readdir(folder)\n",
    "    n = length(files)\n",
    "    [parse(Float64, split(readlines(\"$(folder)$(i-1).txt\")[2], \" \")[7]) for i in 1:n]\n",
    "end\n",
    "\n",
    "function txt_to_points(input_file)\n",
    "    [[parse(Float64, s) for s in split(p,\" \")] for p in readlines(input_file)[3:end]]\n",
    "end"
   ]
  },
  {
   "cell_type": "code",
   "execution_count": 5,
   "metadata": {},
   "outputs": [
    {
     "data": {
      "text/plain": [
       "get_configurations_from_folder (generic function with 1 method)"
      ]
     },
     "execution_count": 5,
     "metadata": {},
     "output_type": "execute_result"
    }
   ],
   "source": [
    "function get_configurations_from_folder(folder)\n",
    "    files = readdir(folder)\n",
    "    realizations = [Vector{Vector{Vector{Float64}}}([]) for i in 1:length(files)]\n",
    "    for file in readdir(folder)\n",
    "        centers = txt_to_points(\"$(folder)$(file)\")\n",
    "        n_atoms_per_mol = Int(length(centers) / 2)\n",
    "        c1 = centers[1:n_atoms_per_mol]\n",
    "        c2 = centers[n_atoms_per_mol+1:end]\n",
    "        realizations[parse(Int, split(file, \".\")[1]) + 1] = [c1, c2]\n",
    "    end\n",
    "    realizations\n",
    "end"
   ]
  },
  {
   "cell_type": "code",
   "execution_count": 6,
   "metadata": {},
   "outputs": [
    {
     "data": {
      "text/plain": [
       "folder_of_txts_to_jld2_with_persistence_computation (generic function with 1 method)"
      ]
     },
     "execution_count": 6,
     "metadata": {},
     "output_type": "execute_result"
    }
   ],
   "source": [
    "function folder_of_txts_to_jld2_with_persistence_computation(folder)\n",
    "    mol_type = split(folder, \"/\")[end-2]\n",
    "    idx = split(folder, \"/\")[end-1]\n",
    "    py_dgms = MorphoMol.Energies.get_interface_diagrams(folder)\n",
    "    dgms = [[dgm[1], dgm[2], dgm[3], dgm[4]] for dgm in py_dgms]\n",
    "    tps = get_tps(dgms)\n",
    "    Es = get_fsols(folder)\n",
    "    thetas = get_thetas(folder)\n",
    "    realizations = get_configurations_from_folder(folder)\n",
    "    @save \"../../Data/measure_paths/jld2s/$(mol_type)/$(idx).jld2\" dgms tps Es thetas realizations\n",
    "end"
   ]
  },
  {
   "cell_type": "code",
   "execution_count": 75,
   "metadata": {},
   "outputs": [],
   "source": [
    "# folder = \"../../Data/measure_paths/txts/6r7m/\"\n",
    "# for subdir in readdir(folder)\n",
    "#     if subdir != \".DS_Store\"\n",
    "#         folder_of_txts_to_jld2_with_persistence_computation(\"$(folder)$(subdir)/\")\n",
    "#     end\n",
    "# end\n",
    "\n",
    "# folder = \"../../Data/measure_paths/txts/6r7m/1/\"\n",
    "# dgms = get_interface_diagrams(folder)\n",
    "# xs = [i for i in 1:length(dgms)]\n",
    "# dgms_selection = [[dgm[2]; dgm[3]] for dgm in dgms]\n",
    "# tps = get_tps(dgms_selection)\n",
    "# Es = get_fsols(folder)\n",
    "# thetas = get_thetas(folder);"
   ]
  },
  {
   "cell_type": "code",
   "execution_count": 51,
   "metadata": {},
   "outputs": [],
   "source": [
    "# @load \"../../Data/collected_simulation_results/rwm_ma_2_6r7m/52.jld2\" input output\n",
    "# realizations = [[e for e in eachcol(hcat(MorphoMol.Utilities.get_matrix_realization(state, input[\"template_centers\"])...))] for state in output[\"states\"]]\n",
    "# pdgms = [get_persistence_diagram(r) for r in realizations]\n",
    "# dgms = [[dgm[1], dgm[2], dgm[3]] for dgm in pdgms]\n",
    "# merge!(output, Dict(\"PDGMs\" => dgms))\n",
    "# merge!(input, Dict(\"mol_type\" => \"6r7m\"))\n",
    "# @save \"../../Data/examples/correct_assembly_ma_only.jld2\" input output"
   ]
  },
  {
   "cell_type": "code",
   "execution_count": 9,
   "metadata": {},
   "outputs": [],
   "source": [
    "@load \"../../Data/examples/correct_assembly_ma_only.jld2\" input output\n",
    "\n",
    "realizations = [[e for e in eachcol(hcat(MorphoMol.Utilities.get_matrix_realization(state, input[\"template_centers\"])...))] for state in output[\"states\"]]\n",
    "dgms = output[\"PDGMs\"]\n",
    "Es = output[\"Es\"]\n",
    "persistence_weight = -0.1\n",
    "realizations = [MorphoMol.Utilities.get_matrix_realization(state, input[\"template_centers\"]) for state in output[\"states\"]]\n",
    "cdgms2 = [dgm[2] for dgm in dgms]\n",
    "cdgms3 = [dgm[3] for dgm in dgms]\n",
    "cp2s = [MorphoMol.Energies.get_persistence(dgm) for dgm in cdgms2]\n",
    "cp3s = [MorphoMol.Energies.get_persistence(dgm) for dgm in cdgms3]\n",
    "mol_type = input[\"mol_type\"]    \n",
    "exp_template_centers = MorphoMol.Utilities.TWOTMVSU_EXPERIMENTAL_ASSEMBLY[mol_type][\"template_centers\"]\n",
    "exp_state = MorphoMol.Utilities.TWOTMVSU_EXPERIMENTAL_ASSEMBLY[mol_type][\"state\"]\n",
    "thetas = [MorphoMol.Utilities.average_offset_distance(exp_template_centers, input[\"template_centers\"], exp_state, state) for state in output[\"states\"]]\n",
    "xs = [i for i in 1:length(dgms)];\n",
    "zero_ps = [MorphoMol.Energies.get_persistence(dgm[1], 0.1) for dgm in dgms]\n",
    "one_ps = [MorphoMol.Energies.get_persistence(dgm[2], -0.1) for dgm in dgms]\n",
    "two_ps = [MorphoMol.Energies.get_persistence(dgm[3], -0.1) for dgm in dgms]\n",
    "tps = [MorphoMol.Energies.get_total_persistence(dgm, [0.1, -0.1, -0.1, 0.0]) for dgm in dgms];"
   ]
  },
  {
   "cell_type": "code",
   "execution_count": 12,
   "metadata": {},
   "outputs": [
    {
     "data": {
      "text/plain": [
       "GLMakie.Screen(...)"
      ]
     },
     "execution_count": 12,
     "metadata": {},
     "output_type": "execute_result"
    }
   ],
   "source": [
    "f = Figure(fontsize = 7)\n",
    "\n",
    "#Slider\n",
    "sl_i = Slider(f[4, 1:4], range = 1:length(dgms), startvalue = 1)\n",
    "x = sl_i.value\n",
    "\n",
    "# Persistence Diagrams\n",
    "pd_ax_a = Axis(f[1, 1], title = \"Persistence codim = 2\", xticks = 0:25:100, yticks = 0:25:100)\n",
    "pd_ax_b = Axis(f[1, 2], title = \"Persistence codim = 3\", xticks = 0:25:100, yticks = 0:25:100)\n",
    "dgm_points_2 = @lift([Point2f(dgms[$x][2][i,1], dgms[$x][2][i,2]) for i in 1:size(dgms[$x][2])[1]])\n",
    "dgm_points_3 = @lift([Point2f(dgms[$x][3][i,1], dgms[$x][3][i,2]) for i in 1:size(dgms[$x][3])[1]])\n",
    "\n",
    "ms = 5\n",
    "scatter!(pd_ax_a, dgm_points_2, color = :orange, markersize = ms)\n",
    "lines!(pd_ax_a, [0, 100], [0, 100], color=:black)\n",
    "scatter!(pd_ax_b, dgm_points_3, color = :green, markersize = ms)\n",
    "lines!(pd_ax_b, [0, 100], [0, 100], color=:black)\n",
    "\n",
    "#Energy and Theta\n",
    "theta_ax = Axis(f[2, 1], title = L\"\\Theta\")\n",
    "E_ax = Axis(f[2, 2], title = L\"F_{sol}\")\n",
    "\n",
    "theta_mark = @lift(Point2f($x, $@lift(thetas[$x])))\n",
    "E_mark = @lift(Point2f($x, $@lift(Es[$x])))\n",
    "\n",
    "scatter!(theta_ax, xs, thetas, color=:magenta, markersize = ms)\n",
    "scatter!(theta_ax, theta_mark, color=:black, markersize = 10)\n",
    "\n",
    "scatter!(E_ax, xs, Es, color=:blue, markersize = ms)\n",
    "scatter!(E_ax, E_mark, color=:black, markersize = 10)\n",
    "\n",
    "# Configuration\n",
    "conf_ax = Axis3(f[1:2, 3:4])\n",
    "c1_points = @lift([Point3f(realizations[$x][1][1,i], realizations[$x][1][2,i], realizations[$x][1][3,i]) for i in 1:size(realizations[$x][1])[2]])\n",
    "c2_points = @lift([Point3f(realizations[$x][2][1,i], realizations[$x][2][2,i], realizations[$x][2][3,i]) for i in 1:size(realizations[$x][2])[2]])\n",
    "\n",
    "conf_ms = 10\n",
    "scatter!(conf_ax, c1_points, markersize = conf_ms)\n",
    "scatter!(conf_ax, c2_points, markersize = conf_ms)\n",
    "\n",
    "#Persistence Measures\n",
    "zero_p_ax = Axis(f[3, 1], title = \"0.1 * total 0 persistence\")\n",
    "one_p_ax = Axis(f[3, 2], title = \"-0.1 * total 1 persistence\")\n",
    "two_p_ax = Axis(f[3, 3], title = \"-0.1 * total 2 persistence\")\n",
    "tp_ax = Axis(f[3, 4], title = \"Total Persistences Summed\")\n",
    "\n",
    "tp_mark = @lift(Point2f($x, $@lift(tps[$x])))\n",
    "\n",
    "zero_p_mark = @lift(Point2f($x, $@lift(zero_ps[$x])))\n",
    "one_p_mark = @lift(Point2f($x, $@lift(one_ps[$x])))\n",
    "two_p_mark = @lift(Point2f($x, $@lift(two_ps[$x])))\n",
    "\n",
    "scatter!(zero_p_ax, xs, zero_ps, color=:orange, markersize = ms)\n",
    "scatter!(zero_p_ax, zero_p_mark, color=:black, markersize = 10)\n",
    "\n",
    "scatter!(one_p_ax, xs, one_ps, color=:orange, markersize = ms)\n",
    "scatter!(one_p_ax, one_p_mark, color=:black, markersize = 10)\n",
    "\n",
    "scatter!(two_p_ax, xs, two_ps, color=:green, markersize = ms)\n",
    "scatter!(two_p_ax, two_p_mark, color=:black, markersize = 10)\n",
    "\n",
    "scatter!(tp_ax, xs, tps, color=:red, markersize = ms)\n",
    "scatter!(tp_ax, tp_mark, color = :black, markersize = 10)\n",
    "\n",
    "display(f)"
   ]
  }
 ],
 "metadata": {
  "kernelspec": {
   "display_name": "Julia Oineus 1.10.4",
   "language": "julia",
   "name": "julia-oineus-1.10"
  },
  "language_info": {
   "file_extension": ".jl",
   "mimetype": "application/julia",
   "name": "julia",
   "version": "1.10.4"
  }
 },
 "nbformat": 4,
 "nbformat_minor": 2
}
