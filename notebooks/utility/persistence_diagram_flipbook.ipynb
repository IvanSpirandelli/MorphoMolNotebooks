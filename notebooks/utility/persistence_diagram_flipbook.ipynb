{
 "cells": [
  {
   "cell_type": "code",
   "execution_count": 1,
   "metadata": {},
   "outputs": [
    {
     "name": "stderr",
     "output_type": "stream",
     "text": [
      "\u001b[32m\u001b[1m  Activating\u001b[22m\u001b[39m project at `~/Doktor/Code/MorphoMol/MorphoMolNotebooks`\n"
     ]
    }
   ],
   "source": [
    "import Pkg; \n",
    "\n",
    "cd(joinpath(@__DIR__, \"../../\"))\n",
    "Pkg.activate(\"Project.toml\")\n",
    "\n",
    "using MorphoMolNotebooks\n",
    "using MorphoMol\n",
    "using PyCall\n",
    "using JLD2\n",
    "using LinearAlgebra\n",
    "using NearestNeighbors\n",
    "using Rotations\n",
    "using GLMakie"
   ]
  },
  {
   "cell_type": "code",
   "execution_count": 2,
   "metadata": {},
   "outputs": [
    {
     "data": {
      "text/plain": [
       "get_persistence_diagram (generic function with 1 method)"
      ]
     },
     "execution_count": 2,
     "metadata": {},
     "output_type": "execute_result"
    }
   ],
   "source": [
    "function get_persistence_diagram(points)\n",
    "    py\"\"\"\n",
    "    import oineus as oin\n",
    "    import numpy as np\n",
    "    import torch\n",
    "    import diode\n",
    "\n",
    "    def get_persistence_diagram(points):\n",
    "        points = np.asarray(points)\n",
    "        simplices = diode.fill_alpha_shapes(points)\n",
    "        fil = oin.Filtration_double([oin.Simplex_double(s[0], s[1]) for s in simplices])\n",
    "\n",
    "        dcmp = oin.Decomposition(fil, True)\n",
    "        params = oin.ReductionParams()\n",
    "        dcmp.reduce(params)\n",
    "        dgm = dcmp.diagram(fil, include_inf_points=False)\n",
    "        return dgm\n",
    "    \"\"\"\n",
    "    py\"get_persistence_diagram\"(points)\n",
    "end"
   ]
  },
  {
   "cell_type": "code",
   "execution_count": 3,
   "metadata": {},
   "outputs": [
    {
     "data": {
      "text/plain": [
       "txt_to_points (generic function with 1 method)"
      ]
     },
     "execution_count": 3,
     "metadata": {},
     "output_type": "execute_result"
    }
   ],
   "source": [
    "function get_tps(dgms)\n",
    "    [MorphoMol.Energies.get_total_persistence(dgm) for dgm in dgms]\n",
    "end\n",
    "    \n",
    "function get_fsols(folder)\n",
    "    files = readdir(folder)\n",
    "    n = length(files)\n",
    "    [parse(Float64, split(readlines(\"$(folder)$(i-1).txt\")[2], \" \")[6]) for i in 1:n]\n",
    "end\n",
    "\n",
    "function get_thetas(folder)\n",
    "    files = readdir(folder)\n",
    "    n = length(files)\n",
    "    [parse(Float64, split(readlines(\"$(folder)$(i-1).txt\")[2], \" \")[7]) for i in 1:n]\n",
    "end\n",
    "\n",
    "function txt_to_points(input_file)\n",
    "    [[parse(Float64, s) for s in split(p,\" \")] for p in readlines(input_file)[3:end]]\n",
    "end"
   ]
  },
  {
   "cell_type": "code",
   "execution_count": 4,
   "metadata": {},
   "outputs": [
    {
     "data": {
      "text/plain": [
       "get_configurations_from_folder (generic function with 1 method)"
      ]
     },
     "execution_count": 4,
     "metadata": {},
     "output_type": "execute_result"
    }
   ],
   "source": [
    "function get_configurations_from_folder(folder)\n",
    "    files = readdir(folder)\n",
    "    realizations = [Vector{Vector{Vector{Float64}}}([]) for i in 1:length(files)]\n",
    "    for file in readdir(folder)\n",
    "        centers = txt_to_points(\"$(folder)$(file)\")\n",
    "        n_atoms_per_mol = Int(length(centers) / 2)\n",
    "        c1 = centers[1:n_atoms_per_mol]\n",
    "        c2 = centers[n_atoms_per_mol+1:end]\n",
    "        realizations[parse(Int, split(file, \".\")[1]) + 1] = [c1, c2]\n",
    "    end\n",
    "    realizations\n",
    "end"
   ]
  },
  {
   "cell_type": "code",
   "execution_count": 5,
   "metadata": {},
   "outputs": [
    {
     "data": {
      "text/plain": [
       "folder_of_txts_to_jld2_with_persistence_computation (generic function with 1 method)"
      ]
     },
     "execution_count": 5,
     "metadata": {},
     "output_type": "execute_result"
    }
   ],
   "source": [
    "function folder_of_txts_to_jld2_with_persistence_computation(folder)\n",
    "    mol_type = split(folder, \"/\")[end-2]\n",
    "    idx = split(folder, \"/\")[end-1]\n",
    "    py_dgms = MorphoMol.Energies.get_interface_diagrams(folder)\n",
    "    dgms = [[dgm[1], dgm[2], dgm[3], dgm[4]] for dgm in py_dgms]\n",
    "    tps = get_tps(dgms)\n",
    "    Es = get_fsols(folder)\n",
    "    thetas = get_thetas(folder)\n",
    "    realizations = get_configurations_from_folder(folder)\n",
    "    @save \"../../Data/measure_paths/jld2s/$(mol_type)/$(idx).jld2\" dgms tps Es thetas realizations\n",
    "end"
   ]
  },
  {
   "cell_type": "code",
   "execution_count": 75,
   "metadata": {},
   "outputs": [],
   "source": [
    "# folder = \"../../Data/measure_paths/txts/6r7m/\"\n",
    "# for subdir in readdir(folder)\n",
    "#     if subdir != \".DS_Store\"\n",
    "#         folder_of_txts_to_jld2_with_persistence_computation(\"$(folder)$(subdir)/\")\n",
    "#     end\n",
    "# end\n",
    "\n",
    "# folder = \"../../Data/measure_paths/txts/6r7m/1/\"\n",
    "# dgms = get_interface_diagrams(folder)\n",
    "# xs = [i for i in 1:length(dgms)]\n",
    "# dgms_selection = [[dgm[2]; dgm[3]] for dgm in dgms]\n",
    "# tps = get_tps(dgms_selection)\n",
    "# Es = get_fsols(folder)\n",
    "# thetas = get_thetas(folder);"
   ]
  },
  {
   "cell_type": "code",
   "execution_count": 51,
   "metadata": {},
   "outputs": [],
   "source": [
    "# @load \"../../Data/collected_simulation_results/rwm_ma_2_6r7m/52.jld2\" input output\n",
    "# realizations = [[e for e in eachcol(hcat(MorphoMol.Utilities.get_matrix_realization(state, input[\"template_centers\"])...))] for state in output[\"states\"]]\n",
    "# pdgms = [get_persistence_diagram(r) for r in realizations]\n",
    "# dgms = [[dgm[1], dgm[2], dgm[3]] for dgm in pdgms]\n",
    "# merge!(output, Dict(\"PDGMs\" => dgms))\n",
    "# merge!(input, Dict(\"mol_type\" => \"6r7m\"))\n",
    "# @save \"../../Data/examples/correct_assembly_ma_only.jld2\" input output"
   ]
  },
  {
   "cell_type": "code",
   "execution_count": 6,
   "metadata": {},
   "outputs": [],
   "source": [
    "@load \"../../Data/hpc_out/rwm_wp_2_6r7m/8_rwm_wp_2_6r7m.jld2\" input output\n",
    "display(MorphoMolNotebooks.interactive_simulation_analysis(merge!(input, Dict(\"mol_type\" => \"6r7m\")), output))"
   ]
  }
 ],
 "metadata": {
  "kernelspec": {
   "display_name": "Julia Oineus 1.10.4",
   "language": "julia",
   "name": "julia-oineus-1.10"
  },
  "language_info": {
   "file_extension": ".jl",
   "mimetype": "application/julia",
   "name": "julia",
   "version": "1.10.4"
  }
 },
 "nbformat": 4,
 "nbformat_minor": 2
}
