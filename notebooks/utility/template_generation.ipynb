{
 "cells": [
  {
   "cell_type": "code",
   "execution_count": 1,
   "metadata": {},
   "outputs": [
    {
     "name": "stderr",
     "output_type": "stream",
     "text": [
      "\u001b[32m\u001b[1m  Activating\u001b[22m\u001b[39m project at `~/Doktor/Code/MorphoMol/MorphoMolNotebooks`\n"
     ]
    }
   ],
   "source": [
    "import Pkg; \n",
    "\n",
    "if split(pwd(),\"/\")[end] == \"utility\"\n",
    "    cd(joinpath(@__DIR__, \"../../\"))\n",
    "    Pkg.activate(\"Project.toml\")\n",
    "end\n",
    "\n",
    "using MorphoMol\n",
    "using MorphoMolNotebooks\n",
    "using StaticArrays\n",
    "using Rotations\n",
    "using Distances\n",
    "using JLD2"
   ]
  },
  {
   "cell_type": "code",
   "execution_count": 2,
   "metadata": {},
   "outputs": [
    {
     "ename": "LoadError",
     "evalue": "IOError: readdir(\"../../Data/jld2/2_experimental/\"): no such file or directory (ENOENT)",
     "output_type": "error",
     "traceback": [
      "IOError: readdir(\"../../Data/jld2/2_experimental/\"): no such file or directory (ENOENT)",
      "",
      "Stacktrace:",
      " [1] uv_error",
      "   @ ./libuv.jl:100 [inlined]",
      " [2] readdir(dir::String; join::Bool, sort::Bool)",
      "   @ Base.Filesystem ./file.jl:869",
      " [3] readdir(dir::String)",
      "   @ Base.Filesystem ./file.jl:862",
      " [4] top-level scope",
      "   @ In[2]:3"
     ]
    }
   ],
   "source": [
    "experimental_templates = Dict()\n",
    "folder = \"../../Data/jld2/2_experimental/\"\n",
    "for file in readdir(folder)\n",
    "    mol_type = split(file, \"_\")[2]\n",
    "    @load \"$(folder)$(file)\" template_mol template_radii x_init\n",
    "    experimental_templates[mol_type] = Dict(\"template_centers\" => template_mol, \"template_radii\" => template_radii, \"state\" => x_init)\n",
    "end\n",
    "open(\"2su_experimental_assembly.jl\", \"w\") do file\n",
    "    write(file, \"TWOTMVSU_EXPERIMENTAL_ASSEMBLY = $(experimental_templates)\")\n",
    "end"
   ]
  },
  {
   "cell_type": "code",
   "execution_count": 2,
   "metadata": {},
   "outputs": [
    {
     "data": {
      "text/plain": [
       "554326"
      ]
     },
     "execution_count": 2,
     "metadata": {},
     "output_type": "execute_result"
    }
   ],
   "source": [
    "experimental_templates = MorphoMol.Utilities.TEMPLATES\n",
    "for mol_type in [\"1stm\"]\n",
    "    c,r = MorphoMolNotebooks.poly_to_configuration(\"assets/polys/$(mol_type).poly\")\n",
    "    template_centers = reshape(c, (3, div(size(c)[1], 3)))\n",
    "    template_radii = r\n",
    "    experimental_templates[mol_type] = Dict(\"template_centers\" => template_centers, \"template_radii\" => template_radii)\n",
    "end\n",
    "open(\"asymmetric_unit_templates.jl\", \"w\") do file\n",
    "    write(file, \"TEMPLATES = $(experimental_templates)\")\n",
    "end"
   ]
  }
 ],
 "metadata": {
  "kernelspec": {
   "display_name": "julia_tda_1.10 1.10.6",
   "language": "julia",
   "name": "julia_tda_1.10-1.10"
  },
  "language_info": {
   "file_extension": ".jl",
   "mimetype": "application/julia",
   "name": "julia",
   "version": "1.10.6"
  }
 },
 "nbformat": 4,
 "nbformat_minor": 2
}
